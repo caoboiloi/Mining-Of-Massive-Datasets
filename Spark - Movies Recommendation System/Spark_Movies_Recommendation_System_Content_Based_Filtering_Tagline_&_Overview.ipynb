{
  "nbformat": 4,
  "nbformat_minor": 0,
  "metadata": {
    "colab": {
      "name": "Spark_Movies_Recommendation_System_Content_Based_Filtering_Tagline_&_Overview.ipynb",
      "provenance": [],
      "collapsed_sections": []
    },
    "kernelspec": {
      "display_name": "Python 3",
      "name": "python3"
    },
    "language_info": {
      "name": "python"
    }
  },
  "cells": [
    {
      "cell_type": "markdown",
      "metadata": {
        "id": "KSiaD7rqNPVw"
      },
      "source": [
        "# LIBRARY"
      ]
    },
    {
      "cell_type": "code",
      "metadata": {
        "colab": {
          "base_uri": "https://localhost:8080/"
        },
        "id": "VbkdIU5MT3op",
        "outputId": "586c2b54-49b6-47cf-eddc-69b6fb9c028e"
      },
      "source": [
        "!pip install pyspark"
      ],
      "execution_count": 11,
      "outputs": [
        {
          "output_type": "stream",
          "text": [
            "Requirement already satisfied: pyspark in /usr/local/lib/python3.7/dist-packages (3.1.1)\n",
            "Requirement already satisfied: py4j==0.10.9 in /usr/local/lib/python3.7/dist-packages (from pyspark) (0.10.9)\n"
          ],
          "name": "stdout"
        }
      ]
    },
    {
      "cell_type": "code",
      "metadata": {
        "colab": {
          "base_uri": "https://localhost:8080/"
        },
        "id": "oLsKuFpUztmW",
        "outputId": "2d487b10-2cca-4933-ce70-464343fc5730"
      },
      "source": [
        "import pyspark\n",
        "import pandas as pd\n",
        "import numpy as np\n",
        "from pyspark import SparkConf, SparkContext\n",
        "from pyspark.sql import SparkSession\n",
        "from google.colab import drive\n",
        "import time\n",
        "from pyspark.sql import SQLContext\n",
        "drive.mount('/content/drive')\n",
        "import collections\n",
        "from pyspark.mllib.linalg import *\n",
        "from pyspark.ml.feature import HashingTF, IDF, Tokenizer, StopWordsRemover\n",
        "from pyspark.mllib.linalg import SparseVector\n",
        "from scipy.spatial import distance\n",
        "import json"
      ],
      "execution_count": 12,
      "outputs": [
        {
          "output_type": "stream",
          "text": [
            "Drive already mounted at /content/drive; to attempt to forcibly remount, call drive.mount(\"/content/drive\", force_remount=True).\n"
          ],
          "name": "stdout"
        }
      ]
    },
    {
      "cell_type": "markdown",
      "metadata": {
        "id": "w2sQRv2ANSl2"
      },
      "source": [
        "#LOAD DATASET"
      ]
    },
    {
      "cell_type": "code",
      "metadata": {
        "colab": {
          "base_uri": "https://localhost:8080/"
        },
        "id": "eT1jCVIMzfQQ",
        "outputId": "3b5e264d-9faa-4750-8b9a-26833b619af7"
      },
      "source": [
        "spark = SparkSession.builder.appName('MOVIES_RECOMMENDATION_SYSTEM').getOrCreate()\n",
        "# load data \n",
        "smd = spark.read.csv('/content/drive/MyDrive/BIGDATA/DOAN/NEWDATASET/movies_metadata.csv', header = True, inferSchema = True)\n",
        "smd.printSchema()\n",
        "begin1 = time.time()"
      ],
      "execution_count": 13,
      "outputs": [
        {
          "output_type": "stream",
          "text": [
            "root\n",
            " |-- adult: string (nullable = true)\n",
            " |-- belongs_to_collection: string (nullable = true)\n",
            " |-- budget: string (nullable = true)\n",
            " |-- genres: string (nullable = true)\n",
            " |-- homepage: string (nullable = true)\n",
            " |-- id: string (nullable = true)\n",
            " |-- imdb_id: string (nullable = true)\n",
            " |-- original_language: string (nullable = true)\n",
            " |-- original_title: string (nullable = true)\n",
            " |-- overview: string (nullable = true)\n",
            " |-- popularity: string (nullable = true)\n",
            " |-- poster_path: string (nullable = true)\n",
            " |-- production_companies: string (nullable = true)\n",
            " |-- production_countries: string (nullable = true)\n",
            " |-- release_date: string (nullable = true)\n",
            " |-- revenue: string (nullable = true)\n",
            " |-- runtime: string (nullable = true)\n",
            " |-- spoken_languages: string (nullable = true)\n",
            " |-- status: string (nullable = true)\n",
            " |-- tagline: string (nullable = true)\n",
            " |-- title: string (nullable = true)\n",
            " |-- video: string (nullable = true)\n",
            " |-- vote_average: string (nullable = true)\n",
            " |-- vote_count: string (nullable = true)\n",
            "\n"
          ],
          "name": "stdout"
        }
      ]
    },
    {
      "cell_type": "markdown",
      "metadata": {
        "id": "JSRuG1IrNZDE"
      },
      "source": [
        "# DATA PREPROCESSING"
      ]
    },
    {
      "cell_type": "code",
      "metadata": {
        "colab": {
          "base_uri": "https://localhost:8080/"
        },
        "id": "O0RUTt4xg0Pc",
        "outputId": "7ab1c3cd-b8fd-45b3-c2b9-9d4773a1a619"
      },
      "source": [
        "smd = smd.withColumn(\"id\", smd.id.cast(\"int\"))\n",
        "smd.printSchema()"
      ],
      "execution_count": 14,
      "outputs": [
        {
          "output_type": "stream",
          "text": [
            "root\n",
            " |-- adult: string (nullable = true)\n",
            " |-- belongs_to_collection: string (nullable = true)\n",
            " |-- budget: string (nullable = true)\n",
            " |-- genres: string (nullable = true)\n",
            " |-- homepage: string (nullable = true)\n",
            " |-- id: integer (nullable = true)\n",
            " |-- imdb_id: string (nullable = true)\n",
            " |-- original_language: string (nullable = true)\n",
            " |-- original_title: string (nullable = true)\n",
            " |-- overview: string (nullable = true)\n",
            " |-- popularity: string (nullable = true)\n",
            " |-- poster_path: string (nullable = true)\n",
            " |-- production_companies: string (nullable = true)\n",
            " |-- production_countries: string (nullable = true)\n",
            " |-- release_date: string (nullable = true)\n",
            " |-- revenue: string (nullable = true)\n",
            " |-- runtime: string (nullable = true)\n",
            " |-- spoken_languages: string (nullable = true)\n",
            " |-- status: string (nullable = true)\n",
            " |-- tagline: string (nullable = true)\n",
            " |-- title: string (nullable = true)\n",
            " |-- video: string (nullable = true)\n",
            " |-- vote_average: string (nullable = true)\n",
            " |-- vote_count: string (nullable = true)\n",
            "\n"
          ],
          "name": "stdout"
        }
      ]
    },
    {
      "cell_type": "code",
      "metadata": {
        "colab": {
          "base_uri": "https://localhost:8080/"
        },
        "id": "VVmFxFBKHYRJ",
        "outputId": "03743376-6771-4b67-e99f-fa71ec85cf97"
      },
      "source": [
        "# smd = smd.fillna({'tagline':'', 'overview':\"\", 'keywords':'', 'cast':'', 'director':'', 'genres':''})\n",
        "smd = smd.fillna({'tagline':'', 'overview':\"\"})\n",
        "smd.show()"
      ],
      "execution_count": 15,
      "outputs": [
        {
          "output_type": "stream",
          "text": [
            "+-----+---------------------+--------+--------------------+--------------------+-----+---------+-----------------+--------------------+--------------------+----------+--------------------+--------------------+--------------------+--------------------+--------------------+--------------------+--------------------+--------+--------------------+--------------------+--------+--------------------+-----------------+\n",
            "|adult|belongs_to_collection|  budget|              genres|            homepage|   id|  imdb_id|original_language|      original_title|            overview|popularity|         poster_path|production_companies|production_countries|        release_date|             revenue|             runtime|    spoken_languages|  status|             tagline|               title|   video|        vote_average|       vote_count|\n",
            "+-----+---------------------+--------+--------------------+--------------------+-----+---------+-----------------+--------------------+--------------------+----------+--------------------+--------------------+--------------------+--------------------+--------------------+--------------------+--------------------+--------+--------------------+--------------------+--------+--------------------+-----------------+\n",
            "|False| {'id': 10194, 'na...|30000000|[{'id': 16, 'name...|http://toystory.d...|  862|tt0114709|               en|           Toy Story|Led by Woody, And...| 21.946943|/rhIRbceoE9lR4veE...|[{'name': 'Pixar ...|[{'iso_3166_1': '...|          1995-10-30|           373554033|                81.0|[{'iso_639_1': 'e...|Released|                    |           Toy Story|   False|                 7.7|             5415|\n",
            "|False|                 null|65000000|[{'id': 12, 'name...|                null| 8844|tt0113497|               en|             Jumanji|When siblings Jud...| 17.015539|/vzmL6fP7aPKNKPRT...|[{'name': 'TriSta...|[{'iso_3166_1': '...|          1995-12-15|           262797249|               104.0|[{'iso_639_1': 'e...|Released|Roll the dice and...|             Jumanji|   False|                 6.9|             2413|\n",
            "|False| {'id': 119050, 'n...|       0|[{'id': 10749, 'n...|                null|15602|tt0113228|               en|    Grumpier Old Men|A family wedding ...|   11.7129|/6ksm1sjKMFLbO7UY...|[{'name': 'Warner...|[{'iso_3166_1': '...|          1995-12-22|                   0|               101.0|[{'iso_639_1': 'e...|Released|Still Yelling. St...|    Grumpier Old Men|   False|                 6.5|               92|\n",
            "|False|                 null|16000000|[{'id': 35, 'name...|                null|31357|tt0114885|               en|   Waiting to Exhale|\"Cheated on, mist...|    Bernie| Glo and Robin ta...| determined to fi...|            3.859495|/16XOMpEaLWkrcPqS...|[{'name': 'Twenti...|[{'iso_3166_1': '...|          1995-12-22|81452156|               127.0|[{'iso_639_1': 'e...|Released|Friends are the p...|Waiting to Exhale|\n",
            "|False| {'id': 96871, 'na...|       0|[{'id': 35, 'name...|                null|11862|tt0113041|               en|Father of the Bri...|Just when George ...|  8.387519|/e64sOI48hQXyru7n...|[{'name': 'Sandol...|[{'iso_3166_1': '...|          1995-02-10|            76578911|               106.0|[{'iso_639_1': 'e...|Released|Just When His Wor...|Father of the Bri...|   False|                 5.7|              173|\n",
            "|False|                 null|60000000|[{'id': 28, 'name...|                null|  949|tt0113277|               en|                Heat|Obsessive master ...| 17.924927|/zMyfPUelumio3tiD...|[{'name': 'Regenc...|[{'iso_3166_1': '...|          1995-12-15|           187436818|               170.0|[{'iso_639_1': 'e...|Released|A Los Angeles Cri...|                Heat|   False|                 7.7|             1886|\n",
            "|False|                 null|58000000|[{'id': 35, 'name...|                null|11860|tt0114319|               en|             Sabrina|An ugly duckling ...|  6.677277|/jQh15y5YB7bWz1Nt...|[{'name': 'Paramo...|[{'iso_3166_1': '...|          1995-12-15|                   0|               127.0|[{'iso_639_1': 'f...|Released|You are cordially...|             Sabrina|   False|                 6.2|              141|\n",
            "|False|                 null|       0|[{'id': 28, 'name...|                null|45325|tt0112302|               en|        Tom and Huck|A mischievous you...|  2.561161|/sGO5Qa55p7wTu7FJ...|[{'name': 'Walt D...|[{'iso_3166_1': '...|          1995-12-22|                   0|                97.0|[{'iso_639_1': 'e...|Released|The Original Bad ...|        Tom and Huck|   False|                 5.4|               45|\n",
            "|False|                 null|35000000|[{'id': 28, 'name...|                null| 9091|tt0114576|               en|        Sudden Death|International act...|   5.23158|/eoWvKD60lT95Ss1M...|[{'name': 'Univer...|[{'iso_3166_1': '...|          1995-12-22|            64350171|               106.0|[{'iso_639_1': 'e...|Released|Terror goes into ...|        Sudden Death|   False|                 5.5|              174|\n",
            "|False| {'id': 645, 'name...|58000000|[{'id': 12, 'name...|http://www.mgm.co...|  710|tt0113189|               en|           GoldenEye|James Bond must u...| 14.686036|/5c0ovjT41KnYIHYu...|[{'name': 'United...|[{'iso_3166_1': '...|          1995-11-16|           352194034|               130.0|[{'iso_639_1': 'e...|Released|No limits. No fea...|           GoldenEye|   False|                 6.6|             1194|\n",
            "|False|                 null|62000000|[{'id': 35, 'name...|                null| 9087|tt0112346|               en|The American Pres...|Widowed U.S. pres...|  6.318445|/lymPNGLZgPHuqM29...|[{'name': 'Columb...|[{'iso_3166_1': '...|          1995-11-17|           107879496|               106.0|[{'iso_639_1': 'e...|Released|Why can't the mos...|The American Pres...|   False|                 6.5|              199|\n",
            "|False|                 null|       0|[{'id': 35, 'name...|                null|12110|tt0112896|               en|Dracula: Dead and...|When a lawyer sho...|  5.430331|/xve4cgfYItnOhtzL...|[{'name': 'Columb...|[{'iso_3166_1': '...|          1995-12-22|                   0|                88.0|[{'iso_639_1': 'e...|Released|                    |Dracula: Dead and...|   False|                 5.7|              210|\n",
            "|False| {'id': 117693, 'n...|       0|[{'id': 10751, 'n...|                null|21032|tt0112453|               en|               Balto|An outcast half-w...| 12.140733|/gV5PCAVCPNxlOLFM...|[{'name': 'Univer...|[{'iso_3166_1': '...|          1995-12-22|            11348324|                78.0|[{'iso_639_1': 'e...|Released|Part Dog. Part Wo...|               Balto|   False|                 7.1|              423|\n",
            "|False|                 null|44000000|[{'id': 36, 'name...|                null|10858|tt0113987|               en|               Nixon|An all-star cast ...|     5.092|/cICkmCEiXRhvZmbu...|[{'name': 'Hollyw...|[{'iso_3166_1': '...|          1995-12-22|            13681765|               192.0|[{'iso_639_1': 'e...|Released|Triumphant in Vic...|               Nixon|   False|                 7.1|               72|\n",
            "|False|                 null|98000000|[{'id': 28, 'name...|                null| 1408|tt0112760|               en|    Cutthroat Island|Morgan Adams and ...|  7.284477|/odM9973kIv9hcjfH...|[{'name': 'Le Stu...|[{'iso_3166_1': '...|          1995-12-22|            10017322|               119.0|[{'iso_639_1': 'e...|Released|The Course Has Be...|    Cutthroat Island|   False|                 5.7|              137|\n",
            "|False|                 null|52000000|[{'id': 18, 'name...|                null|  524|tt0112641|               en|              Casino|The life of the g...| 10.137389|/xo517ibXBDdYQY81...|[{'name': 'Univer...|[{'iso_3166_1': '...|          1995-11-22|           116112375|               178.0|[{'iso_639_1': 'e...|Released|No one stays at t...|              Casino|   False|                 7.8|             1343|\n",
            "|False|                 null|16500000|[{'id': 18, 'name...|                null| 4584|tt0114388|               en|Sense and Sensibi...|Rich Mr. Dashwood...| 10.673167|/lA9HTy84Bb6ZwNey...|[{'name': 'Columb...|[{'iso_3166_1': '...|          1995-12-13|           135000000|               136.0|[{'iso_639_1': 'e...|Released|Lose your heart a...|Sense and Sensibi...|   False|                 7.2|              364|\n",
            "|False|                 null| 4000000|[{'id': 80, 'name...|                null|    5|tt0113101|               en|          Four Rooms|It's Ted the Bell...|  9.026586|/eQs5hh9rxrk1m4xH...|[{'name': 'Mirama...|[{'iso_3166_1': '...|          1995-12-09|             4300000|                98.0|[{'iso_639_1': 'e...|Released|Twelve outrageous...|          Four Rooms|   False|                 6.5|              539|\n",
            "|False| {'id': 3167, 'nam...|30000000|[{'id': 80, 'name...|                null| 9273|tt0112281|               en|Ace Ventura: When...|Summoned from an ...|  8.205448|/wRlGnJhEzcxBjvWt...|[{'name': 'O Ente...|[{'iso_3166_1': '...|          1995-11-10|           212385533|                90.0|[{'iso_639_1': 'e...|Released|New animals. New ...|Ace Ventura: When...|   False|                 6.1|             1128|\n",
            "|False|                 null|60000000|[{'id': 28, 'name...|                null|11517|tt0113845|               en|         Money Train|A vengeful New Yo...|  7.337906|/jSozzzVOR2kfXgTU...|[{'name': 'Columb...|[{'iso_3166_1': '...|          1995-11-21|            35431113|               103.0|[{'iso_639_1': 'e...|Released|Get on, or GET OU...|         Money Train|   False|                 5.4|              224|\n",
            "+-----+---------------------+--------+--------------------+--------------------+-----+---------+-----------------+--------------------+--------------------+----------+--------------------+--------------------+--------------------+--------------------+--------------------+--------------------+--------------------+--------+--------------------+--------------------+--------+--------------------+-----------------+\n",
            "only showing top 20 rows\n",
            "\n"
          ],
          "name": "stdout"
        }
      ]
    },
    {
      "cell_type": "code",
      "metadata": {
        "colab": {
          "base_uri": "https://localhost:8080/"
        },
        "id": "mwNdQzK8H4Am",
        "outputId": "99febc78-7c9b-4d06-95aa-4d096613a814"
      },
      "source": [
        "from pyspark.sql.functions import concat, lit\n",
        "# col_list = ['tagline','overview','keywords','cast', 'director', 'genres']\n",
        "col_list = ['tagline','overview']\n",
        "smd = smd.withColumn('description',concat(*col_list))\n",
        "smd.show()"
      ],
      "execution_count": 16,
      "outputs": [
        {
          "output_type": "stream",
          "text": [
            "+-----+---------------------+--------+--------------------+--------------------+-----+---------+-----------------+--------------------+--------------------+----------+--------------------+--------------------+--------------------+--------------------+--------------------+--------------------+--------------------+--------+--------------------+--------------------+--------+--------------------+-----------------+--------------------+\n",
            "|adult|belongs_to_collection|  budget|              genres|            homepage|   id|  imdb_id|original_language|      original_title|            overview|popularity|         poster_path|production_companies|production_countries|        release_date|             revenue|             runtime|    spoken_languages|  status|             tagline|               title|   video|        vote_average|       vote_count|         description|\n",
            "+-----+---------------------+--------+--------------------+--------------------+-----+---------+-----------------+--------------------+--------------------+----------+--------------------+--------------------+--------------------+--------------------+--------------------+--------------------+--------------------+--------+--------------------+--------------------+--------+--------------------+-----------------+--------------------+\n",
            "|False| {'id': 10194, 'na...|30000000|[{'id': 16, 'name...|http://toystory.d...|  862|tt0114709|               en|           Toy Story|Led by Woody, And...| 21.946943|/rhIRbceoE9lR4veE...|[{'name': 'Pixar ...|[{'iso_3166_1': '...|          1995-10-30|           373554033|                81.0|[{'iso_639_1': 'e...|Released|                    |           Toy Story|   False|                 7.7|             5415|Led by Woody, And...|\n",
            "|False|                 null|65000000|[{'id': 12, 'name...|                null| 8844|tt0113497|               en|             Jumanji|When siblings Jud...| 17.015539|/vzmL6fP7aPKNKPRT...|[{'name': 'TriSta...|[{'iso_3166_1': '...|          1995-12-15|           262797249|               104.0|[{'iso_639_1': 'e...|Released|Roll the dice and...|             Jumanji|   False|                 6.9|             2413|Roll the dice and...|\n",
            "|False| {'id': 119050, 'n...|       0|[{'id': 10749, 'n...|                null|15602|tt0113228|               en|    Grumpier Old Men|A family wedding ...|   11.7129|/6ksm1sjKMFLbO7UY...|[{'name': 'Warner...|[{'iso_3166_1': '...|          1995-12-22|                   0|               101.0|[{'iso_639_1': 'e...|Released|Still Yelling. St...|    Grumpier Old Men|   False|                 6.5|               92|Still Yelling. St...|\n",
            "|False|                 null|16000000|[{'id': 35, 'name...|                null|31357|tt0114885|               en|   Waiting to Exhale|\"Cheated on, mist...|    Bernie| Glo and Robin ta...| determined to fi...|            3.859495|/16XOMpEaLWkrcPqS...|[{'name': 'Twenti...|[{'iso_3166_1': '...|          1995-12-22|81452156|               127.0|[{'iso_639_1': 'e...|Released|Friends are the p...|Waiting to Exhale|127.0\"Cheated on,...|\n",
            "|False| {'id': 96871, 'na...|       0|[{'id': 35, 'name...|                null|11862|tt0113041|               en|Father of the Bri...|Just when George ...|  8.387519|/e64sOI48hQXyru7n...|[{'name': 'Sandol...|[{'iso_3166_1': '...|          1995-02-10|            76578911|               106.0|[{'iso_639_1': 'e...|Released|Just When His Wor...|Father of the Bri...|   False|                 5.7|              173|Just When His Wor...|\n",
            "|False|                 null|60000000|[{'id': 28, 'name...|                null|  949|tt0113277|               en|                Heat|Obsessive master ...| 17.924927|/zMyfPUelumio3tiD...|[{'name': 'Regenc...|[{'iso_3166_1': '...|          1995-12-15|           187436818|               170.0|[{'iso_639_1': 'e...|Released|A Los Angeles Cri...|                Heat|   False|                 7.7|             1886|A Los Angeles Cri...|\n",
            "|False|                 null|58000000|[{'id': 35, 'name...|                null|11860|tt0114319|               en|             Sabrina|An ugly duckling ...|  6.677277|/jQh15y5YB7bWz1Nt...|[{'name': 'Paramo...|[{'iso_3166_1': '...|          1995-12-15|                   0|               127.0|[{'iso_639_1': 'f...|Released|You are cordially...|             Sabrina|   False|                 6.2|              141|You are cordially...|\n",
            "|False|                 null|       0|[{'id': 28, 'name...|                null|45325|tt0112302|               en|        Tom and Huck|A mischievous you...|  2.561161|/sGO5Qa55p7wTu7FJ...|[{'name': 'Walt D...|[{'iso_3166_1': '...|          1995-12-22|                   0|                97.0|[{'iso_639_1': 'e...|Released|The Original Bad ...|        Tom and Huck|   False|                 5.4|               45|The Original Bad ...|\n",
            "|False|                 null|35000000|[{'id': 28, 'name...|                null| 9091|tt0114576|               en|        Sudden Death|International act...|   5.23158|/eoWvKD60lT95Ss1M...|[{'name': 'Univer...|[{'iso_3166_1': '...|          1995-12-22|            64350171|               106.0|[{'iso_639_1': 'e...|Released|Terror goes into ...|        Sudden Death|   False|                 5.5|              174|Terror goes into ...|\n",
            "|False| {'id': 645, 'name...|58000000|[{'id': 12, 'name...|http://www.mgm.co...|  710|tt0113189|               en|           GoldenEye|James Bond must u...| 14.686036|/5c0ovjT41KnYIHYu...|[{'name': 'United...|[{'iso_3166_1': '...|          1995-11-16|           352194034|               130.0|[{'iso_639_1': 'e...|Released|No limits. No fea...|           GoldenEye|   False|                 6.6|             1194|No limits. No fea...|\n",
            "|False|                 null|62000000|[{'id': 35, 'name...|                null| 9087|tt0112346|               en|The American Pres...|Widowed U.S. pres...|  6.318445|/lymPNGLZgPHuqM29...|[{'name': 'Columb...|[{'iso_3166_1': '...|          1995-11-17|           107879496|               106.0|[{'iso_639_1': 'e...|Released|Why can't the mos...|The American Pres...|   False|                 6.5|              199|Why can't the mos...|\n",
            "|False|                 null|       0|[{'id': 35, 'name...|                null|12110|tt0112896|               en|Dracula: Dead and...|When a lawyer sho...|  5.430331|/xve4cgfYItnOhtzL...|[{'name': 'Columb...|[{'iso_3166_1': '...|          1995-12-22|                   0|                88.0|[{'iso_639_1': 'e...|Released|                    |Dracula: Dead and...|   False|                 5.7|              210|When a lawyer sho...|\n",
            "|False| {'id': 117693, 'n...|       0|[{'id': 10751, 'n...|                null|21032|tt0112453|               en|               Balto|An outcast half-w...| 12.140733|/gV5PCAVCPNxlOLFM...|[{'name': 'Univer...|[{'iso_3166_1': '...|          1995-12-22|            11348324|                78.0|[{'iso_639_1': 'e...|Released|Part Dog. Part Wo...|               Balto|   False|                 7.1|              423|Part Dog. Part Wo...|\n",
            "|False|                 null|44000000|[{'id': 36, 'name...|                null|10858|tt0113987|               en|               Nixon|An all-star cast ...|     5.092|/cICkmCEiXRhvZmbu...|[{'name': 'Hollyw...|[{'iso_3166_1': '...|          1995-12-22|            13681765|               192.0|[{'iso_639_1': 'e...|Released|Triumphant in Vic...|               Nixon|   False|                 7.1|               72|Triumphant in Vic...|\n",
            "|False|                 null|98000000|[{'id': 28, 'name...|                null| 1408|tt0112760|               en|    Cutthroat Island|Morgan Adams and ...|  7.284477|/odM9973kIv9hcjfH...|[{'name': 'Le Stu...|[{'iso_3166_1': '...|          1995-12-22|            10017322|               119.0|[{'iso_639_1': 'e...|Released|The Course Has Be...|    Cutthroat Island|   False|                 5.7|              137|The Course Has Be...|\n",
            "|False|                 null|52000000|[{'id': 18, 'name...|                null|  524|tt0112641|               en|              Casino|The life of the g...| 10.137389|/xo517ibXBDdYQY81...|[{'name': 'Univer...|[{'iso_3166_1': '...|          1995-11-22|           116112375|               178.0|[{'iso_639_1': 'e...|Released|No one stays at t...|              Casino|   False|                 7.8|             1343|No one stays at t...|\n",
            "|False|                 null|16500000|[{'id': 18, 'name...|                null| 4584|tt0114388|               en|Sense and Sensibi...|Rich Mr. Dashwood...| 10.673167|/lA9HTy84Bb6ZwNey...|[{'name': 'Columb...|[{'iso_3166_1': '...|          1995-12-13|           135000000|               136.0|[{'iso_639_1': 'e...|Released|Lose your heart a...|Sense and Sensibi...|   False|                 7.2|              364|Lose your heart a...|\n",
            "|False|                 null| 4000000|[{'id': 80, 'name...|                null|    5|tt0113101|               en|          Four Rooms|It's Ted the Bell...|  9.026586|/eQs5hh9rxrk1m4xH...|[{'name': 'Mirama...|[{'iso_3166_1': '...|          1995-12-09|             4300000|                98.0|[{'iso_639_1': 'e...|Released|Twelve outrageous...|          Four Rooms|   False|                 6.5|              539|Twelve outrageous...|\n",
            "|False| {'id': 3167, 'nam...|30000000|[{'id': 80, 'name...|                null| 9273|tt0112281|               en|Ace Ventura: When...|Summoned from an ...|  8.205448|/wRlGnJhEzcxBjvWt...|[{'name': 'O Ente...|[{'iso_3166_1': '...|          1995-11-10|           212385533|                90.0|[{'iso_639_1': 'e...|Released|New animals. New ...|Ace Ventura: When...|   False|                 6.1|             1128|New animals. New ...|\n",
            "|False|                 null|60000000|[{'id': 28, 'name...|                null|11517|tt0113845|               en|         Money Train|A vengeful New Yo...|  7.337906|/jSozzzVOR2kfXgTU...|[{'name': 'Columb...|[{'iso_3166_1': '...|          1995-11-21|            35431113|               103.0|[{'iso_639_1': 'e...|Released|Get on, or GET OU...|         Money Train|   False|                 5.4|              224|Get on, or GET OU...|\n",
            "+-----+---------------------+--------+--------------------+--------------------+-----+---------+-----------------+--------------------+--------------------+----------+--------------------+--------------------+--------------------+--------------------+--------------------+--------------------+--------------------+--------+--------------------+--------------------+--------+--------------------+-----------------+--------------------+\n",
            "only showing top 20 rows\n",
            "\n"
          ],
          "name": "stdout"
        }
      ]
    },
    {
      "cell_type": "markdown",
      "metadata": {
        "id": "nbuBI8RbNg_H"
      },
      "source": [
        "# TF-IDF VECTORIZER"
      ]
    },
    {
      "cell_type": "code",
      "metadata": {
        "colab": {
          "base_uri": "https://localhost:8080/"
        },
        "id": "k4JSiVt-5h-m",
        "outputId": "9b30f326-9e5c-4c5a-abd3-7d05cfced3d4"
      },
      "source": [
        "from pyspark.ml.feature import CountVectorizer,RegexTokenizer\n",
        "\n",
        "regexTokenizer = RegexTokenizer(inputCol=\"description\", outputCol=\"words\", pattern=\"\\\\W\")\n",
        "wordsData = regexTokenizer.transform(smd)\n",
        "#n-gram\n",
        "# from pyspark.ml.feature import NGram\n",
        "\n",
        "# ngram = NGram(n=2, inputCol=\"words\", outputCol=\"ngrams\")\n",
        "\n",
        "# ngramDataFrame = ngram.transform(wordsData)\n",
        "# ngramDataFrame.select(\"ngrams\").show()\n",
        "\n",
        "hashingTF = HashingTF(inputCol=\"words\", outputCol=\"tfidf\", numFeatures=1000)\n",
        "featurizedData = hashingTF.transform(wordsData)\n",
        "\n",
        "# calculate scores\n",
        "idf = IDF(inputCol=\"tfidf\", outputCol=\"tfidf_features\")\n",
        "idf_model = idf.fit(featurizedData)\n",
        "wordsData = idf_model.transform(featurizedData)\n",
        "wordsData.show()\n",
        "end1 = time.time() - begin1"
      ],
      "execution_count": 17,
      "outputs": [
        {
          "output_type": "stream",
          "text": [
            "+-----+---------------------+--------+--------------------+--------------------+-----+---------+-----------------+--------------------+--------------------+----------+--------------------+--------------------+--------------------+--------------------+--------------------+--------------------+--------------------+--------+--------------------+--------------------+--------+--------------------+-----------------+--------------------+--------------------+--------------------+--------------------+\n",
            "|adult|belongs_to_collection|  budget|              genres|            homepage|   id|  imdb_id|original_language|      original_title|            overview|popularity|         poster_path|production_companies|production_countries|        release_date|             revenue|             runtime|    spoken_languages|  status|             tagline|               title|   video|        vote_average|       vote_count|         description|               words|               tfidf|      tfidf_features|\n",
            "+-----+---------------------+--------+--------------------+--------------------+-----+---------+-----------------+--------------------+--------------------+----------+--------------------+--------------------+--------------------+--------------------+--------------------+--------------------+--------------------+--------+--------------------+--------------------+--------+--------------------+-----------------+--------------------+--------------------+--------------------+--------------------+\n",
            "|False| {'id': 10194, 'na...|30000000|[{'id': 16, 'name...|http://toystory.d...|  862|tt0114709|               en|           Toy Story|Led by Woody, And...| 21.946943|/rhIRbceoE9lR4veE...|[{'name': 'Pixar ...|[{'iso_3166_1': '...|          1995-10-30|           373554033|                81.0|[{'iso_639_1': 'e...|Released|                    |           Toy Story|   False|                 7.7|             5415|Led by Woody, And...|[led, by, woody, ...|(1000,[17,53,54,7...|(1000,[17,53,54,7...|\n",
            "|False|                 null|65000000|[{'id': 12, 'name...|                null| 8844|tt0113497|               en|             Jumanji|When siblings Jud...| 17.015539|/vzmL6fP7aPKNKPRT...|[{'name': 'TriSta...|[{'iso_3166_1': '...|          1995-12-15|           262797249|               104.0|[{'iso_639_1': 'e...|Released|Roll the dice and...|             Jumanji|   False|                 6.9|             2413|Roll the dice and...|[roll, the, dice,...|(1000,[0,4,17,26,...|(1000,[0,4,17,26,...|\n",
            "|False| {'id': 119050, 'n...|       0|[{'id': 10749, 'n...|                null|15602|tt0113228|               en|    Grumpier Old Men|A family wedding ...|   11.7129|/6ksm1sjKMFLbO7UY...|[{'name': 'Warner...|[{'iso_3166_1': '...|          1995-12-22|                   0|               101.0|[{'iso_639_1': 'e...|Released|Still Yelling. St...|    Grumpier Old Men|   False|                 6.5|               92|Still Yelling. St...|[still, yelling, ...|(1000,[17,66,95,1...|(1000,[17,66,95,1...|\n",
            "|False|                 null|16000000|[{'id': 35, 'name...|                null|31357|tt0114885|               en|   Waiting to Exhale|\"Cheated on, mist...|    Bernie| Glo and Robin ta...| determined to fi...|            3.859495|/16XOMpEaLWkrcPqS...|[{'name': 'Twenti...|[{'iso_3166_1': '...|          1995-12-22|81452156|               127.0|[{'iso_639_1': 'e...|Released|Friends are the p...|Waiting to Exhale|127.0\"Cheated on,...|[127, 0, cheated,...|(1000,[14,17,106,...|(1000,[14,17,106,...|\n",
            "|False| {'id': 96871, 'na...|       0|[{'id': 35, 'name...|                null|11862|tt0113041|               en|Father of the Bri...|Just when George ...|  8.387519|/e64sOI48hQXyru7n...|[{'name': 'Sandol...|[{'iso_3166_1': '...|          1995-02-10|            76578911|               106.0|[{'iso_639_1': 'e...|Released|Just When His Wor...|Father of the Bri...|   False|                 5.7|              173|Just When His Wor...|[just, when, his,...|(1000,[17,21,49,6...|(1000,[17,21,49,6...|\n",
            "|False|                 null|60000000|[{'id': 28, 'name...|                null|  949|tt0113277|               en|                Heat|Obsessive master ...| 17.924927|/zMyfPUelumio3tiD...|[{'name': 'Regenc...|[{'iso_3166_1': '...|          1995-12-15|           187436818|               170.0|[{'iso_639_1': 'e...|Released|A Los Angeles Cri...|                Heat|   False|                 7.7|             1886|A Los Angeles Cri...|[a, los, angeles,...|(1000,[17,26,32,4...|(1000,[17,26,32,4...|\n",
            "|False|                 null|58000000|[{'id': 35, 'name...|                null|11860|tt0114319|               en|             Sabrina|An ugly duckling ...|  6.677277|/jQh15y5YB7bWz1Nt...|[{'name': 'Paramo...|[{'iso_3166_1': '...|          1995-12-15|                   0|               127.0|[{'iso_639_1': 'f...|Released|You are cordially...|             Sabrina|   False|                 6.2|              141|You are cordially...|[you, are, cordia...|(1000,[17,23,56,6...|(1000,[17,23,56,6...|\n",
            "|False|                 null|       0|[{'id': 28, 'name...|                null|45325|tt0112302|               en|        Tom and Huck|A mischievous you...|  2.561161|/sGO5Qa55p7wTu7FJ...|[{'name': 'Walt D...|[{'iso_3166_1': '...|          1995-12-22|                   0|                97.0|[{'iso_639_1': 'e...|Released|The Original Bad ...|        Tom and Huck|   False|                 5.4|               45|The Original Bad ...|[the, original, b...|(1000,[17,31,54,6...|(1000,[17,31,54,6...|\n",
            "|False|                 null|35000000|[{'id': 28, 'name...|                null| 9091|tt0114576|               en|        Sudden Death|International act...|   5.23158|/eoWvKD60lT95Ss1M...|[{'name': 'Univer...|[{'iso_3166_1': '...|          1995-12-22|            64350171|               106.0|[{'iso_639_1': 'e...|Released|Terror goes into ...|        Sudden Death|   False|                 5.5|              174|Terror goes into ...|[terror, goes, in...|(1000,[0,17,59,79...|(1000,[0,17,59,79...|\n",
            "|False| {'id': 645, 'name...|58000000|[{'id': 12, 'name...|http://www.mgm.co...|  710|tt0113189|               en|           GoldenEye|James Bond must u...| 14.686036|/5c0ovjT41KnYIHYu...|[{'name': 'United...|[{'iso_3166_1': '...|          1995-11-16|           352194034|               130.0|[{'iso_639_1': 'e...|Released|No limits. No fea...|           GoldenEye|   False|                 6.6|             1194|No limits. No fea...|[no, limits, no, ...|(1000,[17,23,57,6...|(1000,[17,23,57,6...|\n",
            "|False|                 null|62000000|[{'id': 35, 'name...|                null| 9087|tt0112346|               en|The American Pres...|Widowed U.S. pres...|  6.318445|/lymPNGLZgPHuqM29...|[{'name': 'Columb...|[{'iso_3166_1': '...|          1995-11-17|           107879496|               106.0|[{'iso_639_1': 'e...|Released|Why can't the mos...|The American Pres...|   False|                 6.5|              199|Why can't the mos...|[why, can, t, the...|(1000,[17,32,36,4...|(1000,[17,32,36,4...|\n",
            "|False|                 null|       0|[{'id': 35, 'name...|                null|12110|tt0112896|               en|Dracula: Dead and...|When a lawyer sho...|  5.430331|/xve4cgfYItnOhtzL...|[{'name': 'Columb...|[{'iso_3166_1': '...|          1995-12-22|                   0|                88.0|[{'iso_639_1': 'e...|Released|                    |Dracula: Dead and...|   False|                 5.7|              210|When a lawyer sho...|[when, a, lawyer,...|(1000,[17,21,74,7...|(1000,[17,21,74,7...|\n",
            "|False| {'id': 117693, 'n...|       0|[{'id': 10751, 'n...|                null|21032|tt0112453|               en|               Balto|An outcast half-w...| 12.140733|/gV5PCAVCPNxlOLFM...|[{'name': 'Univer...|[{'iso_3166_1': '...|          1995-12-22|            11348324|                78.0|[{'iso_639_1': 'e...|Released|Part Dog. Part Wo...|               Balto|   False|                 7.1|              423|Part Dog. Part Wo...|[part, dog, part,...|(1000,[58,59,72,1...|(1000,[58,59,72,1...|\n",
            "|False|                 null|44000000|[{'id': 36, 'name...|                null|10858|tt0113987|               en|               Nixon|An all-star cast ...|     5.092|/cICkmCEiXRhvZmbu...|[{'name': 'Hollyw...|[{'iso_3166_1': '...|          1995-12-22|            13681765|               192.0|[{'iso_639_1': 'e...|Released|Triumphant in Vic...|               Nixon|   False|                 7.1|               72|Triumphant in Vic...|[triumphant, in, ...|(1000,[0,14,17,63...|(1000,[0,14,17,63...|\n",
            "|False|                 null|98000000|[{'id': 28, 'name...|                null| 1408|tt0112760|               en|    Cutthroat Island|Morgan Adams and ...|  7.284477|/odM9973kIv9hcjfH...|[{'name': 'Le Stu...|[{'iso_3166_1': '...|          1995-12-22|            10017322|               119.0|[{'iso_639_1': 'e...|Released|The Course Has Be...|    Cutthroat Island|   False|                 5.7|              137|The Course Has Be...|[the, course, has...|(1000,[10,17,23,3...|(1000,[10,17,23,3...|\n",
            "|False|                 null|52000000|[{'id': 18, 'name...|                null|  524|tt0112641|               en|              Casino|The life of the g...| 10.137389|/xo517ibXBDdYQY81...|[{'name': 'Univer...|[{'iso_3166_1': '...|          1995-11-22|           116112375|               178.0|[{'iso_639_1': 'e...|Released|No one stays at t...|              Casino|   False|                 7.8|             1343|No one stays at t...|[no, one, stays, ...|(1000,[17,106,162...|(1000,[17,106,162...|\n",
            "|False|                 null|16500000|[{'id': 18, 'name...|                null| 4584|tt0114388|               en|Sense and Sensibi...|Rich Mr. Dashwood...| 10.673167|/lA9HTy84Bb6ZwNey...|[{'name': 'Columb...|[{'iso_3166_1': '...|          1995-12-13|           135000000|               136.0|[{'iso_639_1': 'e...|Released|Lose your heart a...|Sense and Sensibi...|   False|                 7.2|              364|Lose your heart a...|[lose, your, hear...|(1000,[17,21,22,1...|(1000,[17,21,22,1...|\n",
            "|False|                 null| 4000000|[{'id': 80, 'name...|                null|    5|tt0113101|               en|          Four Rooms|It's Ted the Bell...|  9.026586|/eQs5hh9rxrk1m4xH...|[{'name': 'Mirama...|[{'iso_3166_1': '...|          1995-12-09|             4300000|                98.0|[{'iso_639_1': 'e...|Released|Twelve outrageous...|          Four Rooms|   False|                 6.5|              539|Twelve outrageous...|[twelve, outrageo...|(1000,[17,71,75,8...|(1000,[17,71,75,8...|\n",
            "|False| {'id': 3167, 'nam...|30000000|[{'id': 80, 'name...|                null| 9273|tt0112281|               en|Ace Ventura: When...|Summoned from an ...|  8.205448|/wRlGnJhEzcxBjvWt...|[{'name': 'O Ente...|[{'iso_3166_1': '...|          1995-11-10|           212385533|                90.0|[{'iso_639_1': 'e...|Released|New animals. New ...|Ace Ventura: When...|   False|                 6.1|             1128|New animals. New ...|[new, animals, ne...|(1000,[17,23,25,9...|(1000,[17,23,25,9...|\n",
            "|False|                 null|60000000|[{'id': 28, 'name...|                null|11517|tt0113845|               en|         Money Train|A vengeful New Yo...|  7.337906|/jSozzzVOR2kfXgTU...|[{'name': 'Columb...|[{'iso_3166_1': '...|          1995-11-21|            35431113|               103.0|[{'iso_639_1': 'e...|Released|Get on, or GET OU...|         Money Train|   False|                 5.4|              224|Get on, or GET OU...|[get, on, or, get...|(1000,[17,84,101,...|(1000,[17,84,101,...|\n",
            "+-----+---------------------+--------+--------------------+--------------------+-----+---------+-----------------+--------------------+--------------------+----------+--------------------+--------------------+--------------------+--------------------+--------------------+--------------------+--------------------+--------+--------------------+--------------------+--------+--------------------+-----------------+--------------------+--------------------+--------------------+--------------------+\n",
            "only showing top 20 rows\n",
            "\n"
          ],
          "name": "stdout"
        }
      ]
    },
    {
      "cell_type": "markdown",
      "metadata": {
        "id": "vZUMgUn-Nt74"
      },
      "source": [
        "# COSINE SIMILARITY"
      ]
    },
    {
      "cell_type": "code",
      "metadata": {
        "id": "v9RY_MWP_sWz"
      },
      "source": [
        "def cosin(x, y):\n",
        "  return x.dot(y)/(x.norm(2)*y.norm(2))\n",
        "\n",
        "def recommend(y):\n",
        "  b = wordsData.rdd.map(lambda x: (x[\"tfidf_features\"], x['original_title']))\n",
        "  result = b.map(lambda x:([cosin(x[0],y)], x[1]))\n",
        "  return result.takeOrdered(11, key = lambda x: -x[0][0])"
      ],
      "execution_count": 18,
      "outputs": []
    },
    {
      "cell_type": "code",
      "metadata": {
        "id": "kSf6Hfd43-QS"
      },
      "source": [
        "def get_recommendations(title):\n",
        "  movies = wordsData.where(f\"UPPER(original_title) like UPPER('%{title}%')\").select([\"original_title\",\"id\",\"tfidf_features\"]).distinct().collect()\n",
        "  if len(movies) > 0:\n",
        "    print(f'Có {len(movies)} bộ phim được tìm thấy')\n",
        "  for i,m in enumerate(movies):\n",
        "      print(f\"{i+1} --- {m.original_title}\")\n",
        "\n",
        "  id_select = int(input(\"Chọn một bộ phim: \"))\n",
        "  movie = movies[id_select - 1]\n",
        "\n",
        "  print(f\"Phim được chọn: {movie[0]}\\n----------------------------\\n Phim được đề xuất\")\n",
        "  begin2 = time.time()\n",
        "  recommend_result = recommend(movie[2])\n",
        "  end2 = time.time() - begin2\n",
        "  print(\"Time:\",end1 + end2)\n",
        "\n",
        "  recommend_result = recommend_result[1:11]\n",
        "\n",
        "  result_df = pd.DataFrame(recommend_result,columns=['Similarity','Movies'])\n",
        "  return result_df\n",
        "  # return recommend_result"
      ],
      "execution_count": 19,
      "outputs": []
    },
    {
      "cell_type": "markdown",
      "metadata": {
        "id": "748FXWNjNydC"
      },
      "source": [
        "# RESULT: GET MOVIES RECOMMENDATION - HARRY POTTER"
      ]
    },
    {
      "cell_type": "code",
      "metadata": {
        "colab": {
          "base_uri": "https://localhost:8080/",
          "height": 589
        },
        "id": "rnjStMNpkcl5",
        "outputId": "3538be0c-140b-4fc6-99e7-a587ad503108"
      },
      "source": [
        "get_recommendations('Harry Potter')"
      ],
      "execution_count": 20,
      "outputs": [
        {
          "output_type": "stream",
          "text": [
            "Có 8 bộ phim được tìm thấy\n",
            "1 --- Harry Potter and the Goblet of Fire\n",
            "2 --- Harry Potter and the Deathly Hallows: Part 2\n",
            "3 --- Harry Potter and the Chamber of Secrets\n",
            "4 --- Harry Potter and the Philosopher's Stone\n",
            "5 --- Harry Potter and the Half-Blood Prince\n",
            "6 --- Harry Potter and the Order of the Phoenix\n",
            "7 --- Harry Potter and the Prisoner of Azkaban\n",
            "8 --- Harry Potter and the Deathly Hallows: Part 1\n",
            "Chọn một bộ phim: 8\n",
            "Phim được chọn: Harry Potter and the Deathly Hallows: Part 1\n",
            "----------------------------\n",
            " Phim được đề xuất\n",
            "Time: 23.140868425369263\n"
          ],
          "name": "stdout"
        },
        {
          "output_type": "execute_result",
          "data": {
            "text/html": [
              "<div>\n",
              "<style scoped>\n",
              "    .dataframe tbody tr th:only-of-type {\n",
              "        vertical-align: middle;\n",
              "    }\n",
              "\n",
              "    .dataframe tbody tr th {\n",
              "        vertical-align: top;\n",
              "    }\n",
              "\n",
              "    .dataframe thead th {\n",
              "        text-align: right;\n",
              "    }\n",
              "</style>\n",
              "<table border=\"1\" class=\"dataframe\">\n",
              "  <thead>\n",
              "    <tr style=\"text-align: right;\">\n",
              "      <th></th>\n",
              "      <th>Similarity</th>\n",
              "      <th>Movies</th>\n",
              "    </tr>\n",
              "  </thead>\n",
              "  <tbody>\n",
              "    <tr>\n",
              "      <th>0</th>\n",
              "      <td>[0.38392630701526054]</td>\n",
              "      <td>Harry Potter and the Goblet of Fire</td>\n",
              "    </tr>\n",
              "    <tr>\n",
              "      <th>1</th>\n",
              "      <td>[0.3211127291549875]</td>\n",
              "      <td>Darling Companion</td>\n",
              "    </tr>\n",
              "    <tr>\n",
              "      <th>2</th>\n",
              "      <td>[0.31715947661047517]</td>\n",
              "      <td>Harry Potter and the Deathly Hallows: Part 2</td>\n",
              "    </tr>\n",
              "    <tr>\n",
              "      <th>3</th>\n",
              "      <td>[0.3087703195646179]</td>\n",
              "      <td>Below Sea Level</td>\n",
              "    </tr>\n",
              "    <tr>\n",
              "      <th>4</th>\n",
              "      <td>[0.2992543434890379]</td>\n",
              "      <td>نان و کوچه‎‎</td>\n",
              "    </tr>\n",
              "    <tr>\n",
              "      <th>5</th>\n",
              "      <td>[0.28980883871326335]</td>\n",
              "      <td>Harry Potter and the Order of the Phoenix</td>\n",
              "    </tr>\n",
              "    <tr>\n",
              "      <th>6</th>\n",
              "      <td>[0.2785950868427183]</td>\n",
              "      <td>싸이보그지만 괜찮아</td>\n",
              "    </tr>\n",
              "    <tr>\n",
              "      <th>7</th>\n",
              "      <td>[0.2780995639190203]</td>\n",
              "      <td>The King and I</td>\n",
              "    </tr>\n",
              "    <tr>\n",
              "      <th>8</th>\n",
              "      <td>[0.2663755240802338]</td>\n",
              "      <td>Graduation</td>\n",
              "    </tr>\n",
              "    <tr>\n",
              "      <th>9</th>\n",
              "      <td>[0.26318088688399727]</td>\n",
              "      <td>The Dog Problem</td>\n",
              "    </tr>\n",
              "  </tbody>\n",
              "</table>\n",
              "</div>"
            ],
            "text/plain": [
              "              Similarity                                        Movies\n",
              "0  [0.38392630701526054]           Harry Potter and the Goblet of Fire\n",
              "1   [0.3211127291549875]                             Darling Companion\n",
              "2  [0.31715947661047517]  Harry Potter and the Deathly Hallows: Part 2\n",
              "3   [0.3087703195646179]                               Below Sea Level\n",
              "4   [0.2992543434890379]                                  نان و کوچه‎‎\n",
              "5  [0.28980883871326335]     Harry Potter and the Order of the Phoenix\n",
              "6   [0.2785950868427183]                                    싸이보그지만 괜찮아\n",
              "7   [0.2780995639190203]                                The King and I\n",
              "8   [0.2663755240802338]                                    Graduation\n",
              "9  [0.26318088688399727]                               The Dog Problem"
            ]
          },
          "metadata": {
            "tags": []
          },
          "execution_count": 20
        }
      ]
    }
  ]
}