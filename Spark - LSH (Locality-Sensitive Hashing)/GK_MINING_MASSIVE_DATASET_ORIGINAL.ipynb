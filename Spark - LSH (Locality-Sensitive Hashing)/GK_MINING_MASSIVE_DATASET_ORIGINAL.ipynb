{
  "nbformat": 4,
  "nbformat_minor": 0,
  "metadata": {
    "colab": {
      "name": "GK_MINING_MASSIVE_DATASET_ORIGINAL.ipynb",
      "provenance": [],
      "collapsed_sections": []
    },
    "kernelspec": {
      "name": "python3",
      "display_name": "Python 3"
    },
    "language_info": {
      "name": "python"
    }
  },
  "cells": [
    {
      "cell_type": "code",
      "metadata": {
        "id": "WCeqiAzXDbkP",
        "colab": {
          "base_uri": "https://localhost:8080/"
        },
        "outputId": "4260b1b3-bd53-4ee6-a310-08c0361eb876"
      },
      "source": [
        "import re\n",
        "from random import randint, seed, choice, random\n",
        "import time\n",
        "import binascii\n",
        "import numpy as np\n",
        "import itertools\n",
        "import math\n",
        "from decimal import *\n",
        "from google.colab import drive\n",
        "drive.mount('/content/drive',force_remount=True)\n",
        "\n",
        "f = open(\"/content/drive/MyDrive/BIGDATA/BTL/data3.txt\", \"r\", encoding=\"utf-8\")\n",
        "\n",
        "documents = f.read().split(\"\\n\")"
      ],
      "execution_count": 313,
      "outputs": [
        {
          "output_type": "stream",
          "text": [
            "Mounted at /content/drive\n"
          ],
          "name": "stdout"
        }
      ]
    },
    {
      "cell_type": "markdown",
      "metadata": {
        "id": "vDCSEXJPS4fi"
      },
      "source": [
        "# CÁC HÀM HỖ TRỢ THUẬT TOÁN"
      ]
    },
    {
      "cell_type": "code",
      "metadata": {
        "id": "R3ansC45S8ym"
      },
      "source": [
        "def split_k_gram(document, shingleNo):\n",
        "  shingle = []\n",
        "  shinglesInDocInts = set() # chỉ định lấy duy nhất\n",
        "\n",
        "  for index in range(len(document) - k_gram + 1):\n",
        "    shingle = document[index:index + k_gram]\n",
        "    shingle = ' '.join(shingle)\n",
        "\n",
        "    # năm shingle thành số nguyên (32-bit integer)\n",
        "    hashed = binascii.crc32(shingle.encode())\n",
        "\n",
        "    # lọc ra duy nhất\n",
        "    if hashed not in shinglesInDocInts:\n",
        "      shinglesInDocInts.add(hashed)\n",
        "\n",
        "      # tính số lượng shingles\n",
        "      shingleNo = shingleNo + 1\n",
        "  return shinglesInDocInts,shingleNo\n",
        "\n",
        "def isPrime(n):\n",
        "  # Corner cases\n",
        "  if(n <= 1):\n",
        "      return False\n",
        "  if(n <= 3):\n",
        "      return True\n",
        "    \n",
        "  # This is checked so that we can skip\n",
        "  # middle five numbers in below loop\n",
        "  if(n % 2 == 0 or n % 3 == 0):\n",
        "      return False\n",
        "  for i in range(5,int(math.sqrt(n) + 1), 6):\n",
        "      if(n % i == 0 or n % (i + 2) == 0):\n",
        "          return False\n",
        "  return True\n",
        "\n",
        "# Hàm trả về giá trị nhỏ nhất số nguyên tố lớn hơn N\n",
        "def nextPrimefunc(N):\n",
        "  # Base case\n",
        "  if (N <= 1):\n",
        "      return 2\n",
        "  prime = N\n",
        "  found = False\n",
        "  while(not found):\n",
        "      prime = prime + 1\n",
        "\n",
        "      if(isPrime(prime) == True):\n",
        "          found = True\n",
        "  return prime\n",
        "\n",
        "def pickRandomCoeffs(k):\n",
        "  # Create a list of 'k' random values.\n",
        "  randList = []\n",
        "\n",
        "  while k > 0:\n",
        "    randIndex = randint(0, maxShingleID)\n",
        "\n",
        "    while randIndex in randList:\n",
        "      randIndex = random.randint(0, maxShingleID)\n",
        "    randList.append(randIndex)\n",
        "    k = k - 1\n",
        "  return randList\n",
        "\n",
        "def signatureFunction(shingleIDSet):\n",
        "  signature = []\n",
        "  # vòng lặp trên số hash func\n",
        "  for i in range(0, numHashesFunction):\n",
        "\n",
        "    # vọp lặp shingle trong document\n",
        "    minHashCode = nextPrime + 1\n",
        "\n",
        "    # vọp lặp shingle trong document\n",
        "    for shingleID in shingleIDSet:\n",
        "      hashCode = (coeffA[i] * shingleID + coeffB[i]) % nextPrime\n",
        "      # điều kiện hash min => lấy hash nhỏ nhất\n",
        "      if hashCode < minHashCode:\n",
        "        minHashCode = hashCode\n",
        "\n",
        "    signature.append(minHashCode)\n",
        "  return signature\n",
        "\n",
        "def FindSimilarity_Singles(doc, n_neighbor):\n",
        "  doc = re.sub(\"[^\\w]\", \" \", doc).split()\n",
        "  singlesInput,n = split_k_gram(doc,0)\n",
        "  neighbors_of_given_document_Test = {}\n",
        "  for j in range(len(docsAsShingleSets)):\n",
        "    singles2 = docsAsShingleSets[j]\n",
        "    s1 = set(singlesInput)\n",
        "    s2 = set(singles2)\n",
        "    J = len(s1.intersection(s2)) / float(len(s1.union(s2)))\n",
        "    # kiểm tra Jaccard similarity có lớn hơn 0 hay ko\n",
        "    if (float(J) > 0):\n",
        "        percJ = J * 100\n",
        "        neighbors_of_given_document_Test[j] = percJ\n",
        "  neighbors_of_given_documentSIGNATURES_Test= sorted(neighbors_of_given_document_Test.items(), key=lambda x: x[1], reverse=True)\n",
        "  return list(neighbors_of_given_documentSIGNATURES_Test)[:n_neighbor]\n",
        "\n",
        "def FindSimilarity_minhash(doc, n_neighbor):\n",
        "  doc = re.sub(\"[^\\w]\", \" \", doc).split()\n",
        "  doc,n = split_k_gram(doc,0)\n",
        "  signatureInput = signatureFunction(doc)\n",
        "  neighbors_of_given_documentSIGNATURES_Test ={}\n",
        "\n",
        "  for j in range(len(signatures)):\n",
        "    signature2 = signatures[j]\n",
        "    s1 = set(signatureInput)\n",
        "    s2 = set(signature2)\n",
        "    J = len(s1.intersection(s2)) / float(len(s1.union(s2)))\n",
        "    if (float(J) > 0):\n",
        "        percJ = J * 100\n",
        "        neighbors_of_given_documentSIGNATURES_Test[j] = percJ\n",
        "\n",
        "  neighbors_of_given_documentSIGNATURES_Test= sorted(neighbors_of_given_documentSIGNATURES_Test.items(), key=lambda x: x[1], reverse=True)\n",
        "  return list(neighbors_of_given_documentSIGNATURES_Test)[:n_neighbor]\n",
        "\n",
        "def get_band_hashes(np_signature, numBand):\n",
        "  np_signature  = np.array_split(np_signature, numBand)\n",
        "  hash_sig = []\n",
        "  for i in np_signature:\n",
        "    j = [hash(x) for x in i]\n",
        "    hash_sig.append(sum(j))\n",
        "  return hash_sig\n",
        "\n",
        "def LSH(Test_input,n_neighbor):\n",
        "\n",
        "  Test_input = re.sub(\"[^\\w]\", \" \", Test_input).split()\n",
        "  Test_input,n = split_k_gram(Test_input, 0)\n",
        "  signatureInput = signatureFunction(Test_input)\n",
        "  input_band = get_band_hashes(signatureInput, numBand)\n",
        "  idDoc_samebucket = []\n",
        "  result = []\n",
        "  for i in range(len(input_band)):\n",
        "    if input_band[i] in bucket_value:\n",
        "      id = bucket_value.index(input_band[i])\n",
        "      idDoc_samebucket += [x for x in bucket_index[id] if x not in idDoc_samebucket]\n",
        "  for i in idDoc_samebucket:\n",
        "    s1 = set(input_band)\n",
        "    s2 = set(get_band_hashes(signatures[i], numBand))\n",
        "    sim = len(s1.intersection(s2)) / float(len(s1.union(s2)))*100\n",
        "    result.append((sim, i))\n",
        "  result= sorted(result, key=lambda x: x[0], reverse=True)\n",
        "  return list(result)[:n_neighbor]"
      ],
      "execution_count": 314,
      "outputs": []
    },
    {
      "cell_type": "markdown",
      "metadata": {
        "id": "IXeUIWyP5jNy"
      },
      "source": [
        "# SHINGLING - TÌM MA TRẬN BOOLEANS VỚI K-GRAMS = 10\n"
      ]
    },
    {
      "cell_type": "code",
      "metadata": {
        "id": "0qnN5BqyFYIp",
        "colab": {
          "base_uri": "https://localhost:8080/"
        },
        "outputId": "5695aecb-9b11-4083-8c16-dcd452689e6b"
      },
      "source": [
        "timeShingling = time.time()\n",
        "k_gram = 10 # size singles k = 10\n",
        "numHashesFunction = 50\n",
        "i = 0\n",
        "d = {}\n",
        "for document in documents:\n",
        "  # Cắt data thành các word\n",
        "  d[i] =  document\n",
        "  d[i] = re.sub(\"[^\\w]\", \" \", d[i]).split() # Thay thế bằng biểu thức chính quy: [^\\w] -> khớp với các từ hoặc ký tự bắt đầu nào không phải là chữ cái và chữ số\n",
        "  i += 1\n",
        "\n",
        "docsAsShingleSets = {} # tập set shingles\n",
        "docNames = [] # id của từng docs\n",
        "shingleNo = 0 # số lượng shingles\n",
        "print(\"Số documents: \",len(d))\n",
        "\n",
        "for i in range(0, len(d)):\n",
        "\n",
        "  document = d[i]\n",
        "  docID = i\n",
        "  docNames.append(docID)\n",
        "  shinglesInDocInts,shingleNo = split_k_gram(document, shingleNo)\n",
        "  docsAsShingleSets[docID] = shinglesInDocInts\n",
        "\n",
        "print(\"Số documents (shingling):\",len(docsAsShingleSets))\n",
        "print(\"Tổng tất cả Shingles:\", shingleNo)\n",
        "\n",
        "print(\"Thời gian chuyển đổi Shingling:\" , time.time() - timeShingling)"
      ],
      "execution_count": 315,
      "outputs": [
        {
          "output_type": "stream",
          "text": [
            "Số documents:  4624\n",
            "Số documents (shingling): 4624\n",
            "Tổng tất cả Shingles: 3156244\n",
            "Thời gian chuyển đổi Shingling: 6.760874032974243\n"
          ],
          "name": "stdout"
        }
      ]
    },
    {
      "cell_type": "markdown",
      "metadata": {
        "id": "SAueUYb56eFB"
      },
      "source": [
        "# MIN-HASHING - CREATE SIGNATURE MATRIX VỚI SỐ HASH FUNCTION = 50\n"
      ]
    },
    {
      "cell_type": "code",
      "metadata": {
        "colab": {
          "base_uri": "https://localhost:8080/"
        },
        "id": "k9Ke614MxfGe",
        "outputId": "d35c7792-aa4d-4555-f872-8fb2225cc5fa"
      },
      "source": [
        "maxShingleID = shingleNo\n",
        "nextPrime = nextPrimefunc(shingleNo)\n",
        "print ('Next prime = ', nextPrime)\n",
        "\n",
        "# Hàm băm ngẫu nhiên: h(x) = (a*x + b) % c\n",
        "# x là giá trị input, a và b là 2 chỉ số random và c sẽ là số nguyên tố lớn hơn\n",
        "# tổng số shingles (shingleNo)\n",
        "\n",
        "coeffA = pickRandomCoeffs(numHashesFunction)\n",
        "coeffB = pickRandomCoeffs(numHashesFunction)"
      ],
      "execution_count": 316,
      "outputs": [
        {
          "output_type": "stream",
          "text": [
            "Next prime =  3156259\n"
          ],
          "name": "stdout"
        }
      ]
    },
    {
      "cell_type": "code",
      "metadata": {
        "colab": {
          "base_uri": "https://localhost:8080/"
        },
        "id": "dQcM41A60JOS",
        "outputId": "42da145b-26bf-4f3c-cb2a-4fbbe23f66eb"
      },
      "source": [
        "timeSig = time.time()\n",
        "signatures = []\n",
        "\n",
        "# print(len(docsAsShingleSets))\n",
        "for docID in docNames:\n",
        "\n",
        "  # lấy tập shingle từ documents\n",
        "  shingleIDSet = docsAsShingleSets[docID]\n",
        "  # Store the MinHash signature for this document.\n",
        "  signatures.append(signatureFunction(shingleIDSet))\n",
        "\n",
        "# numDocs = len(signatures)\n",
        "print(\"Thời gian chuyển đổi Signature MinHashing:\" , time.time() - timeSig)"
      ],
      "execution_count": 317,
      "outputs": [
        {
          "output_type": "stream",
          "text": [
            "Thời gian chuyển đổi Signature MinHashing: 56.330769538879395\n"
          ],
          "name": "stdout"
        }
      ]
    },
    {
      "cell_type": "markdown",
      "metadata": {
        "id": "IDeT2mMSeW4p"
      },
      "source": [
        "# MIN-HASHING - CALCULATE JACCARD SIMILARITY"
      ]
    },
    {
      "cell_type": "markdown",
      "metadata": {
        "id": "hiolndlD0j0U"
      },
      "source": [
        "## SO SÁNH TỐC ĐỘ TÍNH JACCARD SIMILARITY GIỮA SHINGLES VÀ SIGNATURES"
      ]
    },
    {
      "cell_type": "code",
      "metadata": {
        "colab": {
          "base_uri": "https://localhost:8080/"
        },
        "id": "PvlMMu1pFqA4",
        "outputId": "982d22be-54f8-40f1-9b79-1c9ff9779998"
      },
      "source": [
        "inputNewDoc= documents[0]\n",
        "print(\"nội dung document \" + str(docNames[0]) + \":\")\n",
        "# document đầu vào\n",
        "print(documents[0])\n",
        "print(\"----------------------------------------------------\")\n",
        "time_JS = time.time()\n",
        "resSimilarity = FindSimilarity_Singles(inputNewDoc, 7)\n",
        "for x,y in resSimilarity:\n",
        "  print(\"{}% index-document:{} | document:{}\".format(round(y,2),x, documents[x]))\n",
        "print(\"Thời gian tìm kiếm và tính toán cho Jaccard Shingles::\",time.time() - time_JS)"
      ],
      "execution_count": 318,
      "outputs": [
        {
          "output_type": "stream",
          "text": [
            "nội dung document 0:\n",
            "\"Chúng tôi xác nhận rằng nhiều phát đạn đã bắn vào Trung tâm Mỹ ở Yangon hôm nay. Không có ai bị thương, chúng tôi đang điều tra sự việc\", phát ngôn viên đại sứ quán Mỹ tại Myanmar Aryani Manring cho biết.Giới chức Yangon, thành phố lớn nhất Myanmar, chưa bình luận về thông tin.Các tổ chức giám sát nhân quyền ở Myanmar cho biết có ít nhất 16 người biểu tình đã chết trong ngày 27/3, nâng tổng số người thiệt mạng kể từ khi quân đội Myanmar tiếp quản quyền lực ngày 1/2 lên 328.Những người biểu tình đã xuống đường gần như mỗi ngày sau khi quân đội bắt Cố vấn Suu Kyi và các quan chức cấp cao trong chính quyền dân cử, với lý do cáo buộc gian lận bầu cử hồi tháng 11/2020 không được giải quyết. Quân đội cam kết chuyển giao quyền lực cho bên chiến thắng sau khi bầu cử được tổ chức lại.Mỹ và các nước phương Tây đang gia tăng áp lực lên chính quyền quân sự Myanmar. Bộ Tài chính Mỹ hôm 25/3 thông báo đưa hai tập đoàn Myanmar Economic Holdings Public Company (MEHL) và Myanmar Economic Corporation Ltd (MEC) vào danh sách đen, cho biết Washington sẽ đóng băng mọi tài sản ở Mỹ của hai doanh nghiệp này.Đây là động thái mới nhất trong loạt biện pháp trừng phạt của Mỹ nhằm vào chính quyền quân sự Myanmar, cũng là hành động đầu tiên nhằm vào lợi ích kinh doanh của quân đội Myanmar, lực lượng kiểm soát nhiều lĩnh vực kinh tế khác nhau của đất nước.Vũ Anh (Theo Reuters)\n",
            "----------------------------------------------------\n",
            "100.0% index-document:0 | document:\"Chúng tôi xác nhận rằng nhiều phát đạn đã bắn vào Trung tâm Mỹ ở Yangon hôm nay. Không có ai bị thương, chúng tôi đang điều tra sự việc\", phát ngôn viên đại sứ quán Mỹ tại Myanmar Aryani Manring cho biết.Giới chức Yangon, thành phố lớn nhất Myanmar, chưa bình luận về thông tin.Các tổ chức giám sát nhân quyền ở Myanmar cho biết có ít nhất 16 người biểu tình đã chết trong ngày 27/3, nâng tổng số người thiệt mạng kể từ khi quân đội Myanmar tiếp quản quyền lực ngày 1/2 lên 328.Những người biểu tình đã xuống đường gần như mỗi ngày sau khi quân đội bắt Cố vấn Suu Kyi và các quan chức cấp cao trong chính quyền dân cử, với lý do cáo buộc gian lận bầu cử hồi tháng 11/2020 không được giải quyết. Quân đội cam kết chuyển giao quyền lực cho bên chiến thắng sau khi bầu cử được tổ chức lại.Mỹ và các nước phương Tây đang gia tăng áp lực lên chính quyền quân sự Myanmar. Bộ Tài chính Mỹ hôm 25/3 thông báo đưa hai tập đoàn Myanmar Economic Holdings Public Company (MEHL) và Myanmar Economic Corporation Ltd (MEC) vào danh sách đen, cho biết Washington sẽ đóng băng mọi tài sản ở Mỹ của hai doanh nghiệp này.Đây là động thái mới nhất trong loạt biện pháp trừng phạt của Mỹ nhằm vào chính quyền quân sự Myanmar, cũng là hành động đầu tiên nhằm vào lợi ích kinh doanh của quân đội Myanmar, lực lượng kiểm soát nhiều lĩnh vực kinh tế khác nhau của đất nước.Vũ Anh (Theo Reuters)\n",
            "100.0% index-document:87 | document:\"Chúng tôi xác nhận rằng nhiều phát đạn đã bắn vào Trung tâm Mỹ ở Yangon hôm nay. Không có ai bị thương, chúng tôi đang điều tra sự việc\", phát ngôn viên đại sứ quán Mỹ tại Myanmar Aryani Manring cho biết.Giới chức Yangon, thành phố lớn nhất Myanmar, chưa bình luận về thông tin.Các tổ chức giám sát nhân quyền ở Myanmar cho biết có ít nhất 16 người biểu tình đã chết trong ngày 27/3, nâng tổng số người thiệt mạng kể từ khi quân đội Myanmar tiếp quản quyền lực ngày 1/2 lên 328.Những người biểu tình đã xuống đường gần như mỗi ngày sau khi quân đội bắt Cố vấn Suu Kyi và các quan chức cấp cao trong chính quyền dân cử, với lý do cáo buộc gian lận bầu cử hồi tháng 11/2020 không được giải quyết. Quân đội cam kết chuyển giao quyền lực cho bên chiến thắng sau khi bầu cử được tổ chức lại.Mỹ và các nước phương Tây đang gia tăng áp lực lên chính quyền quân sự Myanmar. Bộ Tài chính Mỹ hôm 25/3 thông báo đưa hai tập đoàn Myanmar Economic Holdings Public Company (MEHL) và Myanmar Economic Corporation Ltd (MEC) vào danh sách đen, cho biết Washington sẽ đóng băng mọi tài sản ở Mỹ của hai doanh nghiệp này.Đây là động thái mới nhất trong loạt biện pháp trừng phạt của Mỹ nhằm vào chính quyền quân sự Myanmar, cũng là hành động đầu tiên nhằm vào lợi ích kinh doanh của quân đội Myanmar, lực lượng kiểm soát nhiều lĩnh vực kinh tế khác nhau của đất nước.Vũ Anh (Theo Reuters)\n",
            "18.8% index-document:23 | document:\"Quân đội đang tìm cách chung tay bảo vệ nền dân chủ với cả đất nước. Những hành động bạo lực gây ảnh hưởng tới an ninh và ổn định nhằm đề ra các yêu sách là không phù hợp\", Thống tướng Min Aung Hlaing phát biểu trong lễ duyệt binh kỷ niệm Ngày Các lực lượng vũ trang Myanmar tại thủ đô Naypyitaw hôm nay.Thống tướng Min Aung Hlaing cho biết quân đội tiếp quản quyền lực vì \"những hành động phi pháp\" của Cố vấn Nhà nước Aung San Suu Kyi và đảng Liên minh Quốc gia vì Dân chủ (NLD) của bà, thêm rằng nhiều lãnh đạo NLD bị phát hiện tham nhũng và đang đối mặt với những hành động pháp lý. Ông cũng cam kết tổ chức bầu cử lại, nhưng không đưa ra thời gian biểu cụ thể.Phát biểu được đưa ra trong bối cảnh các tổ chức ở Myanmar cho biết có ít nhất 16 người biểu tình đã chết trong ngày 27/3, nâng tổng số người thiệt mạng kể từ khi quân đội Myanmar tiếp quản quyền lực lên 328.Chính quyền quân sự hôm qua cũng phát cảnh báo tới người biểu tình. \"Mọi người nên học từ thảm kịch của những cái chết xấu xí trước đó, rằng tất cả đều có nguy cơ bị bắn vào đầu hoặc lưng\", chương trình phát sóng trên kênh MRTV của quân đội Myanmar cho hay.Những người biểu tình đã xuống đường gần như mỗi ngày sau khi quân đội bắt Cố vấn Suu Kyi và các quan chức cấp cao trong chính quyền dân cử, với lý do cáo buộc gian lận bầu cử hồi tháng 11/2020 không được giải quyết. Quân đội cam kết chuyển giao quyền lực cho bên chiến thắng sau khi bầu cử được tổ chức lại.Mỹ và các nước phương Tây đang gia tăng áp lực lên chính quyền quân sự Myanmar. Liên minh châu Âu đầu tuần này ra lệnh đóng băng tài sản và cấm nhập cảnh với Thống tướng Min Aung Hlaing và 11 quan chức khác.Vũ Anh (Theo Reuters)\n",
            "18.8% index-document:91 | document:\"Quân đội đang tìm cách chung tay bảo vệ nền dân chủ với cả đất nước. Những hành động bạo lực gây ảnh hưởng tới an ninh và ổn định nhằm đề ra các yêu sách là không phù hợp\", Thống tướng Min Aung Hlaing phát biểu trong lễ duyệt binh kỷ niệm Ngày Các lực lượng vũ trang Myanmar tại thủ đô Naypyitaw hôm nay.Thống tướng Min Aung Hlaing cho biết quân đội tiếp quản quyền lực vì \"những hành động phi pháp\" của Cố vấn Nhà nước Aung San Suu Kyi và đảng Liên minh Quốc gia vì Dân chủ (NLD) của bà, thêm rằng nhiều lãnh đạo NLD bị phát hiện tham nhũng và đang đối mặt với những hành động pháp lý. Ông cũng cam kết tổ chức bầu cử lại, nhưng không đưa ra thời gian biểu cụ thể.Phát biểu được đưa ra trong bối cảnh các tổ chức ở Myanmar cho biết có ít nhất 16 người biểu tình đã chết trong ngày 27/3, nâng tổng số người thiệt mạng kể từ khi quân đội Myanmar tiếp quản quyền lực lên 328.Chính quyền quân sự hôm qua cũng phát cảnh báo tới người biểu tình. \"Mọi người nên học từ thảm kịch của những cái chết xấu xí trước đó, rằng tất cả đều có nguy cơ bị bắn vào đầu hoặc lưng\", chương trình phát sóng trên kênh MRTV của quân đội Myanmar cho hay.Những người biểu tình đã xuống đường gần như mỗi ngày sau khi quân đội bắt Cố vấn Suu Kyi và các quan chức cấp cao trong chính quyền dân cử, với lý do cáo buộc gian lận bầu cử hồi tháng 11/2020 không được giải quyết. Quân đội cam kết chuyển giao quyền lực cho bên chiến thắng sau khi bầu cử được tổ chức lại.Mỹ và các nước phương Tây đang gia tăng áp lực lên chính quyền quân sự Myanmar. Liên minh châu Âu đầu tuần này ra lệnh đóng băng tài sản và cấm nhập cảnh với Thống tướng Min Aung Hlaing và 11 quan chức khác.Vũ Anh (Theo Reuters)\n",
            "8.96% index-document:96 | document:Các cuộc biểu tình tiếp tục diễn ra khắp Myanmar hôm 26/3, bao gồm khu vực Mandalay và Sagaing, cùng bang Karen và Chin. Một nhân chứng cho biết lực lượng an ninh đã nổ súng vào những người biểu tình vẫy cờ đen ở thị trấn Myeik phía nam.\"Hai người bị bắn vào đầu. Chúng tôi không thể đưa thi thể của nạn nhân thứ ba đi bởi lực lượng an ninh tập trung tại đó\", người này kể lại. Một nhân chứng khác cho hay anh đã nhìn thấy thi thể thứ tư, trong khi hãng tin Myanmar Now cũng đưa tin 4 người đã thiệt mạng tại Myeik.Theo số liệu từ nhóm hoạt động Hiệp hội Hỗ trợ Tù nhân Chính trị (AAPP), tình đến tối 25/3, ít nhất 320 người biểu tình đã thiệt mạng kể từ sau cuộc đảo chính quân sự hôm 1/2. Dữ liệu của AAPP còn cho thấy ít nhất 25% tử vong vì bị bắn vào đầu. Một phát ngôn viên quân đội từ chối bình luận về sự việc.Chính quyền quân sự hôm qua đưa ra cảnh báo với người biểu tình. \"Mọi người nên học từ thảm kịch của những cái chết xấu xí trước đó, rằng mọi người có nguy cơ bị bắn vào đầu hoặc lưng\", một chương trình phát sóng trên kênh MRTV của quân đội Myanmar cho hay, thêm rằng lực lượng an ninh quyết ngăn chặn bất cứ trở ngại nào vào Ngày Các lực lượng Vũ trang Myanmar hôm nay.Những người biểu tình đã xuống đường gần như mỗi ngày sau khi quân đội bắt Cố vấn Nhà nước Aung San Suu Kyi và các quan chức cấp cao trong chính quyền dân cử, với lý do cáo buộc gian lận bầu cử hồi tháng 11/2020 không được giải quyết. Quân đội cam kết chuyển giao quyền lực cho bên chiến thắng sau khi bầu cử được tổ chức lại.Ánh Ngọc (Theo Reuters)\n",
            "5.06% index-document:122 | document:Bộ Tài chính Mỹ hôm nay thông báo đưa hai tập đoàn Myanmar Economic Holdings Public Company (MEHL) và Myanmar Economic Corporation Ltd (MEC) vào danh sách đen. Theo đó, Washington sẽ đóng băng bất kỳ tài sản nào của hai thực thể này tại Mỹ.Quân đội Myanmar \"kiểm soát các phân khúc quan trọng của nền kinh tế đất nước thông qua các công ty mẹ này\", theo Bộ Tài chính Mỹ. \"Các biện pháp trừng phạt này đặc biệt nhắm vào nguồn lực kinh tế của chính quyền quân sự vì đã lật đổ chính phủ được bầu cử dân chủ và trấn áp người biểu tình\".Đây là động thái mới nhất trong loạt biện pháp trừng phạt của Mỹ nhằm vào ngân hàng trung ương và các tướng lĩnh hàng đầu Myanmar kể từ cuộc đảo chính ngày 1/2. Tuy nhiên, đây là hành động đầu tiên nhằm vào lợi ích kinh doanh của quân đội Myanmar, lực lượng kiểm soát nhiều lĩnh vực kinh tế khác nhau của đất nước, từ bia, thuốc lá đến viễn thông, sản xuất lốp xe, khai thác mỏ và bất động sản.Anh cũng vừa công bố các biện pháp trừng phạt nhằm vào MEHL với cáo buộc liên quan \"vi phạm nhân quyền nghiêm trọng đối với người Rohingya và mối liên quan với các quan chức quân đội cấp cao\".\"Các lệnh trừng phạt hôm nay nhắm vào lợi ích tài chính của quân đội nhằm rút cạn nguồn tài chính cho các chiến dịch trấn áp dân thường của họ\", Ngoại trưởng Anh Dominic Raab cho biết trong một tuyên bố.Quân đội Myanmar tiến hành cuộc đảo chính chớp nhoáng, bắt Cố vấn Nhà nước Aung San Suu Kyi và nhiều quan chức chính quyền dân sự với cáo buộc xảy ra gian lận trong cuộc bầu cử tháng 11 năm ngoái. Hàng trăm nghìn người Myanmar biểu tình gần như mỗi ngày kể từ đó để phản đối đảo chính, yêu cầu thả bà Suu Kyi và kêu gọi quân đội tôn trọng kết quả bầu cử.Lực lượng an ninh Myanmar đã mạnh tay trấn áp biểu tình, sử dụng vòi rồng, hơi cay, thậm chí cả đạn thật để đối phó, khiến nhiều dân thường thiệt mạng.Theo Hiệp hội Hỗ trợ Tù nhân Chính trị, gần 290 người đã chết và hơn 2.600 người bị bắt từ khi biểu tình bùng phát, song các nhà quan sát cho biết con số thực tế có thể cao hơn nhiều. Trước sức ép từ dư luận quốc tế, quân đội Myanmar hôm 24/3 thả hơn 600 người biểu tình.Mỹ và các nước phương Tây đang ngày càng gây áp lực lên chính quyền quân sự Myanmar. Liên minh châu Âu (EU) đầu tuần này ra lệnh đóng băng tài sản và cấm nhập cảnh với thống tướng Min Aung Hlaing, tư lệnh quân đội và lãnh đạo chính quyền quân sự Myanmar. Biện pháp trừng phạt tương tự cũng được áp dụng với 11 quan chức chính quyền quân sự Myanmar.Các nhà ngoại giao EU nói rằng MEHLvà MEC nhiều khả năng cũng sắp bị khối này trừng phạt nhằm ngăn các nhà đầu tư và ngân hàng EU giao dịch với họ.Huyền Lê (Theo Reuters, AFP)\n",
            "1.54% index-document:115 | document:\"Người dân xung quanh đã gọi sở cứu hỏa để dập lửa khi phát hiện đám cháy. Tình hình được kiểm soát vào khoảng 5h\", Soe Win, thành viên đảng Liên minh Quốc gia vì Dân chủ (NLD) phụ trách trụ sở ở Yangon, Myanmar, cho biết hôm nay.\"Dường như ai đó đã châm bom xăng rồi ném vào trụ sở. Chúng tôi phải gửi đơn khiếu nại lên cảnh sát. Chúng tôi không biết ai đã làm điều này, nhưng nó không tốt chút nào\", Soe Win cho biết và từ chối suy đoán lý do dẫn đến sự việc, thêm rằng chỉ có lối vào văn phòng bị cháy và NLD đang đánh giá thiệt hại bên trong.Trụ sở NLD ở Yangon từng là địa điểm của nhiều cuộc biểu tình trong những tuần đầu tiên sau vụ quân đội Myanmar bắt Cố vấn Nhà nước Aung San Suu Kyi cùng các quan chức cấp cao trong chính quyền dân cử hôm 1/2.Đảng NLD của bà Suu Kyi rơi vào tình trạng hỗn loạn và nhiều thành viên phải ẩn náu, trong khi các cuộc biểu tình trên đường phố ngày càng gây lo ngại vì tình hình thương vong, khi lực lượng an ninh triển khai hơi cay, đạn cao su và bắn đạn thật để giải tán đám đông. Các nhóm giám sát địa phương cho biết khoảng 320 người đã thiệt mạng trong biểu tình, quân đội Myanmar khẳng định con số này là 164.Mỹ và các nước phương Tây đang gia tăng áp lực lên chính quyền quân sự Myanmar. Liên minh châu Âu (EU) đầu tuần này ra lệnh đóng băng tài sản và cấm nhập cảnh với Thống tướng Min Aung Hlaing, tư lệnh quân đội và lãnh đạo chính quyền quân sự. Biện pháp trừng phạt tương tự cũng được áp dụng với 11 quan chức khác.Ánh Ngọc (Theo AFP)\n",
            "Thời gian tìm kiếm và tính toán cho Jaccard Shingles:: 0.3693363666534424\n"
          ],
          "name": "stdout"
        }
      ]
    },
    {
      "cell_type": "code",
      "metadata": {
        "colab": {
          "base_uri": "https://localhost:8080/"
        },
        "id": "nooPnkMuK-iK",
        "outputId": "f5417165-9ed9-4e2f-8989-7aaf351ec721"
      },
      "source": [
        "# tốc độ khi tính jaccard bằng shingles và minhash có sự chênh lệch lẫn nhau\n",
        "inputNewDoc= documents[0]\n",
        "print(\"nội dung document \" + str(docNames[0]) + \":\")\n",
        "# document đầu vào\n",
        "print(documents[0])\n",
        "print(\"----------------------------------------------------\")\n",
        "time_JShash = time.time()\n",
        "resSimilarity = FindSimilarity_minhash(inputNewDoc, 7)\n",
        "# print(resSimilarity)\n",
        "for x,y in resSimilarity:\n",
        "  print(\"{}% index-document:{} | document:{}\".format(round(y,2),x, documents[x]))\n",
        "print(\"Thời gian tìm kiếm và tính toán cho Jaccard MinHashing: \", time.time() - time_JShash)"
      ],
      "execution_count": 319,
      "outputs": [
        {
          "output_type": "stream",
          "text": [
            "nội dung document 0:\n",
            "\"Chúng tôi xác nhận rằng nhiều phát đạn đã bắn vào Trung tâm Mỹ ở Yangon hôm nay. Không có ai bị thương, chúng tôi đang điều tra sự việc\", phát ngôn viên đại sứ quán Mỹ tại Myanmar Aryani Manring cho biết.Giới chức Yangon, thành phố lớn nhất Myanmar, chưa bình luận về thông tin.Các tổ chức giám sát nhân quyền ở Myanmar cho biết có ít nhất 16 người biểu tình đã chết trong ngày 27/3, nâng tổng số người thiệt mạng kể từ khi quân đội Myanmar tiếp quản quyền lực ngày 1/2 lên 328.Những người biểu tình đã xuống đường gần như mỗi ngày sau khi quân đội bắt Cố vấn Suu Kyi và các quan chức cấp cao trong chính quyền dân cử, với lý do cáo buộc gian lận bầu cử hồi tháng 11/2020 không được giải quyết. Quân đội cam kết chuyển giao quyền lực cho bên chiến thắng sau khi bầu cử được tổ chức lại.Mỹ và các nước phương Tây đang gia tăng áp lực lên chính quyền quân sự Myanmar. Bộ Tài chính Mỹ hôm 25/3 thông báo đưa hai tập đoàn Myanmar Economic Holdings Public Company (MEHL) và Myanmar Economic Corporation Ltd (MEC) vào danh sách đen, cho biết Washington sẽ đóng băng mọi tài sản ở Mỹ của hai doanh nghiệp này.Đây là động thái mới nhất trong loạt biện pháp trừng phạt của Mỹ nhằm vào chính quyền quân sự Myanmar, cũng là hành động đầu tiên nhằm vào lợi ích kinh doanh của quân đội Myanmar, lực lượng kiểm soát nhiều lĩnh vực kinh tế khác nhau của đất nước.Vũ Anh (Theo Reuters)\n",
            "----------------------------------------------------\n",
            "100.0% index-document:0 | document:\"Chúng tôi xác nhận rằng nhiều phát đạn đã bắn vào Trung tâm Mỹ ở Yangon hôm nay. Không có ai bị thương, chúng tôi đang điều tra sự việc\", phát ngôn viên đại sứ quán Mỹ tại Myanmar Aryani Manring cho biết.Giới chức Yangon, thành phố lớn nhất Myanmar, chưa bình luận về thông tin.Các tổ chức giám sát nhân quyền ở Myanmar cho biết có ít nhất 16 người biểu tình đã chết trong ngày 27/3, nâng tổng số người thiệt mạng kể từ khi quân đội Myanmar tiếp quản quyền lực ngày 1/2 lên 328.Những người biểu tình đã xuống đường gần như mỗi ngày sau khi quân đội bắt Cố vấn Suu Kyi và các quan chức cấp cao trong chính quyền dân cử, với lý do cáo buộc gian lận bầu cử hồi tháng 11/2020 không được giải quyết. Quân đội cam kết chuyển giao quyền lực cho bên chiến thắng sau khi bầu cử được tổ chức lại.Mỹ và các nước phương Tây đang gia tăng áp lực lên chính quyền quân sự Myanmar. Bộ Tài chính Mỹ hôm 25/3 thông báo đưa hai tập đoàn Myanmar Economic Holdings Public Company (MEHL) và Myanmar Economic Corporation Ltd (MEC) vào danh sách đen, cho biết Washington sẽ đóng băng mọi tài sản ở Mỹ của hai doanh nghiệp này.Đây là động thái mới nhất trong loạt biện pháp trừng phạt của Mỹ nhằm vào chính quyền quân sự Myanmar, cũng là hành động đầu tiên nhằm vào lợi ích kinh doanh của quân đội Myanmar, lực lượng kiểm soát nhiều lĩnh vực kinh tế khác nhau của đất nước.Vũ Anh (Theo Reuters)\n",
            "100.0% index-document:87 | document:\"Chúng tôi xác nhận rằng nhiều phát đạn đã bắn vào Trung tâm Mỹ ở Yangon hôm nay. Không có ai bị thương, chúng tôi đang điều tra sự việc\", phát ngôn viên đại sứ quán Mỹ tại Myanmar Aryani Manring cho biết.Giới chức Yangon, thành phố lớn nhất Myanmar, chưa bình luận về thông tin.Các tổ chức giám sát nhân quyền ở Myanmar cho biết có ít nhất 16 người biểu tình đã chết trong ngày 27/3, nâng tổng số người thiệt mạng kể từ khi quân đội Myanmar tiếp quản quyền lực ngày 1/2 lên 328.Những người biểu tình đã xuống đường gần như mỗi ngày sau khi quân đội bắt Cố vấn Suu Kyi và các quan chức cấp cao trong chính quyền dân cử, với lý do cáo buộc gian lận bầu cử hồi tháng 11/2020 không được giải quyết. Quân đội cam kết chuyển giao quyền lực cho bên chiến thắng sau khi bầu cử được tổ chức lại.Mỹ và các nước phương Tây đang gia tăng áp lực lên chính quyền quân sự Myanmar. Bộ Tài chính Mỹ hôm 25/3 thông báo đưa hai tập đoàn Myanmar Economic Holdings Public Company (MEHL) và Myanmar Economic Corporation Ltd (MEC) vào danh sách đen, cho biết Washington sẽ đóng băng mọi tài sản ở Mỹ của hai doanh nghiệp này.Đây là động thái mới nhất trong loạt biện pháp trừng phạt của Mỹ nhằm vào chính quyền quân sự Myanmar, cũng là hành động đầu tiên nhằm vào lợi ích kinh doanh của quân đội Myanmar, lực lượng kiểm soát nhiều lĩnh vực kinh tế khác nhau của đất nước.Vũ Anh (Theo Reuters)\n",
            "11.11% index-document:23 | document:\"Quân đội đang tìm cách chung tay bảo vệ nền dân chủ với cả đất nước. Những hành động bạo lực gây ảnh hưởng tới an ninh và ổn định nhằm đề ra các yêu sách là không phù hợp\", Thống tướng Min Aung Hlaing phát biểu trong lễ duyệt binh kỷ niệm Ngày Các lực lượng vũ trang Myanmar tại thủ đô Naypyitaw hôm nay.Thống tướng Min Aung Hlaing cho biết quân đội tiếp quản quyền lực vì \"những hành động phi pháp\" của Cố vấn Nhà nước Aung San Suu Kyi và đảng Liên minh Quốc gia vì Dân chủ (NLD) của bà, thêm rằng nhiều lãnh đạo NLD bị phát hiện tham nhũng và đang đối mặt với những hành động pháp lý. Ông cũng cam kết tổ chức bầu cử lại, nhưng không đưa ra thời gian biểu cụ thể.Phát biểu được đưa ra trong bối cảnh các tổ chức ở Myanmar cho biết có ít nhất 16 người biểu tình đã chết trong ngày 27/3, nâng tổng số người thiệt mạng kể từ khi quân đội Myanmar tiếp quản quyền lực lên 328.Chính quyền quân sự hôm qua cũng phát cảnh báo tới người biểu tình. \"Mọi người nên học từ thảm kịch của những cái chết xấu xí trước đó, rằng tất cả đều có nguy cơ bị bắn vào đầu hoặc lưng\", chương trình phát sóng trên kênh MRTV của quân đội Myanmar cho hay.Những người biểu tình đã xuống đường gần như mỗi ngày sau khi quân đội bắt Cố vấn Suu Kyi và các quan chức cấp cao trong chính quyền dân cử, với lý do cáo buộc gian lận bầu cử hồi tháng 11/2020 không được giải quyết. Quân đội cam kết chuyển giao quyền lực cho bên chiến thắng sau khi bầu cử được tổ chức lại.Mỹ và các nước phương Tây đang gia tăng áp lực lên chính quyền quân sự Myanmar. Liên minh châu Âu đầu tuần này ra lệnh đóng băng tài sản và cấm nhập cảnh với Thống tướng Min Aung Hlaing và 11 quan chức khác.Vũ Anh (Theo Reuters)\n",
            "11.11% index-document:91 | document:\"Quân đội đang tìm cách chung tay bảo vệ nền dân chủ với cả đất nước. Những hành động bạo lực gây ảnh hưởng tới an ninh và ổn định nhằm đề ra các yêu sách là không phù hợp\", Thống tướng Min Aung Hlaing phát biểu trong lễ duyệt binh kỷ niệm Ngày Các lực lượng vũ trang Myanmar tại thủ đô Naypyitaw hôm nay.Thống tướng Min Aung Hlaing cho biết quân đội tiếp quản quyền lực vì \"những hành động phi pháp\" của Cố vấn Nhà nước Aung San Suu Kyi và đảng Liên minh Quốc gia vì Dân chủ (NLD) của bà, thêm rằng nhiều lãnh đạo NLD bị phát hiện tham nhũng và đang đối mặt với những hành động pháp lý. Ông cũng cam kết tổ chức bầu cử lại, nhưng không đưa ra thời gian biểu cụ thể.Phát biểu được đưa ra trong bối cảnh các tổ chức ở Myanmar cho biết có ít nhất 16 người biểu tình đã chết trong ngày 27/3, nâng tổng số người thiệt mạng kể từ khi quân đội Myanmar tiếp quản quyền lực lên 328.Chính quyền quân sự hôm qua cũng phát cảnh báo tới người biểu tình. \"Mọi người nên học từ thảm kịch của những cái chết xấu xí trước đó, rằng tất cả đều có nguy cơ bị bắn vào đầu hoặc lưng\", chương trình phát sóng trên kênh MRTV của quân đội Myanmar cho hay.Những người biểu tình đã xuống đường gần như mỗi ngày sau khi quân đội bắt Cố vấn Suu Kyi và các quan chức cấp cao trong chính quyền dân cử, với lý do cáo buộc gian lận bầu cử hồi tháng 11/2020 không được giải quyết. Quân đội cam kết chuyển giao quyền lực cho bên chiến thắng sau khi bầu cử được tổ chức lại.Mỹ và các nước phương Tây đang gia tăng áp lực lên chính quyền quân sự Myanmar. Liên minh châu Âu đầu tuần này ra lệnh đóng băng tài sản và cấm nhập cảnh với Thống tướng Min Aung Hlaing và 11 quan chức khác.Vũ Anh (Theo Reuters)\n",
            "3.09% index-document:96 | document:Các cuộc biểu tình tiếp tục diễn ra khắp Myanmar hôm 26/3, bao gồm khu vực Mandalay và Sagaing, cùng bang Karen và Chin. Một nhân chứng cho biết lực lượng an ninh đã nổ súng vào những người biểu tình vẫy cờ đen ở thị trấn Myeik phía nam.\"Hai người bị bắn vào đầu. Chúng tôi không thể đưa thi thể của nạn nhân thứ ba đi bởi lực lượng an ninh tập trung tại đó\", người này kể lại. Một nhân chứng khác cho hay anh đã nhìn thấy thi thể thứ tư, trong khi hãng tin Myanmar Now cũng đưa tin 4 người đã thiệt mạng tại Myeik.Theo số liệu từ nhóm hoạt động Hiệp hội Hỗ trợ Tù nhân Chính trị (AAPP), tình đến tối 25/3, ít nhất 320 người biểu tình đã thiệt mạng kể từ sau cuộc đảo chính quân sự hôm 1/2. Dữ liệu của AAPP còn cho thấy ít nhất 25% tử vong vì bị bắn vào đầu. Một phát ngôn viên quân đội từ chối bình luận về sự việc.Chính quyền quân sự hôm qua đưa ra cảnh báo với người biểu tình. \"Mọi người nên học từ thảm kịch của những cái chết xấu xí trước đó, rằng mọi người có nguy cơ bị bắn vào đầu hoặc lưng\", một chương trình phát sóng trên kênh MRTV của quân đội Myanmar cho hay, thêm rằng lực lượng an ninh quyết ngăn chặn bất cứ trở ngại nào vào Ngày Các lực lượng Vũ trang Myanmar hôm nay.Những người biểu tình đã xuống đường gần như mỗi ngày sau khi quân đội bắt Cố vấn Nhà nước Aung San Suu Kyi và các quan chức cấp cao trong chính quyền dân cử, với lý do cáo buộc gian lận bầu cử hồi tháng 11/2020 không được giải quyết. Quân đội cam kết chuyển giao quyền lực cho bên chiến thắng sau khi bầu cử được tổ chức lại.Ánh Ngọc (Theo Reuters)\n",
            "3.09% index-document:2405 | document:Tôi là một giáo viên THCS. Trước khi lập gia đình, cuộc sống của tôi không đến nỗi bần hàn. Năm 33 tuổi, tôi gặp được một cô gái nhỏ nhắn, rất duyên.Sau một thời gian, cô ấy tỏ tình với tôi nhưng lúc đó, tôi chỉ xem cô ấy như bạn bè. Thời gian dần trôi, cảm nhận được tình cảm thật sự của cô ấy, tôi đã thử cho nhau một cơ hội tìm hiểu.Cô ấy rất vui mừng khi được tôi ngỏ lời, tính đến chuyện hôn nhân. Năm 34 tuổi, chúng tôi kết hôn (cô ấy là cán bộ thư viện ở trường tiểu học). Tôi yêu cô ấy rất nhiều. Có thể nói nếu không cưới được cô ấy, tôi có thể chết đi hoặc phải xin nghỉ việc, bỏ đi xa để tìm sự lãng quên.Sau khi cưới, vì quá thương vợ nên sáng sớm, tôi chở cô ấy ra nhà mẹ đẻ. Sau đó, tôi đi làm, đến hơn 6 giờ chiều, tôi đón cô ấy về. Tôi là người đàn ông không hút thuốc, uống rượu hay cờ bạc, rất mực yêu thương vợ.Nhưng trong suốt thời gian đó, vợ chồng tôi chưa từng ngồi lại ăn một bữa cơm chung.Cô ấy cũng chưa nấu cho tôi một bữa cơm nào dù ngày lễ hay Chủ nhật. Vợ cũng chưa mua tặng tôi một chiếc áo… Cô ấy chỉ thường xuyên về nhà mẹ đẻ. Nói vậy để mọi người biết cô ấy không quá vất vả khi là vợ tôi.Tiền lương của tôi, cô ấy giữ và không cho tôi lại dù chỉ 1 ngàn đồng để ăn sáng, đổ xăng… nhưng tôi rất vui vẻ vì quá yêu vợ mình. Sau hơn 4 tháng kết hôn, cô ấy mang thai, niềm vui sướng được nhân lên. Tôi hạnh phúc hơn bao giờ hết. Khi con gái của chúng tôi lên 4 tuổi, tôi bị người khác lừa hùn vốn làm ăn nhưng không thu lại được vốn hay lãi. Bắt đầu thiếu thốn, tôi phải vay mượn bạn bè mỗi người một ít (hơn 50 triệu đồng).Đầu năm Tân Sửu (2021), mùng 7 Tết, vợ bỏ cha con tôi, về nhà mẹ đẻ. Sau đó, cô ấy không chịu về nữa (lúc này con gái tôi tròn 5 tuổi). Tối đó, tôi sang van xin, nài nỉ vợ về nhưng cả nhà vợ nói nặng nhẹ đủ điều.Tôi yêu vợ nhiều lắm, nhiều hơn cả bản thân mình. Vợ chồng tôi không có cãi vã, tôi cũng không có lỗi lầm gì. Tôi chỉ có số nợ vài chục triệu đồng nhưng chưa bao giờ bắt cô ấy phải gồng gánh, lo toan. Cô ấy không về dù con gái tôi khóc đòi mẹ.Mỗi ngày, vì quá yêu vợ, tôi có đến chỗ làm quỳ xin vợ về và cho tôi cơ hội làm lại nhưng tất cả đều vô vọng. Cô ấy chỉ nói : “Nợ nần mai mốt có gì không ai gánh nổi”. Vì món nợ vài chục triệu đồng, tôi đánh mất hạnh phúc gia đình, một niềm hạnh phúc mà tôi chưa từng nghĩ sẽ đổ vỡ.Lòng tôi đau buốt như dao cắt từng cơn, tim tôi co thắt đến không thở được. Chính cô ấy là người đưa tôi đến đỉnh cao của niềm vui hạnh phúc cũng chính cô ấy đã làm tôi đau khổ đến mức tận cùng. Giờ tôi còn quá yêu vợ, chỉ mong sau này, cô ấy sẽ quay về.Tôi viết lên đây vài dòng tâm sự để thấy được sự thống khổ người đàn ông phải chịu đựng. Nếu không có con gái, tôi không còn thiết sống nữa. Nỗi đau của sự hụt hẫng tàn nhẫn đến vô cùng. Giờ tiền hết, tình mất, nhìn con mà lòng dạ tôi nào an.Xem thêm video: Mẹ 103 tuổi chống gậy ra cổng, bịn rịn chia tay con gái 80 tuổibrowser not support iframe.Độc giả: N.C.Q\n",
            "2.06% index-document:576 | document:Tôi năm nay 35 tuổi, còn độc thân, đang làm ngân hàng. Năm 29 tuổi, sau quãng thời gian phấn đấu cho sự nghiệp (ngoài làm công việc chính, tôi còn nhận làm thêm một số dự án bên ngoài), tôi tích lũy được một khoản 300 triệu đồng, cộng thêm số tiền ba mẹ cho trước đó, tôi dồn lại được khoảng 600 triệu đồng tích trữ. Đứng trước cái ngưỡng 30 tuổi, nhiều người thường muốn làm một việc gì đó lớn để ghi lại cột mốc đáng nhớ này. Thế nhưng tôi lại không giống vậyNhìn bạn bè xung quanh người mua nhà, người sắm ôtô, bản thân tôi cũng không hề muốn mình chỉ để tiền tiết kiệm. Thế nhưng, thay vì mua nhà hay xe như chúng bạn, tôi chọn mang tiền đi học thêm và đầu tư chứng khoán một cách nghiêm túc. Với tôi, không nên mua nhà trước tuổi 30 nếu không muốn tự biến mình thành con nợ, mua rồi đầu óc lúc nào cũng sẽ ám ảnh chuyện tiền bạc.Thêm vào đó, mua nhà mà chỉ để ở thì cũng chỉ là tiêu sản. Bạn sẽ vô tình phải gánh theo một khoản nợ lớn. Tất nhiên, nếu bạn có ý định đầu tư vào bất động sản để sau này bán kiếm lời thì lại là một chuyện khác. Muốn vậy, bạn cần chọn vị trí tốt, dễ thanh khoản, lãi suất vay thấp và không mua qua \"cò mồi\", có thể trả tiền theo đợt thì càng tốt.Nhiều khi mắc nợ cũng là điều hay, nó sẽ cho bạn động lực để phấn đấu, nhưng bạn luôn phải đảm bảo khoản nợ đó nằm trong khả năng của bản thân. Đừng nhắm mắt vay liều để rồi cả đời phải đi trả nợ.>> 12 năm ở nhà thuê Sài Gòn vì không muốn sống cảnh nợ nầnỞ nước ngoài, nhất là các nước phương Tây, ở nhà thuê là chuyện hết sức bình thường. Người ta sẽkhông \"nướng\" toàn bộ tài sản của mình để đi mua nhà (tiêu sản). Cách dùng tiền thông minh nhất là đầu tư, nhất là đầu tư kiến thức. Cụ thể ở đây là đầu tư nâng cao trình độ học vấn về một lĩnh vực nào đó để tạo nền tảng tạo ra giá trị tài sản lớn hơn, chứ không phải học để lấy vài ba tấm bằng Thạc sĩ cho \"oai\".Nhà về cơ bản là nơi tiêu tiền. Nếu có nhà sớm, bạn sẽ phải đau đầu vì nhiều khoản phát sinh mỗi tháng như tiền điện, nước, mua sắm vật dụng, thuế, phí... Vậy nên, nếu đủ tự tin rằng mình sẽ lo liệu được tất cả những khoản đó, bạn hãy nghĩ đến chuyện mua nhà.Thực tế, người giàu thường có thói quen coi cơ sở sản xuất kinh doanh là tài sản lớn nhất chứ không phải ngôi nhà. Trong khi đó, ngược lại, người nghèo lại thường có xu hướng coi nhà là tài sản lớn nhất, để rồi tự biến mình trở thành \"nô lệ của đồng tiền\".Với 600 triệu đồng trước năm 30 tuổi, sau 5 năm, tôi vẫn ở nhà thuê, nhưng lương tháng giờ đã chạm ngưỡng 50 triệu đồng, tài sản đã tăng gấp ba lần và nhất là không thành con nợ. Thời gian tới, có lẽ tôi sẽ đem tiền mua nhà, nhưng không phải để ở mà là để đầu tư.Tôi vẫn sẽ ở nhà thuê còn căn nhà sắp mua sẽ để cho thuê lại, chờ được giá rồi bán kiếm lời. Với tôi, căn nhà chính chủ không làm nên giá trị một con người, nó cũng chỉ như cái áo bạn mặc bên ngoài mà thôi.Ở nhà thuê chẳng có gì là kém cỏi, miễn là bạn thấy thoải mái với mái ấm của mình. Sau này nhìn lại, các bạn sẽ hiểu làm chủ cuộc đời mình luôn tốt hơn làm chủ một ngôi nhà vô tri vô giác.Duy Hải>> Theo bạn, có nên mua nhà trước tuổi 30? Gửi bài tại đây. Bài viết không nhất thiết trùng với quan điểm VnExpress.net\n",
            "Thời gian tìm kiếm và tính toán cho Jaccard MinHashing:  0.05033612251281738\n"
          ],
          "name": "stdout"
        }
      ]
    },
    {
      "cell_type": "markdown",
      "metadata": {
        "id": "aFrwgefbMLsc"
      },
      "source": [
        "# LOCALLITY SENSITIVE HASHING"
      ]
    },
    {
      "cell_type": "code",
      "metadata": {
        "id": "FOV6drQqe9YO",
        "colab": {
          "base_uri": "https://localhost:8080/"
        },
        "outputId": "0ef486ee-a784-4329-ab12-4685615cbc62"
      },
      "source": [
        "time_LSH = time.time()\n",
        "numBand = 50\n",
        "\n",
        "bucket_value = []\n",
        "bucket_index = []\n",
        "\n",
        "\n",
        "for k in range(len(signatures)):\n",
        "  for i in get_band_hashes(signatures[k], numBand):\n",
        "    if i not in bucket_value:\n",
        "      bucket_value.append(i)\n",
        "      bucket_index.append([k])\n",
        "    else:\n",
        "      index = bucket_value.index(i)\n",
        "      bucket_index[index].append(k)\n",
        "\n",
        "lst_result = LSH(documents[1], 7)\n",
        "for x,y in lst_result:\n",
        "  print(\"{}% index-document:{} | document: {}\".format(round(x,2),y, documents[y]))\n",
        "\n",
        "print(\"Thời gian tìm kiểm LSH \", time.time() - time_LSH)"
      ],
      "execution_count": 320,
      "outputs": [
        {
          "output_type": "stream",
          "text": [
            "100.0% index-document:1 | document: Người đẹp mặc năng động với crop-top trắng, chân váy kẻ ngang, tạo cảm giác vòng ba đầy đặn hơn.Người đẹp mặc năng động với crop-top trắng, chân váy kẻ ngang, tạo cảm giác vòng ba đầy đặn hơn.Bà mẹ một con giữ dáng bằng cách tập yoga, ăn nhiều hoa quả, rau xanh.Ảnh: Ngô Thanh Sơn. Trang điểm: Hiwon. Stylist: Phạm Bảo Luận.Bà mẹ một con giữ dáng bằng cách tập yoga, ăn nhiều hoa quả, rau xanh.Ảnh: Ngô Thanh Sơn. Trang điểm: Hiwon. Stylist: Phạm Bảo Luận.\n",
            "100.0% index-document:182 | document: Người đẹp mặc năng động với crop-top trắng, chân váy kẻ ngang, tạo cảm giác vòng ba đầy đặn hơn.Người đẹp mặc năng động với crop-top trắng, chân váy kẻ ngang, tạo cảm giác vòng ba đầy đặn hơn.Bà mẹ một con giữ dáng bằng cách tập yoga, ăn nhiều hoa quả, rau xanh.Ảnh: Ngô Thanh Sơn. Trang điểm: Hiwon. Stylist: Phạm Bảo Luận.Bà mẹ một con giữ dáng bằng cách tập yoga, ăn nhiều hoa quả, rau xanh.Ảnh: Ngô Thanh Sơn. Trang điểm: Hiwon. Stylist: Phạm Bảo Luận.\n",
            "2.04% index-document:1527 | document: Dù đã có nhiều đóng góp thiết thực cho cộng đồng, ca sĩ Thủy Tiên cũng liên tục gặp phải nhiều tin đồn gây ảnh hưởng đến công việc và cuộc sống. Sáng 25/3, nhiều diễn đàn mạng lan truyền thông tin căn biệt thự 1.000 m2 của Thủy Tiên được xây từ tiền từ thiện của người dânThông tin này có nội dung: “Năm ngoái, nghe chị kêu vỡ nợ, tài khoản còn 300 ngàn, công ty đóng cửa mà em lo gần bệnh luôn. Sau một năm mùa nước lũ, chị tự dưng phát lên rồi xây căn biệt thự 1000 m2 làm em mừng từ qua tới nay. Chúc mừng vợ chồng anh chị nha” kèm hình ảnh căn biệt thự của gia đình Thủy Tiên.Trao đổi với VietNamNet, Thủy Tiên khẳng định các nội dung ăn chặn tiền từ thiện để xây nhà trên mạng xã hội là bịa đặt. Cô đã đăng lại bình luận của antifan kèm bằng chứng mua bán và sửa chữa căn biệt thự đang sinh sống. Thủy Tiên cho biết từng bỏ việc động thổ để ra miền Trung cùng bà con và xác nhận không có chuyện nợ nần.“Căn biệt thự tôi đang ở tại quận 7 từ trước giờ tổng diện tích sử dụng là 1.000 m2, do ở lâu móng nhà có chút vấn đề, nứt lún phần móng nhà nên năm ngoái có kế hoạch sửa chửa. Tháng 8 âm lịch năm ngoái là phải thi công sửa mới kịp xong trước Tết\", cô nói.Thủy Tiên cũng cho VietNamNet biết thêm, việc thu chi làm từ thiện đã được cô sao kê chia sẻ công khai và minh bạch với cộng đồng từ ngày 25/11 năm ngoái.Hiện tại, chỉ còn những công trình xây dựng đòi hỏi thời gian lâu như nhà cộng đồng (tốn khoảng 6 tháng) hay việc xây cầu dự kiến hoàn thành trước Tết lại gặp mưa to kéo dài, ngập nên không thể đổ móng nên bị chậm trễ. Vài ngày trước, mưa làm công trình lại bị ngập tiếp nên dở dang, xây dựng ở xa ngoài việc vận chuyển nguyên vật liệu, địa hình phức tạp, khí hậu thời tiết cũng gây khó khăn để thi công. Tuy nhiên, cô vẫn luôn giám sát tình hình và dự kiến sẽ hoàn thành trong tối đa khoảng 1-2 tháng tới.Thủy Tiên cho biết ngày nào cô cũng có những công việc khác nhau liên quan đến công tác từ thiện. Những việc này cô chủ yếu dùng tiền cá nhân từ quảng cáo, công việc,... và chồng cô - Công Vinh cũng góp thêm nên cô không nhất thiết phải thông báo đến mọi người. \"Tôi luôn nhận được những lời nhờ giúp đỡ và thấy áy náy nếu họ là những hoàn cảnh quá khổ hay đáng thương. Đôi khi, tôi cũng thấy quá sức của bản thân, nhưng với những trường hợp đặc biệt, sẽ luôn cố gắng giúp đỡ'' - Thủy Tiên cho biết.Trong năm 2020, khi bà con miền Trung gặp bão lũ, ca sĩ Thủy Tiên đã là người đầu tiên đứng lên tiên phong kêu gọi các mạnh thường quân giúp đỡ người dân ở Hà Tĩnh, Quảng Bình, Nghệ An, Huế, Quảng Ngãi, Quảng Trị và Quảng Nam. Chỉ trong vòng 40 ngày, số tiền cô kêu gọi đã lên tới gần 180 tỷ đồng. Cô tự đến vùng lũ để trao quà tận tay cho những hoàn cảnh khó khăn.Clip Thủy Tiên cứu trợ miền Trung:browser not support iframe.Minh Thảo\n",
            "2.04% index-document:2644 | document: Sáng nay (24/3), Viện KSND TP Đà Nẵng cho biết đã hoàn tất cáo trạng, truy tố ông Phạm Thanh (SN 1967, trú TP Đà Nẵng) về tội \"Cưỡng đoạt tài sản\". Dự kiến, TAND TP Đà Nẵng sẽ mở phiên xét xử sơ thẩm vụ án vào ngày 30/3.Theo cáo trạng, từ ngày 26/3-16/6/2020, Thanh đã nhiều lần cho bà Đào Thị Như Lệ (trú quận Sơn Trà) vay mượn tiền với lãi suất 5%/tháng và thu lãi trước 30 ngày.Hai bên giao dịch đặt cọc mua bán một lô đất trên đường Hoàng Kế Viêm với số tiền giao dịch 72 tỷ đồng.Quá trình vay mượn, ông Thanh yêu cầu bà Lệ viết giấy tờ mượn tiền, giấy bán tài sản là các lô đất đang thế chấp vay tiền tại ngân hàng để đảm bảo việc thanh toán nợ gốc và tiền lãi.Mặc dù bà Lệ chỉ thực nhận của ông Thanh 72 tỷ đồng nhưng đến ngày 8/8/2020, ông Thanh gọi bà Lệ đến nhà riêng rồi đánh đập, chửi mắng, đe dọa buộc phải ký nhận nợ 122 tỷ đồng nhằm chiếm đoạt số tiền 50 tỷ đồng.Ngoài ra, hành vi cưỡng đoạt tài sản của ông Thanh cũng liên quan đến các cuốn sổ đỏ bị mất tại Văn phòng đăng ký đất đai quận Sơn Trà.Công an Đà Nẵng xác định, trong số 28 cuốn sổ đỏ mà bà Lệ \"mượn\" từ chuyên viên Dương Thị Ngọc Anh (nhân viên văn phòng Đăng ký quyền sử dụng đất quận Sơn Trà) thì bà này đã dùng 7 cuốn để giao cho ông Thanh và vay số tiền lớn.Được biết, ông Thanh là một doanh nhân có tiếng ở Đà Nẵng. Thời gian qua, ông được mọi người biết đến khi thường xuyên tổ chức đi làm từ thiện.Hồ Giáp\n",
            "1.03% index-document:2280 | document: Thay đổi cách xếp hạng, xếp lương giáo viênVừa qua, Bộ GD-ĐT ban hành đồng thời 4 Thông tư liên quan đến giáo viên mầm non, tiểu học, trung học cơ sở, trung học phổ thông.Theo đó, kể từ ngày 20/3, giáo viên đang giữ hạng chức danh nghề nghiệp theo các Thông tư liên tịch cũ sẽ được bổ nhiệm sang hạng mới tương ứng. Song song với đó là thay đổi trong việc xếp lương của giáo viên các cấp.Cụ thể như sau:- Giáo viên mầm non được xếp thành 3 hạng (bỏ hạng IV), áp dụng hệ số lương từ 2,1 - 6,38 (hiện áp dụng hệ số dao động từ 1,86 - 4,98).- Giáo viên tiểu học xếp thành 3 hạng, áp dụng hệ số lương dao động từ 2,34 - 6,78 (hiện nay hệ số lương của nhóm này dao động từ 1,86 - 4,98).- Giáo viên THCS xếp thành 3 hạng, áp dụng hệ số lương dao động từ 2,34 - 6,78 (hiện hưởng lương theo hệ số lương từ 2,1 - 6,38).- Giáo viên THPT xếp thành 3 hạng, áp dụng hệ số lương dao động từ 2,34 - 6,78.Như vậy, tùy vào hạng chức danh, nhìn chung lương giáo viên mầm non, tiểu học, THCS đều được điều chỉnh tăng so với hiện nay.Bỏ yêu cầu về chứng chỉ ngoại ngữ, tin học đối với giáo viênNội dung này được nằm trong các Thông tư 01/2021/TT-BGDĐT, Thông tư 02/2021/TT-BGDĐT, Thông tư 03/2021/TT-BGDĐT và Thông tư 04/2021/TT-BGDĐT của Bộ GD-ĐT, chính thức có hiệu lực từ ngày 20/3.Tuy nhiên, giáo viên cũng cần lưu ý rằng Bộ GD-ĐT chỉ không yêu cầu có chứng chỉ nhưng giáo viên vẫn phải ứng dụng được ngoại ngữ, tin học vào giảng dạy.Cụ thể, yêu cầu này được đề cập đến trong tiêu chuẩn về năng lực chuyên môn, nghiệp vụ như sau:- Có khả năng ứng dụng công nghệ thông tin trong thực hiện các nhiệm vụ của giáo viên;- Có khả năng sử dụng ngoại ngữ hoặc tiếng dân tộc thiểu số trong một số nhiệm vụ cụ thể được giao.Trước đó, theo các quy định cũ, giáo viên phải có trình độ tin học đạt chuẩn kỹ năng sử dụng công nghệ thông tin cơ bản; Có trình độ ngoại ngữ bậc 1 hoặc bậc 2, 3 (tùy hạng giáo viên, cấp dạy) hoặc có chứng chỉ tiếng dân tộc với những vị trí việc làm yêu cầu sử dụng tiếng dân tộc.Với quy định mới, giáo viên các cấp sẽ chỉ phải đáp ứng điều kiện trình độ, bồi dưỡng về bằng cấp cùng chứng chỉ bồi dưỡng theo tiêu chuẩn chức danh nghề nghiệp giáo viên tương ứng.Như vậy, người thi tuyển viên chức để được bổ nhiệm vào các hạng chức danh nghề nghiệp giáo viên hoặc nâng hạng chức danh nghề nghiệp giáo viên không bắt buộc có chứng chỉ ngoại ngữ, tin học.Nội dung các Thông tư này áp dụng với giáo viên các trường công lập, có hiệu lực từ ngày 20/3.Phương Chitổng hợp\n",
            "1.02% index-document:2892 | document: Dự kiến, phiên tòa diễn ra trong 10 ngày.Trong vụ án này, ông Đinh La Thăng (cựu Chủ tịch HĐQT Tập đoàn Dầu khí Việt Nam- PVN) bị đưa ra xét xử tội Vi phạm quy định về đầu tư công trình xây dựng gây hậu quả nghiêm trọng.Bị cáo Trịnh Xuân Thanh (cựu Chủ tịch HĐQT, TGĐ Tổng Công ty cổ phần xây lắp Dầu khí Việt Nam - PVC) bị truy tố tội Vi phạm quy định về đầu tư công trình xây dựng gây hậu quả nghiêm trọng và Lợi dụng chức vụ, quyền hạn trong khi thi hành công vụ.Cùng hầu tòa còn có 10 bị cáo khác gồm: Vũ Thanh Hà (cựu TGĐ Công ty cổ phần Hóa dầu và Nhiên liệu sinh học Dầu khí - PVB), Trần Thị Bình (cựu Phó TGĐ PVN), Phạm Xuân Diệu (cựu TGĐ PVC), Nguyễn Ngọc Dũng (cựu Phó TGĐ PVC);Đỗ Văn Quang (cựu Trưởng Ban Kinh tế kế hoạch, PVC), Nguyễn Xuân Thủy (cựu Phó Trưởng Phòng đầu tư dự án, PVB), Khương Anh Tuấn (cựu Phó trưởng Phòng Thương mại, PVB), Lê Thanh Thái (cựu Trưởng Phòng Kinh doanh, PVB), Hoàng Đình Tâm (cựu Kế toán trưởng PVB), Đỗ Văn Hồng (cựu Chủ tịch HĐQT, kiêm TGĐ Công ty cổ phần đầu tư và xây lắp Dầu khí Kinh Bắc – PVC Kinh Bắc).Trong số 10 bị cáo trên, ông Hồng bị truy tố về tội lợi dụng chức vụ, quyền hạn trong khi thi hành công vụ. Các bị cáo còn lại bị truy tố tội vi phạm quy định về đầu tư công trình xây dựng gây hậu quả nghiêm trọng.Theo cáo trạng, với vai trò Chủ tịch HĐQT PVN, Trưởng Ban chỉ đạo triển khai các dự án nhiên liệu sinh học, ông Đinh La Thăng biết PVC không đủ năng lực, kinh nghiệm để thực hiện gói thầu TK05 dự án Ethanol Phú Thọ.Nhưng với mục đích chỉ định thầu cho PVC do Trịnh Xuân Thanh là Chủ tịch HĐQT thực hiện (thông qua Liên danh nhà thầu PVC/Alfa Laval/Delta- T), ông Thăng đã ban hành chủ trương, chủ trì các cuộc họp để kết luận chỉ đạo quyết liệt PVB, PVC hoàn tất thủ tục chỉ định thầu cho Liên danh PVC/Alfa Laval/Delta-T thực hiện gói thầu TK05 dự án Ethanol Phú Thọ trái quy định.Quá trình thực hiện, do Liên danh PVC/Alfa Laval/Delta-T không đủ năng lực nên dự án Ethanol Phú Thọ liên tục bị chậm tiến độ.PVC sau đó cũng có báo cáo thừa nhận Liên danh PVC/Alfa Laval/Delta-T không đủ năng lực để thực hiện dự án.Tháng 3/2013, PVC đã đơn phương dừng thi công dự án và chưa có hạng mục nào hoàn thành.PVC đưa ra lý do việc dừng dự án vì đơn vị gặp nhiều khó khăn về tài chính, hoàn toàn chưa có kinh nghiệm quản lý và kết nối các giao diện về công nghệ...Việc này dẫn đến hậu quả thiệt hại cho PVB hơn 543 tỷ đồng. Bị xác định giữ vai trò chính trong vụ án, cáo trạng cho rằng, ông Đinh La Thăng cùng các bị can khác có trách nhiệm liên đới bồi thường hơn 543 tỷ đồng do hành vi phạm tội gây ra.T.Nhung\n",
            "1.02% index-document:73 | document: Hai mươi năm, ngoài công việc, tôi không thấy chị gắn bó với người đàn ông nào.Chị cùng cơ quan với tôi. Không phải không có người ngỏ lời, nhưng trái tim chị không rung động với ai. Chị nói không thể sống với người mình không yêu dù người ta có tình cảm chăng nữa.Sang tuổi bốn mươi, chị quyết định thụ tinh nhân tạo và sinh được một bé trai. Chị tâm sự muốn được làm mẹ. Bốn mươi đâu còn trẻ trung gì. Chị chờ đến bốn mươi vì muốn có đủ điều kiện tài chính để nuôi con một mình.Tháng ngày bận rộn với con thơ, những nếp chân chim nơi đuôi mắt chị rõ hơn. Đổi lại, niềm hạnh phúc sáng ngời trong đôi mắt.Lên sáu tuổi, lần đầu tiên thằng bé hỏi về người cha. Chị ở chung cư, nhà chỉ có hai mẹ con, trong khi hàng xóm đứa trẻ nào cũng có ba và mẹ. Chị không bất ngờ. Chị chờ đợi giây phút này đã lâu và biết rằng sẽ có ngày đối diện với nó. Khi chị đến bệnh viện thụ tinh nhân tạo, các bác sĩ đã tư vấn cho chị đầy đủ, kể cả việc nên giải thích ra sao với đứa con sau này về sự ra đời của nó. Chị chép lại lời khuyên của bác sĩ, thỉnh thoảng lấy ra đọc và chuẩn bị mọi tình huống.\"Thằng bé lắng nghe từng lời và cuối cùng ôm chầm lấy mẹ như nó vẫn ôm bao lần trước đó. Chỉ có điều lần này chặt hơn\" - chị kể. Chị nói với con sự thật, trần trụi như nguyên mẫu cuộc sống. Thằng bé lau nước mắt trên má mẹ bằng những ngón tay, rồi cả bàn tay. Nó bảo nó tự hào về mẹ.Giờ chị đã nghỉ hưu, thằng bé đang học lớp tám, chẳng mấy chốc mười tám tuổi. Tôi trao đổi với vị giáo sư đại học giảng dạy về khoa học máy tính và trí tuệ nhân tạo về tình huống của chị. Ông nhấn mạnh, về phía ông, có vấn đề liên quan đến phạm trù đạo đức trong hiến tặng tinh trùng.Bạn tôi được thụ tinh bằng tinh trùng hiến tặng. Chị, con chị và có lẽ cả các bác sĩ không biết cha đứa trẻ là ai. Chị chỉ biết tinh trùng vô danh đã qua nhiều vòng kiểm tra để đạt tiêu chuẩn chất lượng và đó là điều quan trọng nhất.Phạm trù đạo đức đối với vị giáo sư nằm ở chỗ những người hiến tặng không bao giờ biết rõ tinh trùng của họ giúp những cặp vợ chồng hiếm muộn có con hay cho những phụ nữ muốn nuôi con một mình. Ông sẵn sàng hiến tặng tinh trùng cho cặp vợ chồng hiếm muộn vì khi sinh ra đứa bé có cả cha lẫn mẹ. Còn nếu tinh trùng được sử dụng cho những bà mẹ đơn thân và đứa con sinh ra không có bố thì ông từ chối. Ông không muốn góp phần vào việc sinh thành những đứa bé không có cha và không được hưởng sự chăm sóc của người cha.Ông có công bằng không khi đòi hỏi rạch ròi như thế và liệu đấy có thật sự là một khía cạnh của phạm trù đạo đức? Tôi không trả lời được. Nó tuỳ thuộc góc nhìn của mỗi người, hẳn rồi. Những người hiến tặng tinh trùng đều tự nguyện. Không có bất cứ ràng buộc nào giữa người hiến tinh trùng và người nhận cũng như những đứa bé sau này. Những người mẹ đơn thân muốn có con cũng là tự nguyện. Là phụ nữ, họ có quyền có con, nuôi con, có quyền mưu cầu và tự vun đắp hạnh phúc cho mình đồng thời thực hiện nghĩa vụ duy trì dân số quốc gia.Cả những người hiến tặng tinh trùng và những bà mẹ đơn thân có con đều đáng quý. Tôi cảm phục đồng nghiệp của tôi. Thế nhưng vẫn có gì đó vấn vương trong ý kiến của vị giáo sư. Ông không hoàn toàn vô lý khi thấu hiểu mọi đứa trẻ sinh ra đều cần có cha và mẹ. Chúng có quyền có một gia đình, có một cuộc sống cân bằng tình cảm giữa mẹ và cha. Dù cố gắng bao nhiêu chăng nữa, các bà mẹ đơn thân cũng không thể nào thay thế vị trí, làm tròn tình cảm vẹn nguyên của một người cha đối với đứa con.Phụ nữ ngày nay ngày càng độc lập về mọi phương diện. Họ nỗ lực đạt được sự tự chủ về tài chính, tự tin trong công việc, các mối quan hệ và cả việc có con như mong muốn. Các bà mẹ đơn thân trở nên phổ biến, được xã hội chấp nhận và bao bọc.Số gia đình đơn thân chiếm 21% tại Anh, 12% ở Mỹ, 15,2% ở Australia. Đặc biệt, Hàn Quốc có tới 48% số hộ gia đình chỉ có một bố hoặc mẹ và con. Đến nỗi, chính phủ nước này đã ban hành hàng loạt chính sách hỗ trợ bố, mẹ đơn thân, nằm trong nhóm chính sách dành cho gia đình khuyết, như hỗ trợ chi phí nuôi con trực tiếp bằng tiền và các hoạt động giáo dục, y tế, kinh tế khác.Theo Tổng cục Thống kê, tỷ lệ hộ gia đình độc thân ở thành thị đã tăng từ 6,23% năm 2004 lên 9,1% năm 2014 và tăng lên 10,1% vào năm 2019 tại Việt Nam.Chịu ảnh hưởng của tư tưởng Nho giáo, xã hội Việt Nam còn nhiều người chưa sẵn sàng chấp nhận những người mẹ đơn thân, phụ nữ ly hôn hay không chồng. Đâu đó, họ vẫn phải chịu thái độ phân biệt dưới nhiều hình thức bởi bị coi là phá vỡ chuẩn mực xã hội. Ngược lại, các ông bố đơn thân thường nhận được nhiều cảm thông hơn.Chúng ta sinh ra không ai chọn được cha mẹ, và đôi khi không gặp được người bạn đời hợp ý. Đồng nghiệp tôi đã trằn trọc nhiều đêm, đã suy nghĩ thấu đáo và cân nhắc mọi phương diện trước khi thụ tinh nhân tạo. Hạnh phúc có được là sự đánh đổi, hy sinh, tự nguyện và chấp nhận.Tôi không cổ súy cho việc làm mẹ hay làm cha một mình ở đây. Tôi biết có những người cũng không chấp nhận việc phụ nữ xin tinh trùng làm mẹ một mình; hoặc mỗi chúng ta sẽ mãi giữ những ý kiến trái chiều của mình, và tôi cũng sẽ không bao giờ có câu trả lời thỏa đáng.Nhưng cuộc sống vốn là vậy, không thể bắt nó chỉ có hai màu trắng và đen. Những người làm mẹ hay làm cha một mình, không phải họ muốn thế một cách cực đoan, mà có lẽ bởi đó là lựa chọn vừa vặn nhất với hoàn cảnh của họ.Hôm nay, 20/3, là ngày Quốc tế hạnh phúc. Mới hôm qua, Báo cáo Hạnh phúc Thế giới 2021 của Liên Hợp Quốc ghi nhận Việt Nam thăng hạng từ vị trí 83 lên 79 trong 156 quốc gia.Ủng hộ việc kết hôn để có con như bình thường, nhưng tôi cũng cho rằng, quan niệm về hạnh phúc trong xã hội văn minh còn gồm cả lòng nhân hậu, sự bao dung và tôn trọng quyền lựa chọn của mỗi người.Hải Lý\n",
            "Thời gian tìm kiểm LSH  69.86317133903503\n"
          ],
          "name": "stdout"
        }
      ]
    }
  ]
}