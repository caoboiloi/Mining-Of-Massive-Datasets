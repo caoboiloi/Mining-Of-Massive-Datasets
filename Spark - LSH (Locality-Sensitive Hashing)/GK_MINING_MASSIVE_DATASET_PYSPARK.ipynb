{
  "nbformat": 4,
  "nbformat_minor": 0,
  "metadata": {
    "colab": {
      "name": "GK_MINING_MASSIVE_DATASET_PYSPARK.ipynb",
      "provenance": [],
      "collapsed_sections": []
    },
    "kernelspec": {
      "name": "python3",
      "display_name": "Python 3"
    },
    "language_info": {
      "name": "python"
    }
  },
  "cells": [
    {
      "cell_type": "code",
      "metadata": {
        "colab": {
          "base_uri": "https://localhost:8080/"
        },
        "id": "_KcGglrRQLFw",
        "outputId": "1673ffd8-fa44-4ec8-e2c1-fedf8ebbb75f"
      },
      "source": [
        "!pip install pyspark"
      ],
      "execution_count": 1,
      "outputs": [
        {
          "output_type": "stream",
          "text": [
            "Collecting pyspark\n",
            "\u001b[?25l  Downloading https://files.pythonhosted.org/packages/45/b0/9d6860891ab14a39d4bddf80ba26ce51c2f9dc4805e5c6978ac0472c120a/pyspark-3.1.1.tar.gz (212.3MB)\n",
            "\u001b[K     |████████████████████████████████| 212.3MB 69kB/s \n",
            "\u001b[?25hCollecting py4j==0.10.9\n",
            "\u001b[?25l  Downloading https://files.pythonhosted.org/packages/9e/b6/6a4fb90cd235dc8e265a6a2067f2a2c99f0d91787f06aca4bcf7c23f3f80/py4j-0.10.9-py2.py3-none-any.whl (198kB)\n",
            "\u001b[K     |████████████████████████████████| 204kB 18.7MB/s \n",
            "\u001b[?25hBuilding wheels for collected packages: pyspark\n",
            "  Building wheel for pyspark (setup.py) ... \u001b[?25l\u001b[?25hdone\n",
            "  Created wheel for pyspark: filename=pyspark-3.1.1-py2.py3-none-any.whl size=212767604 sha256=0ca2039071a7eb9eb88df4439f0834559b76e77334d83beff61925bc4e1cf455\n",
            "  Stored in directory: /root/.cache/pip/wheels/0b/90/c0/01de724414ef122bd05f056541fb6a0ecf47c7ca655f8b3c0f\n",
            "Successfully built pyspark\n",
            "Installing collected packages: py4j, pyspark\n",
            "Successfully installed py4j-0.10.9 pyspark-3.1.1\n"
          ],
          "name": "stdout"
        }
      ]
    },
    {
      "cell_type": "code",
      "metadata": {
        "id": "YbQGqo8dhH19",
        "colab": {
          "base_uri": "https://localhost:8080/"
        },
        "outputId": "dddb6e87-f5a3-4d57-d389-d11a1dd2fc30"
      },
      "source": [
        "from bs4 import BeautifulSoup\n",
        "import sys\n",
        "import os.path\n",
        "import string\n",
        "import os\n",
        "import re\n",
        "import random\n",
        "import time\n",
        "import binascii\n",
        "import math\n",
        "import numpy as np\n",
        "import pyspark\n",
        "from pyspark import SparkConf, SparkContext\n",
        "from pyspark.sql import SparkSession\n",
        "import collections\n",
        "import time\n",
        "import itertools\n",
        "from google.colab import drive\n",
        "drive.mount('/content/drive',force_remount=True)\n"
      ],
      "execution_count": 65,
      "outputs": [
        {
          "output_type": "stream",
          "text": [
            "Mounted at /content/drive\n"
          ],
          "name": "stdout"
        }
      ]
    },
    {
      "cell_type": "markdown",
      "metadata": {
        "id": "jIDWtCoQZ-1U"
      },
      "source": [
        "# CÁC HÀM HỖ TRỢ THUẬT TOÁN"
      ]
    },
    {
      "cell_type": "code",
      "metadata": {
        "id": "U0Oe2SUVaCRi"
      },
      "source": [
        "def split_k_gram(words):\n",
        "  # keep word shingles\n",
        "  shinglesInDocWords = set()\n",
        "\n",
        "  # keep hashed shingles\n",
        "  shinglesInDocInts = set()\n",
        "\n",
        "  shingle = []\n",
        "  for index in range(len(words) - k_gram + 1):\n",
        "    # Construct the shingle text by combining k words together.\n",
        "    shingle = words[index:index + k_gram]\n",
        "    shingle = ' '.join(shingle)\n",
        "\n",
        "    # Hash the shingle to a 32-bit integer.\n",
        "    crc = binascii.crc32(shingle.encode())\n",
        "\n",
        "    if shingle not in shinglesInDocWords:\n",
        "      shinglesInDocWords.add(shingle)\n",
        "\n",
        "    if crc not in shinglesInDocInts:\n",
        "      shinglesInDocInts.add(crc)\n",
        "    else:\n",
        "      del shingle\n",
        "      index = index - 1\n",
        "  return shinglesInDocInts\n",
        "\n",
        "def isPrime(n):  \n",
        "  # Corner cases\n",
        "  if(n <= 1):\n",
        "    return False\n",
        "  if(n <= 3):\n",
        "    return True\n",
        "    \n",
        "  # This is checked so that we can skip\n",
        "  # middle five numbers in below loop\n",
        "  if(n % 2 == 0 or n % 3 == 0):\n",
        "    return False\n",
        "    \n",
        "  for i in range(5,int(math.sqrt(n) + 1), 6):\n",
        "    if(n % i == 0 or n % (i + 2) == 0):\n",
        "      return False\n",
        "  return True\n",
        " \n",
        "# Function to return the smallest\n",
        "# prime number greater than N\n",
        "def nextPrimefunc(N):\n",
        "  # Base case\n",
        "  if (N <= 1):\n",
        "    return 2\n",
        "  prime = N\n",
        "  found = False\n",
        "  while(not found):\n",
        "    prime = prime + 1\n",
        "\n",
        "    if(isPrime(prime) == True):\n",
        "      found = True\n",
        "  return prime\n",
        "\n",
        "def pickRandomCoeffs(k):\n",
        "  randList = []\n",
        "\n",
        "  while k > 0:\n",
        "    randIndex = random.randint(0, maxShingleID)\n",
        "    while randIndex in randList:\n",
        "      randIndex = random.randint(0, maxShingleID)\n",
        "    randList.append(randIndex)\n",
        "    k = k - 1\n",
        "\n",
        "  return randList\n",
        "\n",
        "def signatureFunction(shingleIDSet):\n",
        "  signature = []\n",
        "  for i in range(0, numHashesFunction):\n",
        "    minHashCode = nextPrime + 1\n",
        "    for shingleID in shingleIDSet:\n",
        "      # Evaluate the hash function.\n",
        "      hashCode = (coeffA[i] * shingleID + coeffB[i]) % nextPrime\n",
        "\n",
        "      if hashCode < minHashCode:\n",
        "        minHashCode = hashCode\n",
        "    signature.append(minHashCode)\n",
        "  return signature\n",
        "\n",
        "def FindSimilaryty_Singles(doc, n_neighbor):\n",
        "  doc = re.sub(\"[^\\w]\", \" \", doc).split()\n",
        "  singlesInput = split_k_gram(doc)\n",
        "  neighbors_of_given_document_Test ={}\n",
        "  for j in range(len(docsAsShingleSets)):\n",
        "    singles2 = docsAsShingleSets[j]\n",
        "    s1 = set(singlesInput)\n",
        "    s2 = set(singles2)\n",
        "    J = len(s1.intersection(s2)) / float(len(s1.union(s2)))\n",
        "    if (float(J) > 0):\n",
        "        percJ = J * 100\n",
        "        neighbors_of_given_document_Test[j] = percJ\n",
        "  neighbors_of_given_documentSIGNATURES_Test= sorted(neighbors_of_given_document_Test.items(), key=lambda x: x[1], reverse=True)\n",
        "  return list(neighbors_of_given_documentSIGNATURES_Test)[:n_neighbor]\n",
        "\n",
        "def FindSimilaryty(doc, n_neighbor):\n",
        "  doc = re.sub(\"[^\\w]\", \" \", doc).split()\n",
        "  doc = split_k_gram(doc)\n",
        "  signatureInput =signatureFunction(doc)\n",
        "  neighbors_of_given_documentSIGNATURES_Test ={}\n",
        "  # neighbors_of_given_documentSIGNATURES_Test = signaturesRDD.map(lambda x: Calsimilarity_Hash(x,signatureInput)).collect()\n",
        "  for j in range(len(signatures)):\n",
        "    signature2 = signatures[j]\n",
        "    s1 = set(signatureInput)\n",
        "    s2 = set(signature2)\n",
        "    J = len(s1.intersection(s2)) / float(len(s1.union(s2)))\n",
        "    if (float(J) > 0):\n",
        "        percJ = J * 100\n",
        "        neighbors_of_given_documentSIGNATURES_Test[j] = percJ\n",
        "  # neighbors_of_given_documentSIGNATURES_Test =set(filter(None, neighbors_of_given_documentSIGNATURES_Test))\n",
        "  neighbors_of_given_documentSIGNATURES_Test= sorted(neighbors_of_given_documentSIGNATURES_Test.items(), key=lambda x: x[1], reverse=True)\n",
        "  return list(neighbors_of_given_documentSIGNATURES_Test)[:n_neighbor]\n",
        "\n",
        "def get_band_hashes(np_signature, numBand):\n",
        "  np_signature  = np.array_split(np_signature, numBand)\n",
        "  hash_sig = []\n",
        "  for i in np_signature:\n",
        "    j = [hash(x) for x in i]\n",
        "    hash_sig.append(sum(j))\n",
        "  return hash_sig\n",
        "\n",
        "def LSH(Test_input,n_neighbor):\n",
        "  Test_input = re.sub(\"[^\\w]\", \" \", Test_input).split()\n",
        "  Test_input = split_k_gram(Test_input)\n",
        "  signatureInput =signatureFunction(Test_input)\n",
        "  input_band = get_band_hashes(signatureInput, numBand)\n",
        "  idDoc_samebucket = []\n",
        "  result=[]\n",
        "  for i in range(len(input_band)):\n",
        "    if input_band[i] in bucket_value :\n",
        "      id = bucket_value.index(input_band[i])\n",
        "      idDoc_samebucket += [x for x in bucket_index[id] if x not in idDoc_samebucket]\n",
        "  for i in idDoc_samebucket:\n",
        "    s1 = set(input_band)\n",
        "    s2 = set(get_band_hashes(signatures[i], numBand))\n",
        "    sim = len(s1.intersection(s2)) / float(len(s1.union(s2))) *100\n",
        "    result.append((sim, i))\n",
        "  result= sorted(result, key=lambda x: x[0], reverse=True)\n",
        "  return list(result)[:n_neighbor]"
      ],
      "execution_count": 69,
      "outputs": []
    },
    {
      "cell_type": "markdown",
      "metadata": {
        "id": "89vgr7HTg-6b"
      },
      "source": [
        "# SHINGLING - TÌM MA TRẬN BOOLEANS VỚI K-GRAMS = 10\n"
      ]
    },
    {
      "cell_type": "code",
      "metadata": {
        "id": "uVM5aO2DhKS8",
        "colab": {
          "base_uri": "https://localhost:8080/"
        },
        "outputId": "880f1961-4ce1-439b-d03c-03f2366371c7"
      },
      "source": [
        "#read data\n",
        "\n",
        "f = open(\"/content/drive/MyDrive/BIGDATA/BTL/data3.txt\", \"r\", encoding=\"utf-8\")\n",
        "\n",
        "data = f.read().split(\"\\n\")\n",
        "\n",
        "conf = SparkConf().setMaster(\"local\").setAppName(\"BigDataLSH\")\n",
        "sc = SparkContext.getOrCreate(conf=conf)\n",
        "\n",
        "rdd = sc.parallelize(data)\n",
        "d =rdd.map(lambda x: re.sub(\"[^\\w]\", \" \", x).split())\n",
        "\n",
        "timeShingling = time.time()\n",
        "\n",
        "k_gram = 10\n",
        "numHashesFunction = 50\n",
        "\n",
        "docsAsShingleSetsRDD = d.map(lambda x : split_k_gram(x))\n",
        "#tong so Singles\n",
        "shingleNo = sum(docsAsShingleSetsRDD.map(lambda x: len(x)).collect())\n",
        "#Singles khac nhau\n",
        "# len(list(set().union(*docsAsShingleSets1.collect())))\n",
        "print(\"Thời gian chuyển đổi Shingling:\" , time.time() - timeShingling)"
      ],
      "execution_count": 70,
      "outputs": [
        {
          "output_type": "stream",
          "text": [
            "Thời gian chuyển đổi Shingling: 6.756944894790649\n"
          ],
          "name": "stdout"
        }
      ]
    },
    {
      "cell_type": "markdown",
      "metadata": {
        "id": "7UqD0srfhD_6"
      },
      "source": [
        "# MIN-HASHING - CREATE SIGNATURE MATRIX VỚI SỐ HASH FUNCTION = 50\n"
      ]
    },
    {
      "cell_type": "code",
      "metadata": {
        "id": "luU3njRWQZvA"
      },
      "source": [
        "docsAsShingleSets = docsAsShingleSetsRDD.collect()\n",
        "# print(shingleNo)"
      ],
      "execution_count": 71,
      "outputs": []
    },
    {
      "cell_type": "code",
      "metadata": {
        "id": "qP4pmU2MQqpx",
        "colab": {
          "base_uri": "https://localhost:8080/"
        },
        "outputId": "b7126fe6-bc4d-4363-fda4-2657f4e771b5"
      },
      "source": [
        "maxShingleID = shingleNo\n",
        "nextPrime = nextPrimefunc(shingleNo)\n",
        "print ('Next prime = ', nextPrime)\n",
        "\n",
        "coeffA = pickRandomCoeffs(numHashesFunction)\n",
        "coeffB = pickRandomCoeffs(numHashesFunction)"
      ],
      "execution_count": 72,
      "outputs": [
        {
          "output_type": "stream",
          "text": [
            "Next prime =  3156259\n"
          ],
          "name": "stdout"
        }
      ]
    },
    {
      "cell_type": "code",
      "metadata": {
        "id": "G1JASz0RTaqx",
        "colab": {
          "base_uri": "https://localhost:8080/"
        },
        "outputId": "81de9770-f944-4730-819e-5da47e3af52d"
      },
      "source": [
        "timeSig = time.time()\n",
        "docNames = [i for i in range(len(docsAsShingleSets))]\n",
        "signatures = docsAsShingleSetsRDD.map(lambda x: signatureFunction(x)).collect()\n",
        "numDocs = len(docsAsShingleSets)\n",
        "print(\"Thời gian chuyển đổi Signature MinHashing:\" , time.time() - timeSig)"
      ],
      "execution_count": 73,
      "outputs": [
        {
          "output_type": "stream",
          "text": [
            "Thời gian chuyển đổi Signature MinHashing: 53.45552325248718\n"
          ],
          "name": "stdout"
        }
      ]
    },
    {
      "cell_type": "markdown",
      "metadata": {
        "id": "b0PKLCY5gsg6"
      },
      "source": [
        "# MIN-HASHING - CALCULATE JACCARD SIMILARITY"
      ]
    },
    {
      "cell_type": "markdown",
      "metadata": {
        "id": "bxj3g4p7guYQ"
      },
      "source": [
        "## SO SÁNH TỐC ĐỘ TÍNH JACCARD SIMILARITY GIỮA SHINGLES VÀ SIGNATURES"
      ]
    },
    {
      "cell_type": "code",
      "metadata": {
        "colab": {
          "base_uri": "https://localhost:8080/"
        },
        "id": "y5VcKc8idAVP",
        "outputId": "85a08b40-e8bf-4e6c-f8a4-4021b8431313"
      },
      "source": [
        "inputNewDoc= data[0]\n",
        "print(data[0])\n",
        "time_JS = time.time()\n",
        "resSimilarity = FindSimilaryty_Singles(inputNewDoc, 5)\n",
        "for x,y in resSimilarity:\n",
        "  print(\"{}% index-document:{} | document:{}\".format(round(y,2),x, data[x]))\n",
        "print(time.time() - time_JS)"
      ],
      "execution_count": 76,
      "outputs": [
        {
          "output_type": "stream",
          "text": [
            "\"Chúng tôi xác nhận rằng nhiều phát đạn đã bắn vào Trung tâm Mỹ ở Yangon hôm nay. Không có ai bị thương, chúng tôi đang điều tra sự việc\", phát ngôn viên đại sứ quán Mỹ tại Myanmar Aryani Manring cho biết.Giới chức Yangon, thành phố lớn nhất Myanmar, chưa bình luận về thông tin.Các tổ chức giám sát nhân quyền ở Myanmar cho biết có ít nhất 16 người biểu tình đã chết trong ngày 27/3, nâng tổng số người thiệt mạng kể từ khi quân đội Myanmar tiếp quản quyền lực ngày 1/2 lên 328.Những người biểu tình đã xuống đường gần như mỗi ngày sau khi quân đội bắt Cố vấn Suu Kyi và các quan chức cấp cao trong chính quyền dân cử, với lý do cáo buộc gian lận bầu cử hồi tháng 11/2020 không được giải quyết. Quân đội cam kết chuyển giao quyền lực cho bên chiến thắng sau khi bầu cử được tổ chức lại.Mỹ và các nước phương Tây đang gia tăng áp lực lên chính quyền quân sự Myanmar. Bộ Tài chính Mỹ hôm 25/3 thông báo đưa hai tập đoàn Myanmar Economic Holdings Public Company (MEHL) và Myanmar Economic Corporation Ltd (MEC) vào danh sách đen, cho biết Washington sẽ đóng băng mọi tài sản ở Mỹ của hai doanh nghiệp này.Đây là động thái mới nhất trong loạt biện pháp trừng phạt của Mỹ nhằm vào chính quyền quân sự Myanmar, cũng là hành động đầu tiên nhằm vào lợi ích kinh doanh của quân đội Myanmar, lực lượng kiểm soát nhiều lĩnh vực kinh tế khác nhau của đất nước.Vũ Anh (Theo Reuters)\n",
            "100.0% index-document:0 | document:\"Chúng tôi xác nhận rằng nhiều phát đạn đã bắn vào Trung tâm Mỹ ở Yangon hôm nay. Không có ai bị thương, chúng tôi đang điều tra sự việc\", phát ngôn viên đại sứ quán Mỹ tại Myanmar Aryani Manring cho biết.Giới chức Yangon, thành phố lớn nhất Myanmar, chưa bình luận về thông tin.Các tổ chức giám sát nhân quyền ở Myanmar cho biết có ít nhất 16 người biểu tình đã chết trong ngày 27/3, nâng tổng số người thiệt mạng kể từ khi quân đội Myanmar tiếp quản quyền lực ngày 1/2 lên 328.Những người biểu tình đã xuống đường gần như mỗi ngày sau khi quân đội bắt Cố vấn Suu Kyi và các quan chức cấp cao trong chính quyền dân cử, với lý do cáo buộc gian lận bầu cử hồi tháng 11/2020 không được giải quyết. Quân đội cam kết chuyển giao quyền lực cho bên chiến thắng sau khi bầu cử được tổ chức lại.Mỹ và các nước phương Tây đang gia tăng áp lực lên chính quyền quân sự Myanmar. Bộ Tài chính Mỹ hôm 25/3 thông báo đưa hai tập đoàn Myanmar Economic Holdings Public Company (MEHL) và Myanmar Economic Corporation Ltd (MEC) vào danh sách đen, cho biết Washington sẽ đóng băng mọi tài sản ở Mỹ của hai doanh nghiệp này.Đây là động thái mới nhất trong loạt biện pháp trừng phạt của Mỹ nhằm vào chính quyền quân sự Myanmar, cũng là hành động đầu tiên nhằm vào lợi ích kinh doanh của quân đội Myanmar, lực lượng kiểm soát nhiều lĩnh vực kinh tế khác nhau của đất nước.Vũ Anh (Theo Reuters)\n",
            "100.0% index-document:87 | document:\"Chúng tôi xác nhận rằng nhiều phát đạn đã bắn vào Trung tâm Mỹ ở Yangon hôm nay. Không có ai bị thương, chúng tôi đang điều tra sự việc\", phát ngôn viên đại sứ quán Mỹ tại Myanmar Aryani Manring cho biết.Giới chức Yangon, thành phố lớn nhất Myanmar, chưa bình luận về thông tin.Các tổ chức giám sát nhân quyền ở Myanmar cho biết có ít nhất 16 người biểu tình đã chết trong ngày 27/3, nâng tổng số người thiệt mạng kể từ khi quân đội Myanmar tiếp quản quyền lực ngày 1/2 lên 328.Những người biểu tình đã xuống đường gần như mỗi ngày sau khi quân đội bắt Cố vấn Suu Kyi và các quan chức cấp cao trong chính quyền dân cử, với lý do cáo buộc gian lận bầu cử hồi tháng 11/2020 không được giải quyết. Quân đội cam kết chuyển giao quyền lực cho bên chiến thắng sau khi bầu cử được tổ chức lại.Mỹ và các nước phương Tây đang gia tăng áp lực lên chính quyền quân sự Myanmar. Bộ Tài chính Mỹ hôm 25/3 thông báo đưa hai tập đoàn Myanmar Economic Holdings Public Company (MEHL) và Myanmar Economic Corporation Ltd (MEC) vào danh sách đen, cho biết Washington sẽ đóng băng mọi tài sản ở Mỹ của hai doanh nghiệp này.Đây là động thái mới nhất trong loạt biện pháp trừng phạt của Mỹ nhằm vào chính quyền quân sự Myanmar, cũng là hành động đầu tiên nhằm vào lợi ích kinh doanh của quân đội Myanmar, lực lượng kiểm soát nhiều lĩnh vực kinh tế khác nhau của đất nước.Vũ Anh (Theo Reuters)\n",
            "18.8% index-document:23 | document:\"Quân đội đang tìm cách chung tay bảo vệ nền dân chủ với cả đất nước. Những hành động bạo lực gây ảnh hưởng tới an ninh và ổn định nhằm đề ra các yêu sách là không phù hợp\", Thống tướng Min Aung Hlaing phát biểu trong lễ duyệt binh kỷ niệm Ngày Các lực lượng vũ trang Myanmar tại thủ đô Naypyitaw hôm nay.Thống tướng Min Aung Hlaing cho biết quân đội tiếp quản quyền lực vì \"những hành động phi pháp\" của Cố vấn Nhà nước Aung San Suu Kyi và đảng Liên minh Quốc gia vì Dân chủ (NLD) của bà, thêm rằng nhiều lãnh đạo NLD bị phát hiện tham nhũng và đang đối mặt với những hành động pháp lý. Ông cũng cam kết tổ chức bầu cử lại, nhưng không đưa ra thời gian biểu cụ thể.Phát biểu được đưa ra trong bối cảnh các tổ chức ở Myanmar cho biết có ít nhất 16 người biểu tình đã chết trong ngày 27/3, nâng tổng số người thiệt mạng kể từ khi quân đội Myanmar tiếp quản quyền lực lên 328.Chính quyền quân sự hôm qua cũng phát cảnh báo tới người biểu tình. \"Mọi người nên học từ thảm kịch của những cái chết xấu xí trước đó, rằng tất cả đều có nguy cơ bị bắn vào đầu hoặc lưng\", chương trình phát sóng trên kênh MRTV của quân đội Myanmar cho hay.Những người biểu tình đã xuống đường gần như mỗi ngày sau khi quân đội bắt Cố vấn Suu Kyi và các quan chức cấp cao trong chính quyền dân cử, với lý do cáo buộc gian lận bầu cử hồi tháng 11/2020 không được giải quyết. Quân đội cam kết chuyển giao quyền lực cho bên chiến thắng sau khi bầu cử được tổ chức lại.Mỹ và các nước phương Tây đang gia tăng áp lực lên chính quyền quân sự Myanmar. Liên minh châu Âu đầu tuần này ra lệnh đóng băng tài sản và cấm nhập cảnh với Thống tướng Min Aung Hlaing và 11 quan chức khác.Vũ Anh (Theo Reuters)\n",
            "18.8% index-document:91 | document:\"Quân đội đang tìm cách chung tay bảo vệ nền dân chủ với cả đất nước. Những hành động bạo lực gây ảnh hưởng tới an ninh và ổn định nhằm đề ra các yêu sách là không phù hợp\", Thống tướng Min Aung Hlaing phát biểu trong lễ duyệt binh kỷ niệm Ngày Các lực lượng vũ trang Myanmar tại thủ đô Naypyitaw hôm nay.Thống tướng Min Aung Hlaing cho biết quân đội tiếp quản quyền lực vì \"những hành động phi pháp\" của Cố vấn Nhà nước Aung San Suu Kyi và đảng Liên minh Quốc gia vì Dân chủ (NLD) của bà, thêm rằng nhiều lãnh đạo NLD bị phát hiện tham nhũng và đang đối mặt với những hành động pháp lý. Ông cũng cam kết tổ chức bầu cử lại, nhưng không đưa ra thời gian biểu cụ thể.Phát biểu được đưa ra trong bối cảnh các tổ chức ở Myanmar cho biết có ít nhất 16 người biểu tình đã chết trong ngày 27/3, nâng tổng số người thiệt mạng kể từ khi quân đội Myanmar tiếp quản quyền lực lên 328.Chính quyền quân sự hôm qua cũng phát cảnh báo tới người biểu tình. \"Mọi người nên học từ thảm kịch của những cái chết xấu xí trước đó, rằng tất cả đều có nguy cơ bị bắn vào đầu hoặc lưng\", chương trình phát sóng trên kênh MRTV của quân đội Myanmar cho hay.Những người biểu tình đã xuống đường gần như mỗi ngày sau khi quân đội bắt Cố vấn Suu Kyi và các quan chức cấp cao trong chính quyền dân cử, với lý do cáo buộc gian lận bầu cử hồi tháng 11/2020 không được giải quyết. Quân đội cam kết chuyển giao quyền lực cho bên chiến thắng sau khi bầu cử được tổ chức lại.Mỹ và các nước phương Tây đang gia tăng áp lực lên chính quyền quân sự Myanmar. Liên minh châu Âu đầu tuần này ra lệnh đóng băng tài sản và cấm nhập cảnh với Thống tướng Min Aung Hlaing và 11 quan chức khác.Vũ Anh (Theo Reuters)\n",
            "8.96% index-document:96 | document:Các cuộc biểu tình tiếp tục diễn ra khắp Myanmar hôm 26/3, bao gồm khu vực Mandalay và Sagaing, cùng bang Karen và Chin. Một nhân chứng cho biết lực lượng an ninh đã nổ súng vào những người biểu tình vẫy cờ đen ở thị trấn Myeik phía nam.\"Hai người bị bắn vào đầu. Chúng tôi không thể đưa thi thể của nạn nhân thứ ba đi bởi lực lượng an ninh tập trung tại đó\", người này kể lại. Một nhân chứng khác cho hay anh đã nhìn thấy thi thể thứ tư, trong khi hãng tin Myanmar Now cũng đưa tin 4 người đã thiệt mạng tại Myeik.Theo số liệu từ nhóm hoạt động Hiệp hội Hỗ trợ Tù nhân Chính trị (AAPP), tình đến tối 25/3, ít nhất 320 người biểu tình đã thiệt mạng kể từ sau cuộc đảo chính quân sự hôm 1/2. Dữ liệu của AAPP còn cho thấy ít nhất 25% tử vong vì bị bắn vào đầu. Một phát ngôn viên quân đội từ chối bình luận về sự việc.Chính quyền quân sự hôm qua đưa ra cảnh báo với người biểu tình. \"Mọi người nên học từ thảm kịch của những cái chết xấu xí trước đó, rằng mọi người có nguy cơ bị bắn vào đầu hoặc lưng\", một chương trình phát sóng trên kênh MRTV của quân đội Myanmar cho hay, thêm rằng lực lượng an ninh quyết ngăn chặn bất cứ trở ngại nào vào Ngày Các lực lượng Vũ trang Myanmar hôm nay.Những người biểu tình đã xuống đường gần như mỗi ngày sau khi quân đội bắt Cố vấn Nhà nước Aung San Suu Kyi và các quan chức cấp cao trong chính quyền dân cử, với lý do cáo buộc gian lận bầu cử hồi tháng 11/2020 không được giải quyết. Quân đội cam kết chuyển giao quyền lực cho bên chiến thắng sau khi bầu cử được tổ chức lại.Ánh Ngọc (Theo Reuters)\n",
            "0.3863801956176758\n"
          ],
          "name": "stdout"
        }
      ]
    },
    {
      "cell_type": "code",
      "metadata": {
        "colab": {
          "base_uri": "https://localhost:8080/"
        },
        "id": "_NECVvZKdBHX",
        "outputId": "2dae638a-4769-4c28-ab78-90b3bbca4d78"
      },
      "source": [
        "#test inputNewDoc is a doc\n",
        "inputNewDoc= data[0]\n",
        "print(data[0])\n",
        "time_JShash = time.time()\n",
        "resSimilarity = FindSimilaryty(inputNewDoc, 5)\n",
        "print(resSimilarity)\n",
        "for x,y in resSimilarity:\n",
        "  print(\"{}% index-document:{} | document:{}\".format(round(y,2),x, data[x]))\n",
        "print(\"Time to find by JS_minHash \", time.time() - time_JShash)"
      ],
      "execution_count": 77,
      "outputs": [
        {
          "output_type": "stream",
          "text": [
            "\"Chúng tôi xác nhận rằng nhiều phát đạn đã bắn vào Trung tâm Mỹ ở Yangon hôm nay. Không có ai bị thương, chúng tôi đang điều tra sự việc\", phát ngôn viên đại sứ quán Mỹ tại Myanmar Aryani Manring cho biết.Giới chức Yangon, thành phố lớn nhất Myanmar, chưa bình luận về thông tin.Các tổ chức giám sát nhân quyền ở Myanmar cho biết có ít nhất 16 người biểu tình đã chết trong ngày 27/3, nâng tổng số người thiệt mạng kể từ khi quân đội Myanmar tiếp quản quyền lực ngày 1/2 lên 328.Những người biểu tình đã xuống đường gần như mỗi ngày sau khi quân đội bắt Cố vấn Suu Kyi và các quan chức cấp cao trong chính quyền dân cử, với lý do cáo buộc gian lận bầu cử hồi tháng 11/2020 không được giải quyết. Quân đội cam kết chuyển giao quyền lực cho bên chiến thắng sau khi bầu cử được tổ chức lại.Mỹ và các nước phương Tây đang gia tăng áp lực lên chính quyền quân sự Myanmar. Bộ Tài chính Mỹ hôm 25/3 thông báo đưa hai tập đoàn Myanmar Economic Holdings Public Company (MEHL) và Myanmar Economic Corporation Ltd (MEC) vào danh sách đen, cho biết Washington sẽ đóng băng mọi tài sản ở Mỹ của hai doanh nghiệp này.Đây là động thái mới nhất trong loạt biện pháp trừng phạt của Mỹ nhằm vào chính quyền quân sự Myanmar, cũng là hành động đầu tiên nhằm vào lợi ích kinh doanh của quân đội Myanmar, lực lượng kiểm soát nhiều lĩnh vực kinh tế khác nhau của đất nước.Vũ Anh (Theo Reuters)\n",
            "[(0, 100.0), (87, 100.0), (23, 17.647058823529413), (91, 17.647058823529413), (96, 6.382978723404255)]\n",
            "100.0% index-document:0 | document:\"Chúng tôi xác nhận rằng nhiều phát đạn đã bắn vào Trung tâm Mỹ ở Yangon hôm nay. Không có ai bị thương, chúng tôi đang điều tra sự việc\", phát ngôn viên đại sứ quán Mỹ tại Myanmar Aryani Manring cho biết.Giới chức Yangon, thành phố lớn nhất Myanmar, chưa bình luận về thông tin.Các tổ chức giám sát nhân quyền ở Myanmar cho biết có ít nhất 16 người biểu tình đã chết trong ngày 27/3, nâng tổng số người thiệt mạng kể từ khi quân đội Myanmar tiếp quản quyền lực ngày 1/2 lên 328.Những người biểu tình đã xuống đường gần như mỗi ngày sau khi quân đội bắt Cố vấn Suu Kyi và các quan chức cấp cao trong chính quyền dân cử, với lý do cáo buộc gian lận bầu cử hồi tháng 11/2020 không được giải quyết. Quân đội cam kết chuyển giao quyền lực cho bên chiến thắng sau khi bầu cử được tổ chức lại.Mỹ và các nước phương Tây đang gia tăng áp lực lên chính quyền quân sự Myanmar. Bộ Tài chính Mỹ hôm 25/3 thông báo đưa hai tập đoàn Myanmar Economic Holdings Public Company (MEHL) và Myanmar Economic Corporation Ltd (MEC) vào danh sách đen, cho biết Washington sẽ đóng băng mọi tài sản ở Mỹ của hai doanh nghiệp này.Đây là động thái mới nhất trong loạt biện pháp trừng phạt của Mỹ nhằm vào chính quyền quân sự Myanmar, cũng là hành động đầu tiên nhằm vào lợi ích kinh doanh của quân đội Myanmar, lực lượng kiểm soát nhiều lĩnh vực kinh tế khác nhau của đất nước.Vũ Anh (Theo Reuters)\n",
            "100.0% index-document:87 | document:\"Chúng tôi xác nhận rằng nhiều phát đạn đã bắn vào Trung tâm Mỹ ở Yangon hôm nay. Không có ai bị thương, chúng tôi đang điều tra sự việc\", phát ngôn viên đại sứ quán Mỹ tại Myanmar Aryani Manring cho biết.Giới chức Yangon, thành phố lớn nhất Myanmar, chưa bình luận về thông tin.Các tổ chức giám sát nhân quyền ở Myanmar cho biết có ít nhất 16 người biểu tình đã chết trong ngày 27/3, nâng tổng số người thiệt mạng kể từ khi quân đội Myanmar tiếp quản quyền lực ngày 1/2 lên 328.Những người biểu tình đã xuống đường gần như mỗi ngày sau khi quân đội bắt Cố vấn Suu Kyi và các quan chức cấp cao trong chính quyền dân cử, với lý do cáo buộc gian lận bầu cử hồi tháng 11/2020 không được giải quyết. Quân đội cam kết chuyển giao quyền lực cho bên chiến thắng sau khi bầu cử được tổ chức lại.Mỹ và các nước phương Tây đang gia tăng áp lực lên chính quyền quân sự Myanmar. Bộ Tài chính Mỹ hôm 25/3 thông báo đưa hai tập đoàn Myanmar Economic Holdings Public Company (MEHL) và Myanmar Economic Corporation Ltd (MEC) vào danh sách đen, cho biết Washington sẽ đóng băng mọi tài sản ở Mỹ của hai doanh nghiệp này.Đây là động thái mới nhất trong loạt biện pháp trừng phạt của Mỹ nhằm vào chính quyền quân sự Myanmar, cũng là hành động đầu tiên nhằm vào lợi ích kinh doanh của quân đội Myanmar, lực lượng kiểm soát nhiều lĩnh vực kinh tế khác nhau của đất nước.Vũ Anh (Theo Reuters)\n",
            "17.65% index-document:23 | document:\"Quân đội đang tìm cách chung tay bảo vệ nền dân chủ với cả đất nước. Những hành động bạo lực gây ảnh hưởng tới an ninh và ổn định nhằm đề ra các yêu sách là không phù hợp\", Thống tướng Min Aung Hlaing phát biểu trong lễ duyệt binh kỷ niệm Ngày Các lực lượng vũ trang Myanmar tại thủ đô Naypyitaw hôm nay.Thống tướng Min Aung Hlaing cho biết quân đội tiếp quản quyền lực vì \"những hành động phi pháp\" của Cố vấn Nhà nước Aung San Suu Kyi và đảng Liên minh Quốc gia vì Dân chủ (NLD) của bà, thêm rằng nhiều lãnh đạo NLD bị phát hiện tham nhũng và đang đối mặt với những hành động pháp lý. Ông cũng cam kết tổ chức bầu cử lại, nhưng không đưa ra thời gian biểu cụ thể.Phát biểu được đưa ra trong bối cảnh các tổ chức ở Myanmar cho biết có ít nhất 16 người biểu tình đã chết trong ngày 27/3, nâng tổng số người thiệt mạng kể từ khi quân đội Myanmar tiếp quản quyền lực lên 328.Chính quyền quân sự hôm qua cũng phát cảnh báo tới người biểu tình. \"Mọi người nên học từ thảm kịch của những cái chết xấu xí trước đó, rằng tất cả đều có nguy cơ bị bắn vào đầu hoặc lưng\", chương trình phát sóng trên kênh MRTV của quân đội Myanmar cho hay.Những người biểu tình đã xuống đường gần như mỗi ngày sau khi quân đội bắt Cố vấn Suu Kyi và các quan chức cấp cao trong chính quyền dân cử, với lý do cáo buộc gian lận bầu cử hồi tháng 11/2020 không được giải quyết. Quân đội cam kết chuyển giao quyền lực cho bên chiến thắng sau khi bầu cử được tổ chức lại.Mỹ và các nước phương Tây đang gia tăng áp lực lên chính quyền quân sự Myanmar. Liên minh châu Âu đầu tuần này ra lệnh đóng băng tài sản và cấm nhập cảnh với Thống tướng Min Aung Hlaing và 11 quan chức khác.Vũ Anh (Theo Reuters)\n",
            "17.65% index-document:91 | document:\"Quân đội đang tìm cách chung tay bảo vệ nền dân chủ với cả đất nước. Những hành động bạo lực gây ảnh hưởng tới an ninh và ổn định nhằm đề ra các yêu sách là không phù hợp\", Thống tướng Min Aung Hlaing phát biểu trong lễ duyệt binh kỷ niệm Ngày Các lực lượng vũ trang Myanmar tại thủ đô Naypyitaw hôm nay.Thống tướng Min Aung Hlaing cho biết quân đội tiếp quản quyền lực vì \"những hành động phi pháp\" của Cố vấn Nhà nước Aung San Suu Kyi và đảng Liên minh Quốc gia vì Dân chủ (NLD) của bà, thêm rằng nhiều lãnh đạo NLD bị phát hiện tham nhũng và đang đối mặt với những hành động pháp lý. Ông cũng cam kết tổ chức bầu cử lại, nhưng không đưa ra thời gian biểu cụ thể.Phát biểu được đưa ra trong bối cảnh các tổ chức ở Myanmar cho biết có ít nhất 16 người biểu tình đã chết trong ngày 27/3, nâng tổng số người thiệt mạng kể từ khi quân đội Myanmar tiếp quản quyền lực lên 328.Chính quyền quân sự hôm qua cũng phát cảnh báo tới người biểu tình. \"Mọi người nên học từ thảm kịch của những cái chết xấu xí trước đó, rằng tất cả đều có nguy cơ bị bắn vào đầu hoặc lưng\", chương trình phát sóng trên kênh MRTV của quân đội Myanmar cho hay.Những người biểu tình đã xuống đường gần như mỗi ngày sau khi quân đội bắt Cố vấn Suu Kyi và các quan chức cấp cao trong chính quyền dân cử, với lý do cáo buộc gian lận bầu cử hồi tháng 11/2020 không được giải quyết. Quân đội cam kết chuyển giao quyền lực cho bên chiến thắng sau khi bầu cử được tổ chức lại.Mỹ và các nước phương Tây đang gia tăng áp lực lên chính quyền quân sự Myanmar. Liên minh châu Âu đầu tuần này ra lệnh đóng băng tài sản và cấm nhập cảnh với Thống tướng Min Aung Hlaing và 11 quan chức khác.Vũ Anh (Theo Reuters)\n",
            "6.38% index-document:96 | document:Các cuộc biểu tình tiếp tục diễn ra khắp Myanmar hôm 26/3, bao gồm khu vực Mandalay và Sagaing, cùng bang Karen và Chin. Một nhân chứng cho biết lực lượng an ninh đã nổ súng vào những người biểu tình vẫy cờ đen ở thị trấn Myeik phía nam.\"Hai người bị bắn vào đầu. Chúng tôi không thể đưa thi thể của nạn nhân thứ ba đi bởi lực lượng an ninh tập trung tại đó\", người này kể lại. Một nhân chứng khác cho hay anh đã nhìn thấy thi thể thứ tư, trong khi hãng tin Myanmar Now cũng đưa tin 4 người đã thiệt mạng tại Myeik.Theo số liệu từ nhóm hoạt động Hiệp hội Hỗ trợ Tù nhân Chính trị (AAPP), tình đến tối 25/3, ít nhất 320 người biểu tình đã thiệt mạng kể từ sau cuộc đảo chính quân sự hôm 1/2. Dữ liệu của AAPP còn cho thấy ít nhất 25% tử vong vì bị bắn vào đầu. Một phát ngôn viên quân đội từ chối bình luận về sự việc.Chính quyền quân sự hôm qua đưa ra cảnh báo với người biểu tình. \"Mọi người nên học từ thảm kịch của những cái chết xấu xí trước đó, rằng mọi người có nguy cơ bị bắn vào đầu hoặc lưng\", một chương trình phát sóng trên kênh MRTV của quân đội Myanmar cho hay, thêm rằng lực lượng an ninh quyết ngăn chặn bất cứ trở ngại nào vào Ngày Các lực lượng Vũ trang Myanmar hôm nay.Những người biểu tình đã xuống đường gần như mỗi ngày sau khi quân đội bắt Cố vấn Nhà nước Aung San Suu Kyi và các quan chức cấp cao trong chính quyền dân cử, với lý do cáo buộc gian lận bầu cử hồi tháng 11/2020 không được giải quyết. Quân đội cam kết chuyển giao quyền lực cho bên chiến thắng sau khi bầu cử được tổ chức lại.Ánh Ngọc (Theo Reuters)\n",
            "Time to find by JS_minHash  0.05872082710266113\n"
          ],
          "name": "stdout"
        }
      ]
    },
    {
      "cell_type": "markdown",
      "metadata": {
        "id": "LirM6kkhgiMS"
      },
      "source": [
        "# LOCALLITY SENSITIVE HASHING"
      ]
    },
    {
      "cell_type": "code",
      "metadata": {
        "id": "6BsRs1LOF3Ka",
        "colab": {
          "base_uri": "https://localhost:8080/"
        },
        "outputId": "8c16f762-8063-4205-a441-b06e687e418f"
      },
      "source": [
        "time_LSH = time.time()\n",
        "\n",
        "numBand = 50\n",
        "bucket_value = []\n",
        "bucket_index = []\n",
        "# test = [signatures[0], signatures[0], signatures[0],signatures[1]]\n",
        "\n",
        "for k in range(len(signatures)):\n",
        "  for i in get_band_hashes(signatures[k], numBand):\n",
        "    if i not in bucket_value:\n",
        "      bucket_value.append(i)\n",
        "      bucket_index.append([k])\n",
        "    else:\n",
        "      index = bucket_value.index(i)\n",
        "      bucket_index[index].append(k)\n",
        "\n",
        "Test_input = data[1]\n",
        "lst_result = LSH(Test_input, 5)\n",
        "for x,y in lst_result:\n",
        "  print(\"{}% index-document:{} | document: {}\".format(round(x,2),y, data[y]))\n",
        "\n",
        "print(\"Thời gian tìm kiểm LSH \", time.time() - time_LSH)"
      ],
      "execution_count": 78,
      "outputs": [
        {
          "output_type": "stream",
          "text": [
            "100.0% index-document:1 | document: Người đẹp mặc năng động với crop-top trắng, chân váy kẻ ngang, tạo cảm giác vòng ba đầy đặn hơn.Người đẹp mặc năng động với crop-top trắng, chân váy kẻ ngang, tạo cảm giác vòng ba đầy đặn hơn.Bà mẹ một con giữ dáng bằng cách tập yoga, ăn nhiều hoa quả, rau xanh.Ảnh: Ngô Thanh Sơn. Trang điểm: Hiwon. Stylist: Phạm Bảo Luận.Bà mẹ một con giữ dáng bằng cách tập yoga, ăn nhiều hoa quả, rau xanh.Ảnh: Ngô Thanh Sơn. Trang điểm: Hiwon. Stylist: Phạm Bảo Luận.\n",
            "100.0% index-document:182 | document: Người đẹp mặc năng động với crop-top trắng, chân váy kẻ ngang, tạo cảm giác vòng ba đầy đặn hơn.Người đẹp mặc năng động với crop-top trắng, chân váy kẻ ngang, tạo cảm giác vòng ba đầy đặn hơn.Bà mẹ một con giữ dáng bằng cách tập yoga, ăn nhiều hoa quả, rau xanh.Ảnh: Ngô Thanh Sơn. Trang điểm: Hiwon. Stylist: Phạm Bảo Luận.Bà mẹ một con giữ dáng bằng cách tập yoga, ăn nhiều hoa quả, rau xanh.Ảnh: Ngô Thanh Sơn. Trang điểm: Hiwon. Stylist: Phạm Bảo Luận.\n",
            "2.04% index-document:1636 | document: Hướng dương ngược nắng đang là phim truyền hình Việt được nhiều khán giả quan tâm. Không chỉ bởi kịch bản thú vị, phim còn quy tụ dàn diễn viên trẻ nổi tiếng. Trong đó, vai diễn tiểu thư Minh Ngọc - cô út nhà họ Cao do nữ diễn viên Quỳnh Kool thủ vai nhận được quan tâm lớn không khác các diễn viên khác.Ngọc là tiểu thư con nhà giàu, tính cách ham chơi, chảnh chọe và ngang ngược. Cô nàng bộc lộ rõ sự ghê gớm sau khi hai người con riêng của bố cô xuất hiện và tìm đến nhà để nhận huyết thống. Ngoài tính cách ngoa ngoắt, Minh Ngọc còn gây chú ý bởi gu thời trang đẹp mắt. Mỗi khi xuất hiện, Quỳnh Kool đều \"đầu tư\" cho vai diễn một trang phục khác nhau, đặc điểm chung là đều rất cá tính và sang chảnh, phù hợp với hình tượng con nhà giàu trong phim.Bên cạnh đó, cô nàng cũng tập trung vào lối trang điểm đậm, nhấn nhá phần mắt hoặc tô son đỏ để làm nổi bật cá tính vai diễn. Đây được coi là một trong những vai diễn biến hóa phong cách nhất của Quỳnh Kool trong sự nghiệp diễn xuất.Không chỉ trên màn ảnh, ngoài đời, Quỳnh Kool cũng sở hữu phong cách thời trang ấn tượng. Phong cách thường ngày của Quỳnh Kool được nhiều bạn trẻ học hỏi vì trẻ trung, năng động và cũng không kém phần gợi cảm. Đặc biệt cô có lối trang điểm nhẹ nhàng khác hẳn trong phim.Sở hữu thân hình thanh mảnh và cân đối, Quỳnh Kool không cần có 3 vòng bốc lửa nhưng vẫn gợi cảm và quyến rũ.Trước khi nổi tiếng với loạt phim truyền hình, Quỳnh Kool là một hotgirl tham gia nhiều sitcom với phong cách ăn mặc gợi cảm. Thời gian gần đây, cô thay đổi phong cách và lựa chọn trang phục nhẹ nhàng, nữ tính hơn mỗi khi xuất hiện. Hình ảnh này của nữ diễn viên nhận được nhiều sự ủng hộ của khán giả.Không chỉ khi đi sự kiện, phong cách ngoài đời của nữ diễn viên 26 tuổi cũng nhẹ nhàng hơn. Cô chuộng những chiếc váy hoa duyên dáng đầy nữ tính. Váy hoa là kiểu mẫu rất được lòng Quỳnh Kool bởi vừa đủ tinh tế, vừa tôn được dáng vẻ nữ tính. Những set đồ đơn giản càng làm tôn lên vẻ đẹp mong manh, thanh khiết của Quỳnh Kool.Diễn xuất của Quỳnh Kool trong 'Hướng dương ngược nắng':browser not support iframe.T.K\n",
            "2.04% index-document:3308 | document: Chiều 11/3, Bộ Y tế tổ chức hội nghị cử tri lấy ý kiến tại nơi công tác đối với người ứng cử Đại biểu Quốc hội khoá XV là GS Nguyễn Thanh Long, Uỷ viên Ban chấp hành Trung ương Đảng, Bộ trưởng Y tế.Thứ trưởng Y tế Đỗ Xuân Tuyên trình bày tiêu chuẩn đối với người ứng cử Đại biểu Quốc hội, báo cáo tóm tắt tiểu sử ông Nguyễn Thanh Long.Các ý kiến của cử tri tại hội nghị đều nhấn mạnh, việc GS Nguyễn Thanh Long được Bộ Chính trị giới thiệu ứng cử Đại biểu Quốc hội khoá XV là vinh dự đối với cá nhân ông và của cả ngành y tế.Bộ trưởng Nguyễn Thanh Long phát biểu tại hội nghị. Ảnh: Trần MinhTại hội nghị, các ý kiến đều thống nhất, Bộ trưởng Nguyễn Thanh Long hoàn toàn đủ điều kiện về các tiêu chuẩn phẩm chất chính trị, năng lực chuyên môn để đại diện cho ngành y tế tham gia vào cơ quan lập pháp cao nhất của đất nước.Bộ trưởng Nguyễn Thanh Long cho biết, Bộ Y tế là một trong rất ít các Bộ được Bộ Chính trị phân công người đứng đầu tham gia ứng cử Đại biểu Quốc hội. Bộ Y tế là 1 trong 4 Bộ của khối văn xã tham gia.“Cá nhân tôi nhận thấy, việc ứng cử Đại biểu Quốc hội vừa là vinh dự nhưng đồng thời cũng là trách nhiệm. Nhiều lần tôi đã báo cáo trong các hoạt động của ngành y tế, một trong những nhiệm vụ quan trọng nhất của cá nhân tôi và Ban Cán sự Đảng Bộ Y tế là đưa vị thế của ngành y tế ngày một nâng cao hơn nữa. Muốn làm được điều này thì phải thể hiện qua những hoạt động chuyên môn của ngành”, ông Long chia sẻ.Ông Long cho rằng, khi tham gia Đại biểu Quốc hội, phải làm sao để có những tiếng nói ở nghị trường, làm sao để những văn bản luật liên quan đến ngành y tế trình Quốc hội đều được nhất trí thông qua.100% cử tri tại hội nghị nhất trí giới thiệu Bộ trưởng Nguyễn Thanh Long ứng cử Đại biểu Quốc hội khoá XV. Ảnh: Trần MinhTiếp theo là thông qua những hoạt động giám sát của Quốc hội, tăng cường trách nhiệm giải trình đối với cử tri cả nước. Đây là nhiệm vụ nặng nề. Đồng thời phải lắng nghe ý kiến, tâm tư, nguyện vọng, nắm bắt mong muốn của cử tri, người dân nơi mình ứng cử.Nhu cầu chăm sóc sức khoẻ của người dân ngày càng nâng lên, do đó trách nhiệm của Đại biểu quốc hội nơi ứng cử cũng phải nâng lên.Bộ trưởng Nguyễn Thanh Long mong muốn luôn nhận được sự đồng lòng, nhất trí và ủng hộ của các cử tri để cá nhân ông hoàn thành được nhiệm vụ của một Đại biểu Quốc hội khi được bầu.Kết quả biểu quyết, 100% cử tri (187 người) tại hội nghị nhất trí giới thiệu Bộ trưởng Nguyễn Thanh Long ứng cử Đại biểu Quốc hội khóa XV.Thúy Hạnh\n",
            "2.04% index-document:1191 | document: Sáng nay (17/3), trao đổi với PV VietNamNet, Hoà thượng Thích Quảng Tùng, Trưởng ban trị sự Giáo Hội phật giáo TP Hải Phòng cho biết: Thường trực Giáo hội Phật giáo thành phố đã quyết định xử lý đối với Đại đức Thích Bản Phúc, đang tu hành tại chùa Hưng Khánh, phường Đằng Lâm. Bắt đầu từ hôm nay, Đại đức Thích Bản Phúc sẽ tạm thời rời chùa Hưng Khánh, giao cho thầy nghiệp sư giáo dục ít nhất 3 tháng. Sau 3 tháng, nhà sư này vẫn  không điều chỉnh được cách ứng xử, hành vi sẽ cho ra khỏi giáo hội và yêu cầu hoàn tục.Như đã thông tin, sáng 13/3, chị Đỗ Thị Thu Yến (SN 1980), trú tại phường Đông Khê, TP Hải Phòng phản ánh với PV VietNamNet việc chị và con gái vẫn chưa hết sợ hãi sau 3 ngày bị sư thầy trụ trì chùa Hưng Khánh (còn gọi là chùa Trung Hành), địa chỉ tại phường Đằng Lâm, TP Hải Phòng xua đuổi.Chị Yến kể lại, 10h sáng 13/3 (tức mùng 1/2 âm lịch), chị đưa con gái 14 tháng tuổi ra chùa Hưng Khánh lễ.Ở đây phong cảnh rất đẹp và yên tĩnh. Khi tới cổng chùa, chị Yến dừng lại ở cổng để chụp ảnh cho bé. Ngay lập tức, sư trụ trì chùa đã chạy ra nhổ nắm hương đang cháy ở lư hương gần đó, xua đuổi mẹ con chị.“Thầy chùa đã dùng cả nắm hương đó đập vào tay tôi khiến tôi đau rát. Hai mẹ con chạy khỏi chùa. Con gái tôi sợ hãi rúm ró, về đến nhà vẫn chưa hết hoảng loạn”, chị Yến nói.VietNamNet cũng đã thông tin, năm 2019, Đại đức Thích Bản Phúc cũng đã bị GHPG Việt Nam TP Hải Phòng kỷ luật dưới hình thức kiểm điểm, sám hối vì dọa thả chó cắn Phật tử chụp ảnh tại chùa.Nguyễn Thu Hằng\n",
            "Thời gian tìm kiểm LSH  75.09829902648926\n"
          ],
          "name": "stdout"
        }
      ]
    }
  ]
}