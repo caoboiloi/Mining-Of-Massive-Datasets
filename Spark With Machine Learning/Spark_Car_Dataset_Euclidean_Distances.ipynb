{
  "nbformat": 4,
  "nbformat_minor": 0,
  "metadata": {
    "colab": {
      "name": "Spark_Car_Dataset_Euclidean_Distances.ipynb",
      "provenance": [],
      "collapsed_sections": []
    },
    "kernelspec": {
      "name": "python3",
      "display_name": "Python 3"
    },
    "language_info": {
      "name": "python"
    }
  },
  "cells": [
    {
      "cell_type": "code",
      "metadata": {
        "colab": {
          "base_uri": "https://localhost:8080/"
        },
        "id": "ZhM96IjIfDV7",
        "outputId": "17c70a47-da2d-458d-cd3b-bf5825fceff0"
      },
      "source": [
        "!pip install pyspark"
      ],
      "execution_count": null,
      "outputs": [
        {
          "output_type": "stream",
          "text": [
            "Requirement already satisfied: pyspark in /usr/local/lib/python3.7/dist-packages (3.1.1)\n",
            "Requirement already satisfied: py4j==0.10.9 in /usr/local/lib/python3.7/dist-packages (from pyspark) (0.10.9)\n"
          ],
          "name": "stdout"
        }
      ]
    },
    {
      "cell_type": "code",
      "metadata": {
        "colab": {
          "base_uri": "https://localhost:8080/"
        },
        "id": "fF8CmALlfeaU",
        "outputId": "75c8ac62-d665-4929-e57c-a6f825663975"
      },
      "source": [
        "import pyspark\n",
        "import pandas as pd\n",
        "import numpy as np\n",
        "from pyspark import SparkConf, SparkContext\n",
        "from pyspark.sql import SparkSession\n",
        "from google.colab import drive\n",
        "import time\n",
        "from pyspark.sql import SQLContext\n",
        "drive.mount('/content/drive')\n",
        "import collections\n",
        "from pyspark.mllib.linalg import *\n",
        "from pyspark.ml.feature import HashingTF, IDF, Tokenizer, StopWordsRemover\n",
        "from pyspark.mllib.linalg import SparseVector\n",
        "from scipy.spatial import distance\n",
        "from pyspark.ml import Pipeline\n",
        "from pyspark.ml.feature import StringIndexer\n",
        "import json"
      ],
      "execution_count": null,
      "outputs": [
        {
          "output_type": "stream",
          "text": [
            "Drive already mounted at /content/drive; to attempt to forcibly remount, call drive.mount(\"/content/drive\", force_remount=True).\n"
          ],
          "name": "stdout"
        }
      ]
    },
    {
      "cell_type": "code",
      "metadata": {
        "colab": {
          "base_uri": "https://localhost:8080/"
        },
        "id": "yoPPmlRHgkcZ",
        "outputId": "088005aa-699d-4212-c5c7-38c392557516"
      },
      "source": [
        "begin = time.time()\n",
        "conf = SparkConf().setMaster(\"local[8]\").setAppName(\"Exercise\")\n",
        "sc = SparkContext.getOrCreate(conf=conf)\n",
        "from pyspark.sql.types import StructField\n",
        "from pyspark.sql.types import StructType, StringType, FloatType\n",
        "from pyspark.sql.functions import concat, lit\n",
        "from pyspark.sql.functions import monotonically_increasing_id \n",
        "sql_sc = SparkSession(sc)\n",
        "# load data\n",
        "schema = StructType([\\\n",
        "    StructField(\"buying\", StringType(), True),\\\n",
        "    StructField(\"maint\", StringType(), True),\\\n",
        "    StructField(\"doors\", StringType(), True),\\\n",
        "    StructField(\"persons\", StringType(), True),\\\n",
        "    StructField(\"lug_boot\", StringType(), True),\\\n",
        "    StructField(\"safety\", StringType(), True)])\n",
        "cars_df = sql_sc.read.format('csv').option(\"delimiter\", \",\").schema(schema).option(\"header\", \"true\").load(\"/content/drive/MyDrive/BIGDATA/BT/car.data\")\n",
        "\n",
        "\n",
        "cars_df = cars_df.select(\"*\").withColumn(\"id\", monotonically_increasing_id())\n",
        "cars_df.show()"
      ],
      "execution_count": null,
      "outputs": [
        {
          "output_type": "stream",
          "text": [
            "+------+-----+-----+-------+--------+------+---+\n",
            "|buying|maint|doors|persons|lug_boot|safety| id|\n",
            "+------+-----+-----+-------+--------+------+---+\n",
            "| vhigh|vhigh|    2|      2|   small|   med|  0|\n",
            "| vhigh|vhigh|    2|      2|   small|  high|  1|\n",
            "| vhigh|vhigh|    2|      2|     med|   low|  2|\n",
            "| vhigh|vhigh|    2|      2|     med|   med|  3|\n",
            "| vhigh|vhigh|    2|      2|     med|  high|  4|\n",
            "| vhigh|vhigh|    2|      2|     big|   low|  5|\n",
            "| vhigh|vhigh|    2|      2|     big|   med|  6|\n",
            "| vhigh|vhigh|    2|      2|     big|  high|  7|\n",
            "| vhigh|vhigh|    2|      4|   small|   low|  8|\n",
            "| vhigh|vhigh|    2|      4|   small|   med|  9|\n",
            "| vhigh|vhigh|    2|      4|   small|  high| 10|\n",
            "| vhigh|vhigh|    2|      4|     med|   low| 11|\n",
            "| vhigh|vhigh|    2|      4|     med|   med| 12|\n",
            "| vhigh|vhigh|    2|      4|     med|  high| 13|\n",
            "| vhigh|vhigh|    2|      4|     big|   low| 14|\n",
            "| vhigh|vhigh|    2|      4|     big|   med| 15|\n",
            "| vhigh|vhigh|    2|      4|     big|  high| 16|\n",
            "| vhigh|vhigh|    2|   more|   small|   low| 17|\n",
            "| vhigh|vhigh|    2|   more|   small|   med| 18|\n",
            "| vhigh|vhigh|    2|   more|   small|  high| 19|\n",
            "+------+-----+-----+-------+--------+------+---+\n",
            "only showing top 20 rows\n",
            "\n"
          ],
          "name": "stdout"
        }
      ]
    },
    {
      "cell_type": "code",
      "metadata": {
        "colab": {
          "base_uri": "https://localhost:8080/"
        },
        "id": "0UzVSZSoiCAV",
        "outputId": "3160321b-34f0-4e5c-f344-4e1a5c446467"
      },
      "source": [
        "indexers = [StringIndexer(inputCol=column, outputCol=column+\"_index\").fit(cars_df) for column in list(set(cars_df.columns)-set(['date'])) ]\n",
        "pipeline = Pipeline(stages=indexers)\n",
        "df_r = pipeline.fit(cars_df).transform(cars_df)\n",
        "df_r = df_r.drop(df_r.id_index)\n",
        "df_r.show()"
      ],
      "execution_count": null,
      "outputs": [
        {
          "output_type": "stream",
          "text": [
            "+------+-----+-----+-------+--------+------+---+------------+------------+-------------+-----------+--------------+-----------+\n",
            "|buying|maint|doors|persons|lug_boot|safety| id|safety_index|buying_index|persons_index|maint_index|lug_boot_index|doors_index|\n",
            "+------+-----+-----+-------+--------+------+---+------------+------------+-------------+-----------+--------------+-----------+\n",
            "| vhigh|vhigh|    2|      2|   small|   med|  0|         1.0|         3.0|          2.0|        3.0|           2.0|        3.0|\n",
            "| vhigh|vhigh|    2|      2|   small|  high|  1|         0.0|         3.0|          2.0|        3.0|           2.0|        3.0|\n",
            "| vhigh|vhigh|    2|      2|     med|   low|  2|         2.0|         3.0|          2.0|        3.0|           1.0|        3.0|\n",
            "| vhigh|vhigh|    2|      2|     med|   med|  3|         1.0|         3.0|          2.0|        3.0|           1.0|        3.0|\n",
            "| vhigh|vhigh|    2|      2|     med|  high|  4|         0.0|         3.0|          2.0|        3.0|           1.0|        3.0|\n",
            "| vhigh|vhigh|    2|      2|     big|   low|  5|         2.0|         3.0|          2.0|        3.0|           0.0|        3.0|\n",
            "| vhigh|vhigh|    2|      2|     big|   med|  6|         1.0|         3.0|          2.0|        3.0|           0.0|        3.0|\n",
            "| vhigh|vhigh|    2|      2|     big|  high|  7|         0.0|         3.0|          2.0|        3.0|           0.0|        3.0|\n",
            "| vhigh|vhigh|    2|      4|   small|   low|  8|         2.0|         3.0|          0.0|        3.0|           2.0|        3.0|\n",
            "| vhigh|vhigh|    2|      4|   small|   med|  9|         1.0|         3.0|          0.0|        3.0|           2.0|        3.0|\n",
            "| vhigh|vhigh|    2|      4|   small|  high| 10|         0.0|         3.0|          0.0|        3.0|           2.0|        3.0|\n",
            "| vhigh|vhigh|    2|      4|     med|   low| 11|         2.0|         3.0|          0.0|        3.0|           1.0|        3.0|\n",
            "| vhigh|vhigh|    2|      4|     med|   med| 12|         1.0|         3.0|          0.0|        3.0|           1.0|        3.0|\n",
            "| vhigh|vhigh|    2|      4|     med|  high| 13|         0.0|         3.0|          0.0|        3.0|           1.0|        3.0|\n",
            "| vhigh|vhigh|    2|      4|     big|   low| 14|         2.0|         3.0|          0.0|        3.0|           0.0|        3.0|\n",
            "| vhigh|vhigh|    2|      4|     big|   med| 15|         1.0|         3.0|          0.0|        3.0|           0.0|        3.0|\n",
            "| vhigh|vhigh|    2|      4|     big|  high| 16|         0.0|         3.0|          0.0|        3.0|           0.0|        3.0|\n",
            "| vhigh|vhigh|    2|   more|   small|   low| 17|         2.0|         3.0|          1.0|        3.0|           2.0|        3.0|\n",
            "| vhigh|vhigh|    2|   more|   small|   med| 18|         1.0|         3.0|          1.0|        3.0|           2.0|        3.0|\n",
            "| vhigh|vhigh|    2|   more|   small|  high| 19|         0.0|         3.0|          1.0|        3.0|           2.0|        3.0|\n",
            "+------+-----+-----+-------+--------+------+---+------------+------------+-------------+-----------+--------------+-----------+\n",
            "only showing top 20 rows\n",
            "\n"
          ],
          "name": "stdout"
        }
      ]
    },
    {
      "cell_type": "code",
      "metadata": {
        "colab": {
          "base_uri": "https://localhost:8080/"
        },
        "id": "nu07Y7RplpuV",
        "outputId": "39cd3e26-dcf1-4a98-d1ca-09db2813b9d7"
      },
      "source": [
        "from pyspark.ml.feature import VectorAssembler\n",
        "\n",
        "feature_names = df_r.columns[7:]\n",
        "print(feature_names)\n",
        "assembler = VectorAssembler()\n",
        "assembler.setInputCols(feature_names).setOutputCol('features')\n",
        "transformed_data = assembler.transform(df_r)\n",
        "\n",
        "transformed_data.show()"
      ],
      "execution_count": null,
      "outputs": [
        {
          "output_type": "stream",
          "text": [
            "['safety_index', 'buying_index', 'persons_index', 'maint_index', 'lug_boot_index', 'doors_index']\n",
            "+------+-----+-----+-------+--------+------+---+------------+------------+-------------+-----------+--------------+-----------+--------------------+\n",
            "|buying|maint|doors|persons|lug_boot|safety| id|safety_index|buying_index|persons_index|maint_index|lug_boot_index|doors_index|            features|\n",
            "+------+-----+-----+-------+--------+------+---+------------+------------+-------------+-----------+--------------+-----------+--------------------+\n",
            "| vhigh|vhigh|    2|      2|   small|   med|  0|         1.0|         3.0|          2.0|        3.0|           2.0|        3.0|[1.0,3.0,2.0,3.0,...|\n",
            "| vhigh|vhigh|    2|      2|   small|  high|  1|         0.0|         3.0|          2.0|        3.0|           2.0|        3.0|[0.0,3.0,2.0,3.0,...|\n",
            "| vhigh|vhigh|    2|      2|     med|   low|  2|         2.0|         3.0|          2.0|        3.0|           1.0|        3.0|[2.0,3.0,2.0,3.0,...|\n",
            "| vhigh|vhigh|    2|      2|     med|   med|  3|         1.0|         3.0|          2.0|        3.0|           1.0|        3.0|[1.0,3.0,2.0,3.0,...|\n",
            "| vhigh|vhigh|    2|      2|     med|  high|  4|         0.0|         3.0|          2.0|        3.0|           1.0|        3.0|[0.0,3.0,2.0,3.0,...|\n",
            "| vhigh|vhigh|    2|      2|     big|   low|  5|         2.0|         3.0|          2.0|        3.0|           0.0|        3.0|[2.0,3.0,2.0,3.0,...|\n",
            "| vhigh|vhigh|    2|      2|     big|   med|  6|         1.0|         3.0|          2.0|        3.0|           0.0|        3.0|[1.0,3.0,2.0,3.0,...|\n",
            "| vhigh|vhigh|    2|      2|     big|  high|  7|         0.0|         3.0|          2.0|        3.0|           0.0|        3.0|[0.0,3.0,2.0,3.0,...|\n",
            "| vhigh|vhigh|    2|      4|   small|   low|  8|         2.0|         3.0|          0.0|        3.0|           2.0|        3.0|[2.0,3.0,0.0,3.0,...|\n",
            "| vhigh|vhigh|    2|      4|   small|   med|  9|         1.0|         3.0|          0.0|        3.0|           2.0|        3.0|[1.0,3.0,0.0,3.0,...|\n",
            "| vhigh|vhigh|    2|      4|   small|  high| 10|         0.0|         3.0|          0.0|        3.0|           2.0|        3.0|[0.0,3.0,0.0,3.0,...|\n",
            "| vhigh|vhigh|    2|      4|     med|   low| 11|         2.0|         3.0|          0.0|        3.0|           1.0|        3.0|[2.0,3.0,0.0,3.0,...|\n",
            "| vhigh|vhigh|    2|      4|     med|   med| 12|         1.0|         3.0|          0.0|        3.0|           1.0|        3.0|[1.0,3.0,0.0,3.0,...|\n",
            "| vhigh|vhigh|    2|      4|     med|  high| 13|         0.0|         3.0|          0.0|        3.0|           1.0|        3.0|[0.0,3.0,0.0,3.0,...|\n",
            "| vhigh|vhigh|    2|      4|     big|   low| 14|         2.0|         3.0|          0.0|        3.0|           0.0|        3.0|[2.0,3.0,0.0,3.0,...|\n",
            "| vhigh|vhigh|    2|      4|     big|   med| 15|         1.0|         3.0|          0.0|        3.0|           0.0|        3.0|[1.0,3.0,0.0,3.0,...|\n",
            "| vhigh|vhigh|    2|      4|     big|  high| 16|         0.0|         3.0|          0.0|        3.0|           0.0|        3.0|[0.0,3.0,0.0,3.0,...|\n",
            "| vhigh|vhigh|    2|   more|   small|   low| 17|         2.0|         3.0|          1.0|        3.0|           2.0|        3.0|[2.0,3.0,1.0,3.0,...|\n",
            "| vhigh|vhigh|    2|   more|   small|   med| 18|         1.0|         3.0|          1.0|        3.0|           2.0|        3.0|[1.0,3.0,1.0,3.0,...|\n",
            "| vhigh|vhigh|    2|   more|   small|  high| 19|         0.0|         3.0|          1.0|        3.0|           2.0|        3.0|[0.0,3.0,1.0,3.0,...|\n",
            "+------+-----+-----+-------+--------+------+---+------------+------------+-------------+-----------+--------------+-----------+--------------------+\n",
            "only showing top 20 rows\n",
            "\n"
          ],
          "name": "stdout"
        }
      ]
    },
    {
      "cell_type": "code",
      "metadata": {
        "colab": {
          "base_uri": "https://localhost:8080/"
        },
        "id": "N2hSYODymeoO",
        "outputId": "7fcc854c-2c63-46d8-df7b-8ec3b31b7772"
      },
      "source": [
        "import pyspark.sql.functions as F\n",
        "from scipy.spatial import distance\n",
        "\n",
        "# input\n",
        "input_row = transformed_data.select(\"features\").take(1)[0][0]\n",
        "# print(input_row)\n",
        "distance_udf = F.udf(lambda x: float(distance.euclidean(x, input_row)), FloatType())\n",
        "transformed_data = transformed_data.withColumn('euclidean_distances', distance_udf(F.col('features')))\n",
        "transformed_data.show()\n",
        "b = transformed_data.rdd.map(lambda x: x['euclidean_distances'])\n",
        "result = b.sortBy(lambda x: x,ascending = True).collect()\n",
        "print(\"result:\")\n",
        "print(result[:10])"
      ],
      "execution_count": null,
      "outputs": [
        {
          "output_type": "stream",
          "text": [
            "+------+-----+-----+-------+--------+------+---+------------+------------+-------------+-----------+--------------+-----------+--------------------+-------------------+\n",
            "|buying|maint|doors|persons|lug_boot|safety| id|safety_index|buying_index|persons_index|maint_index|lug_boot_index|doors_index|            features|euclidean_distances|\n",
            "+------+-----+-----+-------+--------+------+---+------------+------------+-------------+-----------+--------------+-----------+--------------------+-------------------+\n",
            "| vhigh|vhigh|    2|      2|   small|   med|  0|         1.0|         3.0|          2.0|        3.0|           2.0|        3.0|[1.0,3.0,2.0,3.0,...|                0.0|\n",
            "| vhigh|vhigh|    2|      2|   small|  high|  1|         0.0|         3.0|          2.0|        3.0|           2.0|        3.0|[0.0,3.0,2.0,3.0,...|                1.0|\n",
            "| vhigh|vhigh|    2|      2|     med|   low|  2|         2.0|         3.0|          2.0|        3.0|           1.0|        3.0|[2.0,3.0,2.0,3.0,...|          1.4142135|\n",
            "| vhigh|vhigh|    2|      2|     med|   med|  3|         1.0|         3.0|          2.0|        3.0|           1.0|        3.0|[1.0,3.0,2.0,3.0,...|                1.0|\n",
            "| vhigh|vhigh|    2|      2|     med|  high|  4|         0.0|         3.0|          2.0|        3.0|           1.0|        3.0|[0.0,3.0,2.0,3.0,...|          1.4142135|\n",
            "| vhigh|vhigh|    2|      2|     big|   low|  5|         2.0|         3.0|          2.0|        3.0|           0.0|        3.0|[2.0,3.0,2.0,3.0,...|           2.236068|\n",
            "| vhigh|vhigh|    2|      2|     big|   med|  6|         1.0|         3.0|          2.0|        3.0|           0.0|        3.0|[1.0,3.0,2.0,3.0,...|                2.0|\n",
            "| vhigh|vhigh|    2|      2|     big|  high|  7|         0.0|         3.0|          2.0|        3.0|           0.0|        3.0|[0.0,3.0,2.0,3.0,...|           2.236068|\n",
            "| vhigh|vhigh|    2|      4|   small|   low|  8|         2.0|         3.0|          0.0|        3.0|           2.0|        3.0|[2.0,3.0,0.0,3.0,...|           2.236068|\n",
            "| vhigh|vhigh|    2|      4|   small|   med|  9|         1.0|         3.0|          0.0|        3.0|           2.0|        3.0|[1.0,3.0,0.0,3.0,...|                2.0|\n",
            "| vhigh|vhigh|    2|      4|   small|  high| 10|         0.0|         3.0|          0.0|        3.0|           2.0|        3.0|[0.0,3.0,0.0,3.0,...|           2.236068|\n",
            "| vhigh|vhigh|    2|      4|     med|   low| 11|         2.0|         3.0|          0.0|        3.0|           1.0|        3.0|[2.0,3.0,0.0,3.0,...|          2.4494898|\n",
            "| vhigh|vhigh|    2|      4|     med|   med| 12|         1.0|         3.0|          0.0|        3.0|           1.0|        3.0|[1.0,3.0,0.0,3.0,...|           2.236068|\n",
            "| vhigh|vhigh|    2|      4|     med|  high| 13|         0.0|         3.0|          0.0|        3.0|           1.0|        3.0|[0.0,3.0,0.0,3.0,...|          2.4494898|\n",
            "| vhigh|vhigh|    2|      4|     big|   low| 14|         2.0|         3.0|          0.0|        3.0|           0.0|        3.0|[2.0,3.0,0.0,3.0,...|                3.0|\n",
            "| vhigh|vhigh|    2|      4|     big|   med| 15|         1.0|         3.0|          0.0|        3.0|           0.0|        3.0|[1.0,3.0,0.0,3.0,...|           2.828427|\n",
            "| vhigh|vhigh|    2|      4|     big|  high| 16|         0.0|         3.0|          0.0|        3.0|           0.0|        3.0|[0.0,3.0,0.0,3.0,...|                3.0|\n",
            "| vhigh|vhigh|    2|   more|   small|   low| 17|         2.0|         3.0|          1.0|        3.0|           2.0|        3.0|[2.0,3.0,1.0,3.0,...|          1.4142135|\n",
            "| vhigh|vhigh|    2|   more|   small|   med| 18|         1.0|         3.0|          1.0|        3.0|           2.0|        3.0|[1.0,3.0,1.0,3.0,...|                1.0|\n",
            "| vhigh|vhigh|    2|   more|   small|  high| 19|         0.0|         3.0|          1.0|        3.0|           2.0|        3.0|[0.0,3.0,1.0,3.0,...|          1.4142135|\n",
            "+------+-----+-----+-------+--------+------+---+------------+------------+-------------+-----------+--------------+-----------+--------------------+-------------------+\n",
            "only showing top 20 rows\n",
            "\n",
            "result:\n",
            "[0.0, 1.0, 1.0, 1.0, 1.0, 1.0, 1.0, 1.4142135381698608, 1.4142135381698608, 1.4142135381698608]\n"
          ],
          "name": "stdout"
        }
      ]
    }
  ]
}